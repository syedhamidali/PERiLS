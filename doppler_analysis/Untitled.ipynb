{
 "cells": [
  {
   "cell_type": "code",
   "execution_count": 8,
   "id": "d7c31956",
   "metadata": {},
   "outputs": [],
   "source": [
    "import xarray as xr\n",
    "import wradlib as wrl\n",
    "import pandas as pd\n",
    "import numpy as np\n",
    "from datetime import datetime, timedelta\n",
    "import matplotlib.pyplot as plt\n",
    "import os\n",
    "import glob\n",
    "import sys"
   ]
  },
  {
   "cell_type": "code",
   "execution_count": 2,
   "id": "156de087",
   "metadata": {},
   "outputs": [
    {
     "name": "stdout",
     "output_type": "stream",
     "text": [
      "(33.89667, -88.32889, 476)\n",
      "       ID       lat       lon     elev  distance\n",
      "63   KGWX  33.89667 -88.32889    476.0  0.000000\n",
      "13   KBMX  33.17194 -86.76972    645.0  1.719373\n",
      "188  TMEM  34.88670 -90.00070    483.0  1.942964\n",
      "109  KNQA  35.34472 -89.87333    282.0  2.117107\n",
      "31   KDGX  32.28000 -89.98444 -99999.0  2.313972\n"
     ]
    }
   ],
   "source": [
    "import urllib.request\n",
    "url = \"https://raw.githubusercontent.com/syedhamidali/test_scripts/master/nearest_nexrad.py\"\n",
    "urllib.request.urlretrieve(url, \"nearest_nexrad.py\")\n",
    "import nearest_nexrad as nrnx\n",
    "print(nrnx.get_nexrad_location(\"KGWX\"))\n",
    "print(nrnx.nearest_sites(33.89667, -88.32889, 5))"
   ]
  },
  {
   "cell_type": "code",
   "execution_count": 4,
   "id": "3e5bd32c",
   "metadata": {},
   "outputs": [],
   "source": [
    "BASE_PATH = \"/depot/dawson29/data/Projects/PERiLS/obsdata/2022/\""
   ]
  },
  {
   "cell_type": "code",
   "execution_count": 3,
   "id": "735af124",
   "metadata": {},
   "outputs": [],
   "source": [
    "IOP = [\"IOP1\", \"IOP2\", \"IOP3\", \"IOP4\"]\n",
    "NEXRAD = ['KGWX', 'KBMX', 'TMEM']\n",
    "RADAR = [, \"COW1\", \"DOW7\", \"DOW8\", \"UAH\", \"NOXP\", \"SMARTR1\",\"SMARTR2\"]\n",
    "SND_UIUC = ['SONDE1', 'SONDE2', 'SONDE3', 'SONDE4', 'SONDE5']\n",
    "SND_UAH = [\"UAH_sounding\"]\n",
    "SND_ULM = ['ULM']\n",
    "DISDROMETER = [\"PIPS_data\", \"UAH_MAPNET_Parsivel\"]"
   ]
  },
  {
   "cell_type": "code",
   "execution_count": 42,
   "id": "f870f992",
   "metadata": {},
   "outputs": [
    {
     "data": {
      "text/plain": [
       "'/depot/dawson29/data/Projects/PERiLS/obsdata/2022/'"
      ]
     },
     "execution_count": 42,
     "metadata": {},
     "output_type": "execute_result"
    }
   ],
   "source": [
    "'/depot/dawson29/data/Projects/PERiLS/obsdata/2022/NEXRAD/IOP1/'"
   ]
  },
  {
   "cell_type": "code",
   "execution_count": null,
   "id": "f883eda5",
   "metadata": {},
   "outputs": [],
   "source": []
  },
  {
   "cell_type": "code",
   "execution_count": null,
   "id": "4237b9fd",
   "metadata": {},
   "outputs": [],
   "source": []
  }
 ],
 "metadata": {
  "kernelspec": {
   "display_name": "Python (My perils Kernel)",
   "language": "python",
   "name": "perils"
  },
  "language_info": {
   "codemirror_mode": {
    "name": "ipython",
    "version": 3
   },
   "file_extension": ".py",
   "mimetype": "text/x-python",
   "name": "python",
   "nbconvert_exporter": "python",
   "pygments_lexer": "ipython3",
   "version": "3.10.8"
  }
 },
 "nbformat": 4,
 "nbformat_minor": 5
}
