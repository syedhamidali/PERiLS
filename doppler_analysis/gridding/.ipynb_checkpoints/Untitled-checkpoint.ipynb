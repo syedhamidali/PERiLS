{
 "cells": [
  {
   "cell_type": "code",
   "execution_count": 1,
   "id": "faa6ea9c",
   "metadata": {
    "scrolled": true
   },
   "outputs": [
    {
     "name": "stdout",
     "output_type": "stream",
     "text": [
      "\n",
      "## You are using the Python ARM Radar Toolkit (Py-ART), an open source\n",
      "## library for working with weather radar data. Py-ART is partly\n",
      "## supported by the U.S. Department of Energy as part of the Atmospheric\n",
      "## Radiation Measurement (ARM) Climate Research Facility, an Office of\n",
      "## Science user facility.\n",
      "##\n",
      "## If you use this software to prepare a publication, please cite:\n",
      "##\n",
      "##     JJ Helmus and SM Collis, JORS 2016, doi: 10.5334/jors.119\n",
      "\n"
     ]
    },
    {
     "name": "stderr",
     "output_type": "stream",
     "text": [
      "<frozen importlib._bootstrap>:283: DeprecationWarning: the load_module() method is deprecated and slated for removal in Python 3.12; use exec_module() instead\n"
     ]
    }
   ],
   "source": [
    "import numpy as np\n",
    "import glob\n",
    "# from distributed import Client, LocalCluster\n",
    "import xarray as xr\n",
    "import cartopy.crs as ccrs\n",
    "import concurrent.futures\n",
    "import matplotlib.pyplot as plt\n",
    "import parallel_gridding as pg"
   ]
  },
  {
   "cell_type": "code",
   "execution_count": 2,
   "id": "9b2bcbec",
   "metadata": {
    "scrolled": true
   },
   "outputs": [],
   "source": [
    "# cluster = LocalCluster()\n",
    "# client = Client(cluster)\n",
    "# client"
   ]
  },
  {
   "cell_type": "code",
   "execution_count": 3,
   "id": "ca1a6d4a",
   "metadata": {},
   "outputs": [],
   "source": [
    "# nexrad_dir = \"/depot/dawson29/data/Projects/PERiLS/obsdata/2022/\"\n",
    "# data_files = pg.get_nexrad_data_files(\"20220330220000\", \"20220331040000\")"
   ]
  },
  {
   "cell_type": "code",
   "execution_count": 4,
   "id": "f1f6dcdc",
   "metadata": {
    "scrolled": true
   },
   "outputs": [],
   "source": [
    "# # Create a list of tasks to process the data files\n",
    "# tasks = [client.submit(pg.process_file, nexrad_dir, f) for f in data_files[:2]]\n",
    "\n",
    "# # Gather the results of the tasks\n",
    "# results = client.gather(tasks)"
   ]
  },
  {
   "cell_type": "code",
   "execution_count": 5,
   "id": "e0b0a45e",
   "metadata": {},
   "outputs": [],
   "source": [
    "# !ls /depot/dawson29/data/Projects/PERiLS/obsdata/2022/GRID/IOP2/KGWX/"
   ]
  },
  {
   "cell_type": "code",
   "execution_count": null,
   "id": "1c67c7f7",
   "metadata": {},
   "outputs": [
    {
     "name": "stdout",
     "output_type": "stream",
     "text": [
      "Available files:  54\n",
      "Reading file: KGWX20220330_220424_V06.nc\n",
      "Reading file: KGWX20220330_221124_V06.nc\n",
      "Reading file: KGWX20220330_221824_V06.nc\n",
      "Reading file: KGWX20220330_222523_V06.nc\n"
     ]
    }
   ],
   "source": [
    "%%timeit\n",
    "nexrad_dir = \"/depot/dawson29/data/Projects/PERiLS/obsdata/2022/\"\n",
    "data_files = pg.get_nexrad_data_files(\"20220330220000\", \"20220331040000\")\n",
    "\n",
    "# Create a thread pool executor with 100 threads\n",
    "with concurrent.futures.ThreadPoolExecutor(max_workers=500) as executor:\n",
    "    # Submit the tasks to the executor\n",
    "    results = [executor.submit(pg.process_file, nexrad_dir, f) for f in data_files]\n",
    "    # Wait for all tasks to complete\n",
    "    concurrent.futures.wait(results)\n"
   ]
  },
  {
   "cell_type": "code",
   "execution_count": 148,
   "id": "e7638803",
   "metadata": {},
   "outputs": [
    {
     "name": "stdout",
     "output_type": "stream",
     "text": [
      "Submitted batch job 25603080\r\n"
     ]
    }
   ],
   "source": [
    "!sbatch sbatch_parallel_gridding.sbatch"
   ]
  },
  {
   "cell_type": "code",
   "execution_count": 150,
   "id": "2ed406f0",
   "metadata": {},
   "outputs": [],
   "source": [
    "job = 25603080"
   ]
  },
  {
   "cell_type": "code",
   "execution_count": 149,
   "id": "b4041716",
   "metadata": {},
   "outputs": [
    {
     "name": "stdout",
     "output_type": "stream",
     "text": [
      "JOBID        USER      ACCOUNT      NAME             NODES   CPUS  TIME_LIMIT ST TIME\r\n",
      "25514127     syed44    dawson29     OnDemand/Noteboo     1     16  5-00:00:00  R 3-07:41:23\r\n",
      "25598287     jiang703  dawson29     100mSFreer19         7    400  3-00:00:00  R 5:28:02\r\n",
      "25603080     syed44    dawson29     sbatch_parallel_     4    128  1-00:00:00  R 0:09\r\n"
     ]
    }
   ],
   "source": [
    "!squeue -A dawson29"
   ]
  },
  {
   "cell_type": "code",
   "execution_count": 153,
   "id": "7486e6e3",
   "metadata": {
    "scrolled": false
   },
   "outputs": [
    {
     "name": "stdout",
     "output_type": "stream",
     "text": [
      "/depot/dawson29/data/Projects/PERiLS/apps/perils/lib/python3.10/site-packages/pyart/correct/region_dealias.py:287: UserWarning: Velocities outside of the Nyquist interval found in sweep 2.\r\n",
      "  warnings.warn(msg, UserWarning)\r\n",
      "/depot/dawson29/data/Projects/PERiLS/apps/perils/lib/python3.10/site-packages/pyart/correct/region_dealias.py:287: UserWarning: Velocities outside of the Nyquist interval found in sweep 3.\r\n",
      "  warnings.warn(msg, UserWarning)\r\n",
      "/depot/dawson29/data/Projects/PERiLS/apps/perils/lib/python3.10/site-packages/pyart/correct/region_dealias.py:287: UserWarning: Velocities outside of the Nyquist interval found in sweep 4.\r\n",
      "  warnings.warn(msg, UserWarning)\r\n",
      "/depot/dawson29/data/Projects/PERiLS/apps/perils/lib/python3.10/site-packages/pyart/correct/region_dealias.py:287: UserWarning: Velocities outside of the Nyquist interval found in sweep 5.\r\n",
      "  warnings.warn(msg, UserWarning)\r\n",
      "/depot/dawson29/data/Projects/PERiLS/apps/perils/lib/python3.10/site-packages/pyart/correct/region_dealias.py:287: UserWarning: Velocities outside of the Nyquist interval found in sweep 6.\r\n",
      "  warnings.warn(msg, UserWarning)\r\n"
     ]
    }
   ],
   "source": [
    "!tail parallel_gridding.out"
   ]
  },
  {
   "cell_type": "code",
   "execution_count": 48,
   "id": "a25af96d",
   "metadata": {},
   "outputs": [
    {
     "name": "stdout",
     "output_type": "stream",
     "text": [
      "total 54\r\n",
      "drwxrws---+ 2 syed44 dawson29-data 4096 Jun  2 12:38 KGWX20220330_232552_V06.nc\r\n",
      "drwxrws---+ 2 syed44 dawson29-data 4096 Jun  2 12:38 KGWX20220330_233952_V06.nc\r\n",
      "drwxrws---+ 2 syed44 dawson29-data 4096 Jun  2 12:38 KGWX20220330_233252_V06.nc\r\n",
      "drwxrws---+ 2 syed44 dawson29-data 4096 Jun  2 12:37 KGWX20220330_234639_V06.nc\r\n",
      "drwxrws---+ 2 syed44 dawson29-data 4096 Jun  2 12:37 KGWX20220330_225209_V06.nc\r\n",
      "drwxrws---+ 2 syed44 dawson29-data 4096 Jun  2 12:37 KGWX20220330_231240_V06.nc\r\n",
      "drwxrws---+ 2 syed44 dawson29-data 4096 Jun  2 12:37 KGWX20220330_235324_V06.nc\r\n",
      "drwxrws---+ 2 syed44 dawson29-data 4096 Jun  2 12:37 KGWX20220330_223845_V06.nc\r\n",
      "drwxrws---+ 2 syed44 dawson29-data 4096 Jun  2 12:37 KGWX20220330_222523_V06.nc\r\n",
      "drwxrws---+ 2 syed44 dawson29-data 4096 Jun  2 12:37 KGWX20220331_021011_V06.nc\r\n",
      "drwxrws---+ 2 syed44 dawson29-data 4096 Jun  2 12:37 KGWX20220330_230555_V06.nc\r\n",
      "drwxrws---+ 2 syed44 dawson29-data 4096 Jun  2 12:37 KGWX20220330_221824_V06.nc\r\n",
      "drwxrws---+ 2 syed44 dawson29-data 4096 Jun  2 12:37 KGWX20220330_231927_V06.nc\r\n",
      "drwxrws---+ 2 syed44 dawson29-data 4096 Jun  2 12:37 KGWX20220330_221124_V06.nc\r\n",
      "drwxrws---+ 2 syed44 dawson29-data 4096 Jun  2 12:37 KGWX20220330_225909_V06.nc\r\n",
      "drwxrws---+ 2 syed44 dawson29-data 4096 Jun  2 12:37 KGWX20220330_220424_V06.nc\r\n",
      "drwxrws---+ 2 syed44 dawson29-data 4096 Jun  2 12:37 KGWX20220331_024306_V06.nc\r\n",
      "drwxrws---+ 2 syed44 dawson29-data 4096 Jun  2 12:37 KGWX20220331_020336_V06.nc\r\n",
      "drwxrws---+ 2 syed44 dawson29-data 4096 Jun  2 12:37 KGWX20220331_025006_V06.nc\r\n",
      "drwxrws---+ 2 syed44 dawson29-data 4096 Jun  2 12:37 KGWX20220331_000624_V06.nc\r\n",
      "drwxrws---+ 2 syed44 dawson29-data 4096 Jun  2 12:37 KGWX20220331_002655_V06.nc\r\n",
      "drwxrws---+ 2 syed44 dawson29-data 4096 Jun  2 12:37 KGWX20220330_235959_V06.nc\r\n",
      "drwxrws---+ 2 syed44 dawson29-data 4096 Jun  2 12:37 KGWX20220331_004620_V06.nc\r\n",
      "drwxrws---+ 2 syed44 dawson29-data 4096 Jun  2 12:37 KGWX20220331_021712_V06.nc\r\n",
      "drwxrws---+ 2 syed44 dawson29-data 4096 Jun  2 12:37 KGWX20220331_031051_V06.nc\r\n",
      "drwxrws---+ 2 syed44 dawson29-data 4096 Jun  2 12:37 KGWX20220330_224545_V06.nc\r\n",
      "drwxrws---+ 2 syed44 dawson29-data 4096 Jun  2 12:37 KGWX20220331_001259_V06.nc\r\n",
      "drwxrws---+ 2 syed44 dawson29-data 4096 Jun  2 12:37 KGWX20220331_002040_V06.nc\r\n",
      "drwxrws---+ 2 syed44 dawson29-data 4096 Jun  2 12:37 KGWX20220330_223210_V06.nc\r\n",
      "drwxrws---+ 2 syed44 dawson29-data 4096 Jun  2 12:36 KGWX20220331_031736_V06.nc\r\n",
      "drwxrws---+ 2 syed44 dawson29-data 4096 Jun  2 12:36 KGWX20220331_013833_V06.nc\r\n",
      "drwxrws---+ 2 syed44 dawson29-data 4096 Jun  2 12:36 KGWX20220331_023641_V06.nc\r\n",
      "drwxrws---+ 2 syed44 dawson29-data 4096 Jun  2 12:36 KGWX20220331_025705_V06.nc\r\n",
      "drwxrws---+ 2 syed44 dawson29-data 4096 Jun  2 12:36 KGWX20220331_015720_V06.nc\r\n",
      "drwxrws---+ 2 syed44 dawson29-data 4096 Jun  2 12:36 KGWX20220331_003955_V06.nc\r\n",
      "drwxrws---+ 2 syed44 dawson29-data 4096 Jun  2 12:36 KGWX20220331_014449_V06.nc\r\n",
      "drwxrws---+ 2 syed44 dawson29-data 4096 Jun  2 12:36 KGWX20220331_022411_V06.nc\r\n",
      "drwxrws---+ 2 syed44 dawson29-data 4096 Jun  2 12:36 KGWX20220331_012508_V06.nc\r\n",
      "drwxrws---+ 2 syed44 dawson29-data 4096 Jun  2 12:36 KGWX20220331_030405_V06.nc\r\n",
      "drwxrws---+ 2 syed44 dawson29-data 4096 Jun  2 12:36 KGWX20220331_023026_V06.nc\r\n",
      "drwxrws---+ 2 syed44 dawson29-data 4096 Jun  2 12:36 KGWX20220331_033724_V06.nc\r\n",
      "drwxrws---+ 2 syed44 dawson29-data 4096 Jun  2 12:36 KGWX20220331_003330_V06.nc\r\n",
      "drwxrws---+ 2 syed44 dawson29-data 4096 Jun  2 12:36 KGWX20220331_011809_V06.nc\r\n",
      "drwxrws---+ 2 syed44 dawson29-data 4096 Jun  2 12:36 KGWX20220331_032407_V06.nc\r\n",
      "drwxrws---+ 2 syed44 dawson29-data 4096 Jun  2 12:36 KGWX20220331_010537_V06.nc\r\n",
      "drwxrws---+ 2 syed44 dawson29-data 4096 Jun  2 12:36 KGWX20220331_033052_V06.nc\r\n",
      "drwxrws---+ 2 syed44 dawson29-data 4096 Jun  2 12:36 KGWX20220331_005921_V06.nc\r\n",
      "drwxrws---+ 2 syed44 dawson29-data 4096 Jun  2 12:36 KGWX20220331_011153_V06.nc\r\n",
      "drwxrws---+ 2 syed44 dawson29-data 4096 Jun  2 12:36 KGWX20220331_005306_V06.nc\r\n",
      "drwxrws---+ 2 syed44 dawson29-data 4096 Jun  2 12:36 KGWX20220331_015105_V06.nc\r\n",
      "drwxrws---+ 2 syed44 dawson29-data 4096 Jun  2 12:36 KGWX20220331_013208_V06.nc\r\n",
      "drwxrws---+ 2 syed44 dawson29-data 4096 Jun  2 12:36 KGWX20220331_034356_V06.nc\r\n",
      "drwxrws---+ 2 syed44 dawson29-data 4096 Jun  2 12:36 KGWX20220331_035633_V06.nc\r\n",
      "drwxrws---+ 2 syed44 dawson29-data 4096 Jun  2 12:36 KGWX20220331_035014_V06.nc\r\n"
     ]
    }
   ],
   "source": [
    "!ls -lt \"/depot/dawson29/data/Projects/PERiLS/obsdata/2022/GRID/IOP2/KGWX/\""
   ]
  },
  {
   "cell_type": "code",
   "execution_count": 54,
   "id": "4e38e575",
   "metadata": {},
   "outputs": [],
   "source": [
    "import pyart\n",
    "import os\n",
    "import glob"
   ]
  },
  {
   "cell_type": "code",
   "execution_count": 62,
   "id": "09a3e92f",
   "metadata": {},
   "outputs": [],
   "source": [
    "data_path = \"/depot/dawson29/data/Projects/PERiLS/obsdata/2022/GRID/IOP2/KGWX\""
   ]
  },
  {
   "cell_type": "code",
   "execution_count": 63,
   "id": "f1ec7f99",
   "metadata": {},
   "outputs": [
    {
     "data": {
      "text/plain": [
       "54"
      ]
     },
     "execution_count": 63,
     "metadata": {},
     "output_type": "execute_result"
    }
   ],
   "source": [
    "files = sorted(glob.glob(os.path.join(data_path, \"*.nc\")))\n",
    "len(files)"
   ]
  },
  {
   "cell_type": "code",
   "execution_count": 8,
   "id": "95d8f7f7",
   "metadata": {},
   "outputs": [],
   "source": [
    "import warnings\n",
    "warnings.filterwarnings(\"ignore\")\n",
    "import pyart\n",
    "import numpy as np\n",
    "from matplotlib import pyplot as plt\n",
    "import glob\n",
    "from datetime import datetime\n",
    "import time\n",
    "import os\n",
    "import shutil\n",
    "import multiprocessing as mp\n",
    "\n",
    "\n",
    "def _drop_fields(radar):\n",
    "    fields_to_drop = [\"PURPLE_HAZE\"]\n",
    "    for field in fields_to_drop:\n",
    "        if field in radar.fields:\n",
    "            del radar.fields[field]\n",
    "\n",
    "    return radar\n",
    "\n",
    "\n",
    "#function to dealiase the Doppler velocity\n",
    "def dealiase(radar, vel_name='velocity', gatefilter=None, method=\"unwrap\"):\n",
    "    '''\n",
    "    Dealias Doppler velocities using Py-ART.\n",
    "    method : str\n",
    "        Method to use for the dealiasing. Can be 'unwrap' or 'region'.\n",
    "    '''\n",
    "    # Create a GateFilter if one was not provided\n",
    "    if gatefilter is None:\n",
    "        gatefilter = pyart.correct.GateFilter(radar)\n",
    "        gatefilter.include_above(\"REF\", 0)\n",
    "        gatefilter.exclude_masked('REF')\n",
    "        gatefilter.exclude_invalid('REF')\n",
    "        gatefilter.exclude_transition()\n",
    "    # Dealias Doppler velocities using the selected method\n",
    "    if method == \"unwrap\":\n",
    "        corr_vel = pyart.correct.dealias_unwrap_phase(radar, vel_field=vel_name,\n",
    "                                                      keep_original=False, gatefilter=gatefilter)\n",
    "    elif method == \"region\":\n",
    "        corr_vel = pyart.correct.dealias_region_based(radar, vel_field=vel_name,\n",
    "                                                      keep_original=False, gatefilter=gatefilter)\n",
    "    # Add the dealiased Doppler velocities to the radar object\n",
    "    radar.add_field(vel_name, corr_vel, replace_existing=True)\n",
    "    return radar\n",
    "\n",
    "\n",
    "def filter_data(radar, refl_field, vel_field, dealias_method=\"region\"):\n",
    "    '''Remove noise based on velocity texture,snr, and rhohv, and mask all the fields'''\n",
    "    # Drop some fields\n",
    "    radar = _drop_fields(radar)\n",
    "    # Align radar coords\n",
    "    radar.scan_type = b'ppi'\n",
    "    # Dealias\n",
    "    radar = dealiase(radar, vel_name=vel_field, gatefilter=None, method=dealias_method)\n",
    "    return radar\n",
    "\n",
    "\n",
    "def get_nexrad_data_files(start_time: str, end_time: str) -> list:\n",
    "    '''start_time: str ('YYYYMMDDHHMMSS')\n",
    "       end_time: str ('YYYYMMDDHHMMSS')'''\n",
    "    \n",
    "    start_datetime = datetime.strptime(start_time, '%Y%m%d%H%M%S')\n",
    "    end_datetime = datetime.strptime(end_time, '%Y%m%d%H%M%S')\n",
    "    \n",
    "    nexrad_dir = \"/depot/dawson29/data/Projects/PERiLS/obsdata/2022/NEXRAD/\"\n",
    "    data_files = []\n",
    "    for iop in [\"IOP2\"]:\n",
    "        for radar_name in ['KGWX']:\n",
    "            data_files.extend(sorted(glob.glob(f\"{nexrad_dir}{iop}/{radar_name}/*V06.nc\")))\n",
    "    \n",
    "    data_files_filtered = []\n",
    "    for file in data_files:\n",
    "#         print(file.split('/')[-1].split(\"KGWX\")[1].split(\"_V\")[0])\n",
    "        file_datetime_str = file.split('/')[-1].split(\"KGWX\")[1].split(\"_V\")[0]\n",
    "        file_datetime = datetime.strptime(file_datetime_str, '%Y%m%d_%H%M%S')\n",
    "        if start_datetime <= file_datetime < end_datetime:\n",
    "            data_files_filtered.append(file)\n",
    "    \n",
    "    print(\"Available files: \", len(data_files_filtered))\n",
    "#     for file in data_files_filtered:\n",
    "#         print(file.split(\"/\")[-1])\n",
    "        \n",
    "    return data_files_filtered\n",
    "\n",
    "\n",
    "# Define a function that takes a file name and writes the GRID file\n",
    "def process_file(outdir, rfile):\n",
    "    print(f'Reading file: {os.path.basename(rfile)}')\n",
    "    radar = pyart.io.read(rfile)\n",
    "    radar = filter_data(radar, \"DBZ\", \"VEL\")\n",
    "    max_rng = 200.0*1e3 # np.ceil(radar.range['data'].max())\n",
    "    grid = pyart.map.grid_from_radars(radar,(61,801,801),\n",
    "                       ((0.,15e3),(-max_rng, max_rng),(-max_rng, max_rng)), \n",
    "                                       weighting_function='Barnes2',\n",
    "                                      fields=['REF', 'VEL', 'ZDR', \"RHO\"])\n",
    "\n",
    "    print(f'Deleting Radar Object: {os.path.basename(rfile)}')\n",
    "    del radar\n",
    "    \n",
    "    grid_file_path = os.path.join(outdir,\"IOP2/KGWX\")\n",
    "    # Remove the existing directory if it already exists\n",
    "    if os.path.exists(grid_file_path):\n",
    "        shutil.rmtree(grid_file_path)\n",
    "\n",
    "    os.makedirs(grid_file_path)\n",
    "    print(f\"Saving in:{grid_file_path} as {os.path.basename(rfile)}\\n\")\n",
    "    # write grid\n",
    "    pyart.io.write_grid(filename=os.path.join(grid_file_path, os.path.basename(rfile)), grid=grid)\n",
    "\n",
    "\n",
    "def process_file_wrapper(args):\n",
    "    return process_file(*args)\n",
    "\n",
    "\n",
    "outdir = \"/depot/dawson29/data/Projects/PERiLS/obsdata/2022/\"\n",
    "data_files = get_nexrad_data_files(\"20220330220000\", \"20220331040000\")\n",
    "\n",
    "# Create a pool of worker processes with 100 CPUs\n",
    "#pool = mp.Pool(processes=100)\n",
    "\n",
    "# Create a Pool with 4 worker processes\n",
    "with Pool() as pool:\n",
    "    results = pool.map(process_file_wrapper, [(outdir, f) for f in data_files])\n",
    "    \n",
    "    \n",
    "# Map the data files to the process_file function to process them in parallel\n",
    "#results = pool.map(process_file_wrapper, [(outdir, f) for f in data_files])\n",
    "\n",
    "# Close the pool of worker processes\n",
    "pool.close()\n",
    "pool.join()"
   ]
  },
  {
   "cell_type": "code",
   "execution_count": 9,
   "id": "19936790",
   "metadata": {
    "scrolled": true
   },
   "outputs": [
    {
     "name": "stdout",
     "output_type": "stream",
     "text": [
      "Available files:  54\n",
      "Reading file: KGWX20220330_220424_V06.nc\n",
      "Deleting Radar Object: KGWX20220330_220424_V06.nc\n",
      "Saving in:/depot/dawson29/data/Projects/PERiLS/obsdata/2022/GRID/IOP2/KGWX as KGWX20220330_220424_V06.nc\n",
      "\n",
      "/depot/dawson29/data/Projects/PERiLS/obsdata/2022/GRID/IOP2/KGWX/KGWX20220330_220424_V06.nc\n"
     ]
    }
   ],
   "source": [
    "outdir = \"/depot/dawson29/data/Projects/PERiLS/obsdata/2022/GRID/\"\n",
    "data_files = get_nexrad_data_files(\"20220330220000\", \"20220331040000\")\n",
    "process_file(outdir = outdir, rfile=data_files[0])"
   ]
  },
  {
   "cell_type": "code",
   "execution_count": null,
   "id": "20f942d1",
   "metadata": {},
   "outputs": [],
   "source": []
  },
  {
   "cell_type": "code",
   "execution_count": null,
   "id": "340ddeb6",
   "metadata": {},
   "outputs": [],
   "source": []
  },
  {
   "cell_type": "code",
   "execution_count": null,
   "id": "109976f4",
   "metadata": {},
   "outputs": [],
   "source": []
  },
  {
   "cell_type": "code",
   "execution_count": 178,
   "id": "0d8af598",
   "metadata": {
    "scrolled": true
   },
   "outputs": [],
   "source": [
    "# !sbatch sbatch_parallel_gridding.sbatch"
   ]
  },
  {
   "cell_type": "code",
   "execution_count": null,
   "id": "58b7d9c6",
   "metadata": {},
   "outputs": [],
   "source": []
  },
  {
   "cell_type": "code",
   "execution_count": null,
   "id": "5fa684bc",
   "metadata": {},
   "outputs": [],
   "source": []
  },
  {
   "cell_type": "code",
   "execution_count": null,
   "id": "b763184a",
   "metadata": {},
   "outputs": [],
   "source": []
  },
  {
   "cell_type": "code",
   "execution_count": 49,
   "id": "633ccc06",
   "metadata": {},
   "outputs": [
    {
     "name": "stdout",
     "output_type": "stream",
     "text": [
      "Submitted job with ID: 25701334\n"
     ]
    }
   ],
   "source": [
    "import subprocess\n",
    "\n",
    "sbatch_command = \"sbatch sbatch_parallel_gridding.sbatch\"\n",
    "output = subprocess.check_output(sbatch_command, shell=True)\n",
    "job_id = output.decode('utf-8').strip().split()[-1]\n",
    "\n",
    "print(\"Submitted job with ID:\", job_id)"
   ]
  },
  {
   "cell_type": "code",
   "execution_count": 19,
   "id": "fa883d4c",
   "metadata": {},
   "outputs": [
    {
     "name": "stdout",
     "output_type": "stream",
     "text": [
      "JOBID        USER      ACCOUNT      NAME             NODES   CPUS  TIME_LIMIT ST TIME\r\n",
      "25630030     syed44    dawson29     OnDemand/Noteboo     1     16  5-00:00:00  R 3-04:30:11\r\n",
      "25707890     jiang703  dawson29     OnDemand/Noteboo     1     12     6:00:00  R 1:17:51\r\n",
      "25706197     kaxon     dawson29     OnDemand/Desktop     1      4  2-12:00:00  R 2:26:02\r\n",
      "25700093     jiang703  dawson29     R50r15kmCdFreeC1    15    400  3-00:00:00  R 15:57:22\r\n"
     ]
    }
   ],
   "source": [
    "!squeue -A dawson29"
   ]
  },
  {
   "cell_type": "code",
   "execution_count": 62,
   "id": "bdbec040",
   "metadata": {},
   "outputs": [
    {
     "name": "stdout",
     "output_type": "stream",
     "text": [
      "JOBID        USER      ACCOUNT      NAME             NODES   CPUS  TIME_LIMIT ST TIME\r\n",
      "25701334     syed44    dawson29     sbatch_parallel_     2    256  1-00:00:00 PD 0:00\r\n"
     ]
    }
   ],
   "source": [
    "!squeue -j $job_id"
   ]
  },
  {
   "cell_type": "code",
   "execution_count": 63,
   "id": "031160b8",
   "metadata": {},
   "outputs": [
    {
     "name": "stdout",
     "output_type": "stream",
     "text": [
      "Saving in: /depot/dawson29/data/Projects/PERiLS/obsdata/2022/GRID/IOP2/UAH as RAW_NA_000_100_20220331010202.nc\r\n",
      "\r\n",
      "Reading file: RAW_NA_000_100_20220330195757.nc\r\n",
      "Deleting Radar Object: RAW_NA_000_100_20220330195757.nc\r\n",
      "Saving in: /depot/dawson29/data/Projects/PERiLS/obsdata/2022/GRID/IOP2/UAH as RAW_NA_000_100_20220330195757.nc\r\n",
      "\r\n",
      "Reading file: RAW_NA_000_100_20220331011803.nc\r\n",
      "Deleting Radar Object: RAW_NA_000_100_20220331011803.nc\r\n",
      "Saving in: /depot/dawson29/data/Projects/PERiLS/obsdata/2022/GRID/IOP2/UAH as RAW_NA_000_100_20220331011803.nc\r\n",
      "\r\n"
     ]
    }
   ],
   "source": [
    "!tail parallel_gridding.out"
   ]
  },
  {
   "cell_type": "code",
   "execution_count": 342,
   "id": "065e2918",
   "metadata": {},
   "outputs": [],
   "source": [
    "# !scancel $job_id"
   ]
  },
  {
   "cell_type": "code",
   "execution_count": 361,
   "id": "6fdef79b",
   "metadata": {},
   "outputs": [
    {
     "name": "stdout",
     "output_type": "stream",
     "text": [
      "total 29G\r\n",
      "-rw-rw---- 1 syed44 dawson29-data 301M Jun  5 12:07 KGWX20220330_232552_V06.nc\r\n",
      "-rw-rw---- 1 syed44 dawson29-data 301M Jun  5 12:07 KGWX20220330_233952_V06.nc\r\n",
      "-rw-rw---- 1 syed44 dawson29-data 300M Jun  5 12:07 KGWX20220330_234639_V06.nc\r\n",
      "-rw-rw---- 1 syed44 dawson29-data 301M Jun  5 12:07 KGWX20220330_233252_V06.nc\r\n",
      "-rw-rw---- 1 syed44 dawson29-data 290M Jun  5 12:07 KGWX20220330_225909_V06.nc\r\n",
      "-rw-rw---- 1 syed44 dawson29-data 279M Jun  5 12:07 KGWX20220330_223845_V06.nc\r\n",
      "-rw-rw---- 1 syed44 dawson29-data 298M Jun  5 12:07 KGWX20220330_231240_V06.nc\r\n",
      "-rw-rw---- 1 syed44 dawson29-data 285M Jun  5 12:07 KGWX20220330_225209_V06.nc\r\n",
      "-rw-rw---- 1 syed44 dawson29-data 296M Jun  5 12:07 KGWX20220330_230555_V06.nc\r\n",
      "-rw-rw---- 1 syed44 dawson29-data 296M Jun  5 12:07 KGWX20220330_231927_V06.nc\r\n",
      "-rw-rw---- 1 syed44 dawson29-data 245M Jun  5 12:07 KGWX20220331_021712_V06.nc\r\n",
      "-rw-rw---- 1 syed44 dawson29-data 296M Jun  5 12:07 KGWX20220330_235324_V06.nc\r\n",
      "-rw-rw---- 1 syed44 dawson29-data 272M Jun  5 12:06 KGWX20220330_222523_V06.nc\r\n",
      "-rw-rw---- 1 syed44 dawson29-data 291M Jun  5 12:06 KGWX20220330_235959_V06.nc\r\n",
      "-rw-rw---- 1 syed44 dawson29-data 276M Jun  5 12:06 KGWX20220330_224545_V06.nc\r\n",
      "-rw-rw---- 1 syed44 dawson29-data 242M Jun  5 12:06 KGWX20220331_020336_V06.nc\r\n",
      "-rw-rw---- 1 syed44 dawson29-data 268M Jun  5 12:06 KGWX20220330_221824_V06.nc\r\n",
      "-rw-rw---- 1 syed44 dawson29-data 266M Jun  5 12:06 KGWX20220330_220424_V06.nc\r\n",
      "-rw-rw---- 1 syed44 dawson29-data 243M Jun  5 12:06 KGWX20220331_021011_V06.nc\r\n",
      "-rw-rw---- 1 syed44 dawson29-data 239M Jun  5 12:06 KGWX20220331_024306_V06.nc\r\n",
      "-rw-rw---- 1 syed44 dawson29-data 236M Jun  5 12:06 KGWX20220331_025006_V06.nc\r\n",
      "-rw-rw---- 1 syed44 dawson29-data 282M Jun  5 12:06 KGWX20220331_001259_V06.nc\r\n",
      "-rw-rw---- 1 syed44 dawson29-data 290M Jun  5 12:06 KGWX20220331_000624_V06.nc\r\n",
      "-rw-rw---- 1 syed44 dawson29-data 261M Jun  5 12:06 KGWX20220331_004620_V06.nc\r\n",
      "-rw-rw---- 1 syed44 dawson29-data 231M Jun  5 12:06 KGWX20220331_031051_V06.nc\r\n",
      "-rw-rw---- 1 syed44 dawson29-data 278M Jun  5 12:06 KGWX20220331_002655_V06.nc\r\n",
      "-rw-rw---- 1 syed44 dawson29-data 276M Jun  5 12:06 KGWX20220331_002040_V06.nc\r\n",
      "-rw-rw---- 1 syed44 dawson29-data 234M Jun  5 12:06 KGWX20220331_025705_V06.nc\r\n",
      "-rw-rw---- 1 syed44 dawson29-data 268M Jun  5 12:06 KGWX20220330_221124_V06.nc\r\n",
      "-rw-rw---- 1 syed44 dawson29-data 247M Jun  5 12:06 KGWX20220331_012508_V06.nc\r\n",
      "-rw-rw---- 1 syed44 dawson29-data 239M Jun  5 12:06 KGWX20220331_023641_V06.nc\r\n",
      "-rw-rw---- 1 syed44 dawson29-data 242M Jun  5 12:06 KGWX20220331_023026_V06.nc\r\n",
      "-rw-rw---- 1 syed44 dawson29-data 248M Jun  5 12:06 KGWX20220331_011809_V06.nc\r\n",
      "-rw-rw---- 1 syed44 dawson29-data 275M Jun  5 12:06 KGWX20220330_223210_V06.nc\r\n",
      "-rw-rw---- 1 syed44 dawson29-data 238M Jun  5 12:06 KGWX20220331_015720_V06.nc\r\n",
      "-rw-rw---- 1 syed44 dawson29-data 250M Jun  5 12:06 KGWX20220331_005921_V06.nc\r\n",
      "-rw-rw---- 1 syed44 dawson29-data 236M Jun  5 12:06 KGWX20220331_015105_V06.nc\r\n",
      "-rw-rw---- 1 syed44 dawson29-data 240M Jun  5 12:06 KGWX20220331_013833_V06.nc\r\n",
      "-rw-rw---- 1 syed44 dawson29-data 240M Jun  5 12:06 KGWX20220331_022411_V06.nc\r\n",
      "-rw-rw---- 1 syed44 dawson29-data 234M Jun  5 12:06 KGWX20220331_030405_V06.nc\r\n",
      "-rw-rw---- 1 syed44 dawson29-data 245M Jun  5 12:06 KGWX20220331_011153_V06.nc\r\n",
      "-rw-rw---- 1 syed44 dawson29-data 247M Jun  5 12:06 KGWX20220331_010537_V06.nc\r\n",
      "-rw-rw---- 1 syed44 dawson29-data 228M Jun  5 12:06 KGWX20220331_032407_V06.nc\r\n",
      "-rw-rw---- 1 syed44 dawson29-data 269M Jun  5 12:06 KGWX20220331_003330_V06.nc\r\n",
      "-rw-rw---- 1 syed44 dawson29-data 238M Jun  5 12:06 KGWX20220331_014449_V06.nc\r\n",
      "-rw-rw---- 1 syed44 dawson29-data 222M Jun  5 12:06 KGWX20220331_035014_V06.nc\r\n",
      "-rw-rw---- 1 syed44 dawson29-data 229M Jun  5 12:06 KGWX20220331_031736_V06.nc\r\n",
      "-rw-rw---- 1 syed44 dawson29-data 243M Jun  5 12:06 KGWX20220331_013208_V06.nc\r\n",
      "-rw-rw---- 1 syed44 dawson29-data 252M Jun  5 12:06 KGWX20220331_005306_V06.nc\r\n",
      "-rw-rw---- 1 syed44 dawson29-data 262M Jun  5 12:06 KGWX20220331_003955_V06.nc\r\n",
      "-rw-rw---- 1 syed44 dawson29-data 225M Jun  5 12:06 KGWX20220331_034356_V06.nc\r\n",
      "-rw-rw---- 1 syed44 dawson29-data 227M Jun  5 12:06 KGWX20220331_033052_V06.nc\r\n",
      "-rw-rw---- 1 syed44 dawson29-data 219M Jun  5 12:06 KGWX20220331_035633_V06.nc\r\n",
      "-rw-rw---- 1 syed44 dawson29-data 226M Jun  5 12:06 KGWX20220331_033724_V06.nc\r\n",
      "-rw-rw---- 1 syed44 dawson29-data 146M Jun  4 12:28 new_name3.nc\r\n",
      "-rw-rw---- 1 syed44 dawson29-data 279M Jun  4 12:27 new_name1.nc\r\n",
      "-rw-rw---- 1 syed44 dawson29-data 243M Jun  4 12:26 new_name2.nc\r\n"
     ]
    }
   ],
   "source": [
    "!ls -lth /depot/dawson29/data/Projects/PERiLS/obsdata/2022/GRID/IOP2/KGWX/"
   ]
  },
  {
   "cell_type": "code",
   "execution_count": 363,
   "id": "06bc8ed5",
   "metadata": {},
   "outputs": [
    {
     "name": "stdout",
     "output_type": "stream",
     "text": [
      "JobId=25632270 JobName=sbatch_parallel_gridding.sbatch\r\n",
      "   UserId=syed44(871648) GroupId=student(132) MCS_label=N/A\r\n",
      "   Priority=126296 Nice=0 Account=dawson29 QOS=normal\r\n",
      "   JobState=COMPLETED Reason=None Dependency=(null)\r\n",
      "   Requeue=1 Restarts=0 BatchFlag=1 Reboot=0 ExitCode=0:0\r\n",
      "   RunTime=00:12:13 TimeLimit=1-00:00:00 TimeMin=N/A\r\n",
      "   SubmitTime=2023-06-05T11:55:32 EligibleTime=2023-06-05T11:55:32\r\n",
      "   AccrueTime=2023-06-05T11:55:32\r\n",
      "   StartTime=2023-06-05T11:55:32 EndTime=2023-06-05T12:07:45 Deadline=N/A\r\n",
      "   SuspendTime=None SecsPreSuspend=0 LastSchedEval=2023-06-05T11:55:32 Scheduler=Main\r\n",
      "   Partition=bell-a AllocNode:Sid=bell-a140:70445\r\n",
      "   ReqNodeList=(null) ExcNodeList=(null)\r\n",
      "   NodeList=bell-a[300-301]\r\n",
      "   BatchHost=bell-a300\r\n",
      "   NumNodes=2 NumCPUs=256 NumTasks=2 CPUs/Task=128 ReqB:S:C:T=0:0:*:*\r\n",
      "   TRES=cpu=256,mem=498G,node=2,billing=256\r\n",
      "   Socks/Node=* NtasksPerN:B:S:C=0:0:*:* CoreSpec=*\r\n",
      "   MinCPUsNode=128 MinMemoryCPU=1992M MinTmpDiskNode=0\r\n",
      "   Features=(null) DelayBoot=00:00:00\r\n",
      "   OverSubscribe=OK Contiguous=0 Licenses=(null) Network=(null)\r\n",
      "   Command=/home/syed44/PERiLS/doppler_analysis/gridding/sbatch_parallel_gridding.sbatch\r\n",
      "   WorkDir=/home/syed44/PERiLS/doppler_analysis/gridding\r\n",
      "   StdErr=/home/syed44/PERiLS/doppler_analysis/gridding/parallel_gridding.out\r\n",
      "   StdIn=/dev/null\r\n",
      "   StdOut=/home/syed44/PERiLS/doppler_analysis/gridding/parallel_gridding.out\r\n",
      "   Power=\r\n",
      "   MailUser=syed44@purdue.edu MailType=BEGIN,END\r\n",
      "   \r\n",
      "\r\n"
     ]
    }
   ],
   "source": [
    "!scontrol show job $job_id"
   ]
  },
  {
   "cell_type": "code",
   "execution_count": 9,
   "id": "c5bc4ea4",
   "metadata": {},
   "outputs": [],
   "source": [
    "def linspace_range(start, stop, step):\n",
    "    num = ((stop - start) / step + 1)\n",
    "    return num"
   ]
  },
  {
   "cell_type": "code",
   "execution_count": 48,
   "id": "d1a1a703",
   "metadata": {},
   "outputs": [
    {
     "name": "stdout",
     "output_type": "stream",
     "text": [
      "354.0\n"
     ]
    },
    {
     "data": {
      "text/plain": [
       "88250.0"
      ]
     },
     "execution_count": 48,
     "metadata": {},
     "output_type": "execute_result"
    }
   ],
   "source": [
    "max_rng = 88.25*1e3\n",
    "print(linspace_range(-max_rng, max_rng, 500))\n",
    "\n",
    "353*500/2"
   ]
  },
  {
   "cell_type": "code",
   "execution_count": null,
   "id": "be9b871c",
   "metadata": {},
   "outputs": [],
   "source": []
  },
  {
   "cell_type": "code",
   "execution_count": null,
   "id": "21a986f5",
   "metadata": {},
   "outputs": [],
   "source": []
  }
 ],
 "metadata": {
  "kernelspec": {
   "display_name": "Python (My perils Kernel)",
   "language": "python",
   "name": "perils"
  },
  "language_info": {
   "codemirror_mode": {
    "name": "ipython",
    "version": 3
   },
   "file_extension": ".py",
   "mimetype": "text/x-python",
   "name": "python",
   "nbconvert_exporter": "python",
   "pygments_lexer": "ipython3",
   "version": "3.10.8"
  }
 },
 "nbformat": 4,
 "nbformat_minor": 5
}
