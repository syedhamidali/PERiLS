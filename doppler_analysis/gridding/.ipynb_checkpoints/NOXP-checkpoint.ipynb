{
 "cells": [
  {
   "cell_type": "markdown",
   "id": "6d31bd62",
   "metadata": {},
   "source": [
    "# NOXP\n",
    "- Author: Hamid Ali Syed\n",
    "- Date: Jun 9, 2023"
   ]
  },
  {
   "cell_type": "code",
   "execution_count": 1,
   "id": "0088d918",
   "metadata": {},
   "outputs": [
    {
     "name": "stdout",
     "output_type": "stream",
     "text": [
      "\n",
      "## You are using the Python ARM Radar Toolkit (Py-ART), an open source\n",
      "## library for working with weather radar data. Py-ART is partly\n",
      "## supported by the U.S. Department of Energy as part of the Atmospheric\n",
      "## Radiation Measurement (ARM) Climate Research Facility, an Office of\n",
      "## Science user facility.\n",
      "##\n",
      "## If you use this software to prepare a publication, please cite:\n",
      "##\n",
      "##     JJ Helmus and SM Collis, JORS 2016, doi: 10.5334/jors.119\n",
      "\n"
     ]
    }
   ],
   "source": [
    "import multiprocessing as mp\n",
    "import time\n",
    "import os\n",
    "import glob\n",
    "from matplotlib import pyplot as plt\n",
    "from pyart.retrieve import get_freq_band\n",
    "import numpy as np\n",
    "import pyart\n",
    "import warnings\n",
    "warnings.filterwarnings(\"ignore\")"
   ]
  },
  {
   "cell_type": "code",
   "execution_count": 7,
   "id": "ed50ccf5",
   "metadata": {},
   "outputs": [],
   "source": [
    "def get_file_list(directory):\n",
    "    files = []\n",
    "    for root, dirs, filenames in os.walk(directory):\n",
    "        for filename in filenames:\n",
    "            if filename.startswith(\"NOX\"):\n",
    "                files.append(os.path.join(root, filename))\n",
    "    files.sort()\n",
    "    return files\n",
    "\n",
    "\n",
    "def _drop_fields(radar):\n",
    "    ''' Drop fields'''\n",
    "    print(\"Dropping unnecessary fields \\n\")\n",
    "    fields_to_drop = ['total_power', 'spectrum_width', 'specific_differential_phase']\n",
    "    for field in fields_to_drop:\n",
    "        if field in radar.fields:\n",
    "            del radar.fields[field]\n",
    "    return radar\n",
    "\n",
    "\n",
    "def _align_field(field):\n",
    "    values, counts = np.unique(field['data'], return_counts=True)\n",
    "    c_value = values[np.argmax(counts)]\n",
    "    field['data'] = np.array([c_value])\n",
    "    return field\n",
    "\n",
    "\n",
    "def align_radar_coords(radar):\n",
    "    print(\"Aligning coordinates \\n\")\n",
    "    for field_name in ['longitude', 'latitude', 'altitude', 'altitude_agl']:\n",
    "        setattr(radar, field_name, _align_field(getattr(radar, field_name)))\n",
    "    return radar\n",
    "\n",
    "\n",
    "def mask_azimuth_jumps(radar):\n",
    "    '''Mask Azimuth Jumps'''\n",
    "    print(\"Masking azimuth jumps \\n\")\n",
    "    az_diff = np.diff(radar.azimuth['data'])\n",
    "    jumps = np.where((np.abs(az_diff) >= 10) & (np.abs(az_diff) < 359))[0]\n",
    "\n",
    "    if len(jumps):\n",
    "        for field in radar.fields.keys():\n",
    "            for jump in jumps:\n",
    "                radar.fields[field]['data'][jump].mask = True\n",
    "\n",
    "    # Mask fields where azimuth is greater than 90 and less than 100\n",
    "    azimuth = radar.azimuth['data']\n",
    "    azimuth_mask = np.logical_and(azimuth > 92, azimuth < 125)\n",
    "    for field in radar.fields.keys():\n",
    "        radar.fields[field]['data'][azimuth_mask] = np.ma.masked\n",
    "\n",
    "    return radar\n",
    "\n",
    "\n",
    "def mask_data(radar, field, gatefilter):\n",
    "    print(f'Masking: {field} \\n')\n",
    "    dsp = pyart.correct.despeckle_field(\n",
    "        radar, field, gatefilter=gatefilter, size=15)\n",
    "    new_field = radar.fields[field].copy()\n",
    "    new_field['data'] = np.ma.masked_where(\n",
    "        dsp.gate_included == False, radar.fields[field]['data'])\n",
    "    radar.add_field(field, new_field, replace_existing=True)\n",
    "    return radar\n",
    "\n",
    "\n",
    "# function to dealiase the Doppler velocity\n",
    "def dealiase(radar, vel_name='VEL_F', gatefilter=None, method=\"region\"):\n",
    "    '''\n",
    "    Dealias Doppler velocities using Py-ART.\n",
    "    method : str\n",
    "        Method to use for the dealiasing. Can be 'unwrap' or 'region'.\n",
    "    '''\n",
    "    # Create a GateFilter if one was not provided\n",
    "    if gatefilter is None:\n",
    "        gatefilter = pyart.correct.GateFilter(radar)\n",
    "    # Dealias Doppler velocities using the selected method\n",
    "    if method == \"unwrap\":\n",
    "        corr_vel = pyart.correct.dealias_unwrap_phase(radar, vel_field=vel_name,\n",
    "                                                      keep_original=False, gatefilter=gatefilter)\n",
    "    elif method == \"region\":\n",
    "        corr_vel = pyart.correct.dealias_region_based(radar, vel_field=vel_name,\n",
    "                                                      keep_original=False, gatefilter=gatefilter)\n",
    "    # Add the dealiased Doppler velocities to the radar object\n",
    "    radar.add_field(vel_name, corr_vel, replace_existing=True)\n",
    "    return radar\n",
    "\n",
    "\n",
    "def filter_data(radar, refl_field, refl_thresh, vel_field,\n",
    "                ncp_field=None, ncp_thresh=None,\n",
    "                rho_field=None, rho_thresh=None,\n",
    "                dealias_method=\"region\"):\n",
    "    '''Remove noise based on velocity texture,snr, and rhohv, and mask all the fields'''\n",
    "\n",
    "    # Align radar coords\n",
    "    radar = align_radar_coords(radar)\n",
    "    texture = pyart.retrieve.calculate_velocity_texture(radar,\n",
    "                                                        vel_field=vel_field,\n",
    "                                                        wind_size=16,\n",
    "                                                        check_nyq_uniform=False)\n",
    "    radar.add_field('VT', texture, replace_existing=True)\n",
    "    gatefilter = pyart.filters.GateFilter(radar)\n",
    "    gatefilter.include_above(refl_field, refl_thresh)\n",
    "    gatefilter.include_inside(refl_field, 0, 70)\n",
    "#     gatefilter.exclude_outside(\"PHIDP\", -180, 180)\n",
    "    gatefilter.exclude_outside(\"differential_reflectivity\", -8, 8)\n",
    "    gatefilter.exclude_above(\"VT\", 20)\n",
    "    \n",
    "    if ncp_thresh is not None:\n",
    "        gatefilter.exclude_below(ncp_field, ncp_thresh)\n",
    "    else:\n",
    "        pass\n",
    "    \n",
    "    if rho_thresh is not None:\n",
    "        gatefilter.exclude_below(rho_field, rho_thresh)\n",
    "    else:\n",
    "        pass\n",
    "    \n",
    "    radar.scan_type = b'ppi'\n",
    "    radar = mask_data(radar, refl_field, gatefilter)\n",
    "    radar = mask_data(radar, vel_field, gatefilter)\n",
    "\n",
    "    # Dealias\n",
    "    radar = dealiase(radar, vel_name=vel_field,\n",
    "                     gatefilter=gatefilter, method=dealias_method)\n",
    "\n",
    "    mask = np.ma.getmask(radar.fields[refl_field]['data'])\n",
    "\n",
    "    # Drop some fields\n",
    "    radar = _drop_fields(radar)\n",
    "\n",
    "    # iterate through remaining fields\n",
    "    skip_fields = [\"normalized_coherent_power\"]\n",
    "    for field in radar.fields.keys():\n",
    "        if any(field == skip_field for skip_field in skip_fields):\n",
    "            continue\n",
    "        radar.fields[field]['data'] = np.ma.masked_where(\n",
    "            mask, radar.fields[field]['data'])\n",
    "\n",
    "    return radar\n",
    "\n",
    "\n",
    "def _rename_moms(radar):\n",
    "    '''Rename fields if they exist'''\n",
    "\n",
    "    if 'DBZ' in radar.fields:\n",
    "        radar.fields['REF'] = radar.fields.pop('DBZ')\n",
    "    if 'reflectivity' in radar.fields:\n",
    "        radar.fields['REF'] = radar.fields.pop('reflectivity')\n",
    "    if 'DBZH' in radar.fields:\n",
    "        radar.fields['REF'] = radar.fields.pop('DBZH')\n",
    "    if 'ref' in radar.fields:\n",
    "        radar.fields['REF'] = radar.fields.pop('ref')\n",
    "        \n",
    "    if 'VELH' in radar.fields:\n",
    "        radar.fields['VEL'] = radar.fields.pop('VELH')\n",
    "    if 'VEL_F' in radar.fields:\n",
    "        radar.fields['VEL'] = radar.fields.pop('VEL_F')\n",
    "    if 'velocity' in radar.fields:\n",
    "        radar.fields['VEL'] = radar.fields.pop('velocity')\n",
    "        \n",
    "    if 'ZDRC' in radar.fields:\n",
    "        radar.fields['ZDR'] = radar.fields.pop('ZDRC')\n",
    "    if 'differential_reflectivity' in radar.fields:\n",
    "        radar.fields['ZDR'] = radar.fields.pop('differential_reflectivity')\n",
    "        \n",
    "    if 'RHOHV' in radar.fields:\n",
    "        radar.fields['RHO'] = radar.fields.pop('RHOHV')\n",
    "    if 'cross_correlation_ratio' in radar.fields:\n",
    "        radar.fields['RHO'] = radar.fields.pop('cross_correlation_ratio')\n",
    "\n",
    "    return radar\n",
    "\n",
    "\n",
    "def process_file(outdir, grid_file_path, rfile):\n",
    "    try:\n",
    "        print(f'Reading file: {os.path.basename(rfile)}')\n",
    "        radar = pyart.io.read(rfile)\n",
    "        refl_field = \"reflectivity\"\n",
    "        vel_field = \"velocity\"\n",
    "        ncp_field = \"normalized_coherent_power\"\n",
    "        rho_field = \"cross_correlation_ratio\"\n",
    "        refl_thresh = -5\n",
    "        rho_thresh = None\n",
    "        ncp_thresh = None\n",
    "        radar = filter_data(radar,\n",
    "                            refl_field,\n",
    "                            refl_thresh,\n",
    "                            vel_field,\n",
    "                            ncp_field=ncp_field,\n",
    "                            ncp_thresh=ncp_thresh,\n",
    "                            rho_field=rho_field,\n",
    "                            rho_thresh=rho_thresh,\n",
    "                            dealias_method='region')\n",
    "\n",
    "        radar = _rename_moms(radar)\n",
    "\n",
    "        if radar.range['data'].max() <= 100e3:\n",
    "            max_rng = 82750.0\n",
    "            xy = 331\n",
    "        else:\n",
    "            max_rng = 165e3\n",
    "            xy = 660\n",
    "\n",
    "        gfields = ['REF', 'VEL', 'ZDR', \"RHO\"]\n",
    "        grid = pyart.map.grid_from_radars(radar, (41, xy, xy),\n",
    "                                          ((0., 10e3), (-max_rng, max_rng),\n",
    "                                           (-max_rng, max_rng)),\n",
    "                                          weighting_function='Barnes2',\n",
    "                                          fields=gfields)\n",
    "\n",
    "        print(f'Deleting Radar Object: {os.path.basename(rfile)} \\n')\n",
    "        del radar\n",
    "        print(f\"Saving in: {grid_file_path} as {os.path.basename(rfile)}\\n\")\n",
    "        # Write grid\n",
    "#         pyart.io.write_grid(filename=os.path.join(\n",
    "#             grid_file_path, os.path.basename(rfile)), grid=grid)\n",
    "    except Exception as e:\n",
    "        print(f\"Error processing file: {os.path.basename(rfile)}\")\n",
    "        print(str(e))\n",
    "\n",
    "\n",
    "def process_file_wrapper(args):\n",
    "    return process_file(*args)\n",
    "\n",
    "\n",
    "# if __name__ == \"__main__\":\n",
    "#     outdir = \"/depot/dawson29/data/Projects/PERiLS/obsdata/2022/GRID/IOP2/\"\n",
    "#     basedir = \"/depot/dawson29/data/Projects/PERiLS/obsdata/2022/Illinois_Mobile_Radar/IOP2/\"\n",
    "\n",
    "# #     # First directory (DOW8)\n",
    "# #     dow8_dir = os.path.join(basedir, \"DOW8/merged/\")\n",
    "# #     file_list_dow8 = get_file_list(dow8_dir)\n",
    "# #     num_files_dow8 = len(file_list_dow8)\n",
    "# #     print(\"Number of files in DOW8 directory:\", num_files_dow8)\n",
    "# #     grid_file_path_dow8 = os.path.join(outdir, \"DOW8\")\n",
    "# #     os.makedirs(grid_file_path_dow8, exist_ok=True)\n",
    "\n",
    "#     # Second directory (DOW7)\n",
    "#     dow7_dir = os.path.join(basedir, \"DOW7/merged/\")\n",
    "#     file_list_dow7 = get_file_list(dow7_dir)\n",
    "#     num_files_dow7 = len(file_list_dow7)\n",
    "#     print(\"Number of files in DOW7 directory:\", num_files_dow7)\n",
    "#     grid_file_path_dow7 = os.path.join(outdir, \"DOW7\")\n",
    "#     os.makedirs(grid_file_path_dow7, exist_ok=True)\n",
    "\n",
    "# #     # Create a pool of worker processes for DOW8\n",
    "# #     pool_dow8 = mp.Pool()\n",
    "# #     results_dow8 = pool_dow8.map(process_file_wrapper, [(outdir, grid_file_path_dow8, f) for f in file_list_dow8])\n",
    "# #     pool_dow8.close()\n",
    "# #     pool_dow8.join()\n",
    "\n",
    "#     # Create a pool of worker processes for DOW7\n",
    "#     pool_dow7 = mp.Pool()\n",
    "#     results_dow7 = pool_dow7.map(process_file_wrapper, [(outdir, grid_file_path_dow7, f) for f in file_list_dow7])\n",
    "#     pool_dow7.close()\n",
    "#     pool_dow7.join()"
   ]
  },
  {
   "cell_type": "code",
   "execution_count": 52,
   "id": "53e7c981",
   "metadata": {},
   "outputs": [],
   "source": [
    "basedir = \"/depot/dawson29/data/Projects/PERiLS/obsdata/2022/NOXP/\"\n",
    "file_list = get_file_list(basedir)"
   ]
  },
  {
   "cell_type": "code",
   "execution_count": 53,
   "id": "746f3091",
   "metadata": {
    "scrolled": true
   },
   "outputs": [
    {
     "data": {
      "text/plain": [
       "202"
      ]
     },
     "execution_count": 53,
     "metadata": {},
     "output_type": "execute_result"
    }
   ],
   "source": [
    "len(file_list)"
   ]
  },
  {
   "cell_type": "code",
   "execution_count": 54,
   "id": "523a429f",
   "metadata": {},
   "outputs": [
    {
     "data": {
      "text/plain": [
       "'NOX220330225418.nc'"
      ]
     },
     "execution_count": 54,
     "metadata": {},
     "output_type": "execute_result"
    }
   ],
   "source": [
    "os.path.basename(file_list)"
   ]
  },
  {
   "cell_type": "code",
   "execution_count": null,
   "id": "7b2be283",
   "metadata": {},
   "outputs": [],
   "source": []
  },
  {
   "cell_type": "code",
   "execution_count": null,
   "id": "c578f7fa",
   "metadata": {},
   "outputs": [],
   "source": []
  },
  {
   "cell_type": "code",
   "execution_count": 11,
   "id": "146800f2",
   "metadata": {},
   "outputs": [
    {
     "data": {
      "text/plain": [
       "dict_keys(['total_power', 'reflectivity', 'velocity', 'spectrum_width', 'differential_reflectivity', 'specific_differential_phase', 'differential_phase', 'normalized_coherent_power', 'cross_correlation_ratio'])"
      ]
     },
     "execution_count": 11,
     "metadata": {},
     "output_type": "execute_result"
    }
   ],
   "source": [
    "radar = pyart.io.read_sigmet(file_list[100])\n",
    "radar.fields.keys()"
   ]
  },
  {
   "cell_type": "code",
   "execution_count": 12,
   "id": "b1217eac",
   "metadata": {},
   "outputs": [
    {
     "name": "stdout",
     "output_type": "stream",
     "text": [
      "76.425\n"
     ]
    }
   ],
   "source": [
    "print(radar.range['data'].max()/1e3)"
   ]
  },
  {
   "cell_type": "code",
   "execution_count": 46,
   "id": "69ef71b2",
   "metadata": {},
   "outputs": [],
   "source": [
    "basedir = \"/depot/dawson29/data/Projects/PERiLS/obsdata/2022/NOXP/\"\n",
    "file_list = get_file_list(basedir)"
   ]
  },
  {
   "cell_type": "code",
   "execution_count": 49,
   "id": "a0d5c4ba",
   "metadata": {},
   "outputs": [],
   "source": [
    "from NOXP_raw_to_cfrad_grid import process_file"
   ]
  },
  {
   "cell_type": "code",
   "execution_count": null,
   "id": "9be113da",
   "metadata": {},
   "outputs": [],
   "source": [
    "outdir = \"/depot/dawson29/data/Projects/PERiLS/obsdata/2022/GRID/IOP2/\"\n",
    "\n",
    "process_file(outdir, grid_file_path, CFRAD_DIR, rfile)"
   ]
  },
  {
   "cell_type": "code",
   "execution_count": 38,
   "id": "80f1e534",
   "metadata": {},
   "outputs": [
    {
     "data": {
      "image/png": "[encoded data removed]",
      "text/plain": [
       "<Figure size 432x288 with 2 Axes>"
      ]
     },
     "metadata": {
      "needs_background": "light"
     },
     "output_type": "display_data"
    }
   ],
   "source": [
    "# radar.fields.keys()\n",
    "display = pyart.graph.RadarDisplay(radar)\n",
    "display.plot_ppi(\"DBZ\")"
   ]
  },
  {
   "cell_type": "code",
   "execution_count": 16,
   "id": "5065f9de",
   "metadata": {},
   "outputs": [
    {
     "data": {
      "text/plain": [
       "(305, 76250.0)"
      ]
     },
     "execution_count": 16,
     "metadata": {},
     "output_type": "execute_result"
    }
   ],
   "source": [
    "def linspace_range(start, stop, step):\n",
    "    num = np.floor((stop - start) / step + 1)\n",
    "    num-=1\n",
    "    return int(num), num*step/2\n",
    "\n",
    "max_range = radar.range['data'].max()\n",
    "xy, rng  = linspace_range(-max_range, max_range, 500)\n",
    "xy, rng"
   ]
  },
  {
   "cell_type": "code",
   "execution_count": 17,
   "id": "f4fc4e46",
   "metadata": {},
   "outputs": [
    {
     "data": {
      "text/plain": [
       "76425.0"
      ]
     },
     "execution_count": 17,
     "metadata": {},
     "output_type": "execute_result"
    }
   ],
   "source": [
    "radar.range['data'].max()"
   ]
  },
  {
   "cell_type": "code",
   "execution_count": 15,
   "id": "0c693ead",
   "metadata": {},
   "outputs": [
    {
     "data": {
      "text/plain": [
       "(331, 82750.0)"
      ]
     },
     "execution_count": 15,
     "metadata": {},
     "output_type": "execute_result"
    }
   ],
   "source": [
    "xy, rng  = linspace_range(-max_range, max_range, 500)\n",
    "xy, rng"
   ]
  },
  {
   "cell_type": "code",
   "execution_count": 335,
   "id": "f2d216ee",
   "metadata": {},
   "outputs": [
    {
     "data": {
      "text/plain": [
       "dict_keys(['DBZ_TOT', 'DBZ', 'VEL', 'WIDTH', 'ZDR', 'KDP', 'PHIDP', 'SQI', 'RHOHV'])"
      ]
     },
     "execution_count": 335,
     "metadata": {},
     "output_type": "execute_result"
    }
   ],
   "source": [
    "radar.fields.keys()"
   ]
  },
  {
   "cell_type": "code",
   "execution_count": 328,
   "id": "76d7e794",
   "metadata": {},
   "outputs": [
    {
     "name": "stdout",
     "output_type": "stream",
     "text": [
      "/depot/dawson29/data/Projects/PERiLS/obsdata/2022/SMART/SMARTR2/cfrad.20220331_022229.947_to_20220331_022329.957_SR2_VER.nc\n",
      "/depot/dawson29/data/Projects/PERiLS/obsdata/2022/SMART/SMARTR2/cfrad.20220331_022331.044_to_20220331_022431.055_SR2_VER.nc\n",
      "/depot/dawson29/data/Projects/PERiLS/obsdata/2022/SMART/SMARTR2/cfrad.20220331_022432.223_to_20220331_022532.230_SR2_VER.nc\n",
      "/depot/dawson29/data/Projects/PERiLS/obsdata/2022/SMART/SMARTR2/cfrad.20220331_022533.402_to_20220331_022633.411_SR2_VER.nc\n",
      "/depot/dawson29/data/Projects/PERiLS/obsdata/2022/SMART/SMARTR2/cfrad.20220331_022634.492_to_20220331_022734.505_SR2_VER.nc\n"
     ]
    }
   ],
   "source": [
    "import os\n",
    "import shutil\n",
    "import xarray as xr\n",
    "\n",
    "range_issue_dir = os.path.join(smart_r2, \"range_issue\")\n",
    "if not os.path.exists(range_issue_dir):\n",
    "    os.makedirs(range_issue_dir)\n",
    "\n",
    "ranges = []\n",
    "for file in file_list:\n",
    "    ds = xr.open_dataset(file)\n",
    "    rng = ds.range.max().values\n",
    "    if rng < 50000.0:\n",
    "        print(file)\n",
    "        filename = os.path.basename(file)\n",
    "        destination = os.path.join(range_issue_dir, filename)\n",
    "        shutil.move(file, destination)\n",
    "    ranges.append(rng)"
   ]
  },
  {
   "cell_type": "code",
   "execution_count": 329,
   "id": "c99d3f51",
   "metadata": {},
   "outputs": [
    {
     "data": {
      "text/plain": [
       "array([ 30000.,  82950., 165000.])"
      ]
     },
     "execution_count": 329,
     "metadata": {},
     "output_type": "execute_result"
    }
   ],
   "source": [
    "np.unique(ranges)"
   ]
  },
  {
   "cell_type": "code",
   "execution_count": 330,
   "id": "d33fab7d",
   "metadata": {},
   "outputs": [
    {
     "name": "stdout",
     "output_type": "stream",
     "text": [
      "cfrad.20220331_022229.947_to_20220331_022329.957_SR2_VER.nc\r\n",
      "cfrad.20220331_022331.044_to_20220331_022431.055_SR2_VER.nc\r\n",
      "cfrad.20220331_022432.223_to_20220331_022532.230_SR2_VER.nc\r\n",
      "cfrad.20220331_022533.402_to_20220331_022633.411_SR2_VER.nc\r\n",
      "cfrad.20220331_022634.492_to_20220331_022734.505_SR2_VER.nc\r\n"
     ]
    }
   ],
   "source": [
    "!ls $range_issue_dir"
   ]
  },
  {
   "cell_type": "code",
   "execution_count": 337,
   "id": "5141aa55",
   "metadata": {},
   "outputs": [
    {
     "data": {
      "text/plain": [
       "165000.0"
      ]
     },
     "execution_count": 337,
     "metadata": {},
     "output_type": "execute_result"
    }
   ],
   "source": [
    "660 * 500/2"
   ]
  },
  {
   "cell_type": "code",
   "execution_count": 339,
   "id": "5c41512b",
   "metadata": {},
   "outputs": [
    {
     "data": {
      "text/plain": [
       "165000.0"
      ]
     },
     "execution_count": 339,
     "metadata": {},
     "output_type": "execute_result"
    }
   ],
   "source": [
    "165e3"
   ]
  },
  {
   "cell_type": "code",
   "execution_count": 1,
   "id": "5fc67ace",
   "metadata": {},
   "outputs": [
    {
     "name": "stdout",
     "output_type": "stream",
     "text": [
      "#!/bin/sh -l\r\n",
      "# FILENAME:  gridding2\r\n",
      "\r\n",
      "#SBATCH -A dawson29\r\n",
      "\r\n",
      "#SBATCH -o /home/syed44/PERiLS/doppler_analysis/gridding/parallel_gridding.out\r\n",
      "\r\n",
      "#SBATCH --nodes=1\r\n",
      "#SBATCH -c 128\r\n",
      "#SBATCH --time=03:00:00\r\n",
      "#SBATCH --mail-user=syed44@purdue.edu\r\n",
      "#SBATCH --mail-type=BEGIN,END\r\n",
      "\r\n",
      "\r\n",
      "# Print the hostname of the compute node on which this job is running.\r\n",
      "/bin/hostname\r\n",
      "\r\n",
      "\r\n",
      "module use /depot/dawson29/data/Projects/PERiLS/etc/modules/\r\n",
      "module load conda-env/perils-py3.8.5\r\n",
      "\r\n",
      "python /home/syed44/PERiLS/doppler_analysis/gridding/NOXP_raw_to_cfrad_grid.py"
     ]
    }
   ],
   "source": [
    "!cat sbatch_parallel_gridding.sbatch"
   ]
  },
  {
   "cell_type": "code",
   "execution_count": 111,
   "id": "79ed5995",
   "metadata": {},
   "outputs": [
    {
     "name": "stdout",
     "output_type": "stream",
     "text": [
      "Submitted job with ID: 25774864\n"
     ]
    }
   ],
   "source": [
    "import subprocess\n",
    "\n",
    "sbatch_command = \"sbatch sbatch_parallel_gridding.sbatch\"\n",
    "output = subprocess.check_output(sbatch_command, shell=True)\n",
    "job_id = output.decode('utf-8').strip().split()[-1]\n",
    "\n",
    "print(\"Submitted job with ID:\", job_id)"
   ]
  },
  {
   "cell_type": "code",
   "execution_count": 136,
   "id": "6daa1932",
   "metadata": {},
   "outputs": [
    {
     "name": "stdout",
     "output_type": "stream",
     "text": [
      "JOBID        USER      ACCOUNT      NAME             NODES   CPUS  TIME_LIMIT ST TIME\r\n",
      "25769979     syed44    dawson29     OnDemand/Noteboo     1     16  5-00:00:00  R 5:45:38\r\n",
      "25706197     kaxon     dawson29     OnDemand/Desktop     1      4  2-12:00:00  R 2-06:52:53\r\n",
      "25774864     syed44    dawson29     sbatch_parallel_     1    128     3:00:00  R 48:41\r\n"
     ]
    }
   ],
   "source": [
    "!squeue -A dawson29"
   ]
  },
  {
   "cell_type": "code",
   "execution_count": 141,
   "id": "2ea40977",
   "metadata": {},
   "outputs": [
    {
     "name": "stdout",
     "output_type": "stream",
     "text": [
      "## library for working with weather radar data. Py-ART is partly\r\n",
      "## supported by the U.S. Department of Energy as part of the Atmospheric\r\n",
      "## Radiation Measurement (ARM) Climate Research Facility, an Office of\r\n",
      "## Science user facility.\r\n",
      "##\r\n",
      "## If you use this software to prepare a publication, please cite:\r\n",
      "##\r\n",
      "##     JJ Helmus and SM Collis, JORS 2016, doi: 10.5334/jors.119\r\n",
      "\r\n",
      "Number of NOXP files: 202\r\n"
     ]
    }
   ],
   "source": [
    "!tail parallel_gridding.out"
   ]
  },
  {
   "cell_type": "code",
   "execution_count": 138,
   "id": "b476f05a",
   "metadata": {
    "scrolled": true
   },
   "outputs": [],
   "source": [
    "outdir = \"/depot/dawson29/data/Projects/PERiLS/obsdata/2022/GRID/IOP2/\"\n",
    "basedir = \"/depot/dawson29/data/Projects/PERiLS/obsdata/2022/NOXP/\""
   ]
  },
  {
   "cell_type": "code",
   "execution_count": 143,
   "id": "6a3d3e41",
   "metadata": {},
   "outputs": [
    {
     "name": "stdout",
     "output_type": "stream",
     "text": [
      "    198    1775   13997\r\n"
     ]
    }
   ],
   "source": [
    "ls -lth $outdir/NOXP | wc"
   ]
  },
  {
   "cell_type": "code",
   "execution_count": 144,
   "id": "e63c8114",
   "metadata": {},
   "outputs": [
    {
     "name": "stdout",
     "output_type": "stream",
     "text": [
      "    198    1775   13997\r\n"
     ]
    }
   ],
   "source": [
    "ls -lth $basedir/cfrad | wc"
   ]
  },
  {
   "cell_type": "code",
   "execution_count": 145,
   "id": "4e99835d",
   "metadata": {},
   "outputs": [
    {
     "name": "stdout",
     "output_type": "stream",
     "text": [
      "total 13G\r\n",
      "-rw-rw---- 1 syed44 dawson29-data  24M Jun 10 20:14 NOX220330195317.nc\r\n",
      "-rw-rw---- 1 syed44 dawson29-data  24M Jun 10 20:08 NOX220330193212.nc\r\n",
      "-rw-rw---- 1 syed44 dawson29-data  24M Jun 10 19:56 NOX220330194903.nc\r\n",
      "-rw-rw---- 1 syed44 dawson29-data  24M Jun 10 19:54 NOX220330194403.nc\r\n",
      "-rw-rw---- 1 syed44 dawson29-data  24M Jun 10 19:52 NOX220330192758.nc\r\n",
      "-rw-rw---- 1 syed44 dawson29-data  35M Jun 10 18:57 NOX220330223202.nc\r\n",
      "-rw-rw---- 1 syed44 dawson29-data  35M Jun 10 18:57 NOX220330222738.nc\r\n",
      "-rw-rw---- 1 syed44 dawson29-data  37M Jun 10 18:57 NOX220331020202.nc\r\n",
      "-rw-rw---- 1 syed44 dawson29-data  38M Jun 10 18:56 NOX220330213732.nc\r\n",
      "-rw-rw---- 1 syed44 dawson29-data  39M Jun 10 18:56 NOX220330204202.nc\r\n",
      "-rw-rw---- 1 syed44 dawson29-data  39M Jun 10 18:56 NOX220330202216.nc\r\n",
      "-rw-rw---- 1 syed44 dawson29-data  35M Jun 10 18:56 NOX220330224202.nc\r\n",
      "-rw-rw---- 1 syed44 dawson29-data  39M Jun 10 18:55 NOX220330203201.nc\r\n",
      "-rw-rw---- 1 syed44 dawson29-data  38M Jun 10 18:55 NOX220330213202.nc\r\n",
      "-rw-rw---- 1 syed44 dawson29-data  37M Jun 10 18:55 NOX220331015731.nc\r\n",
      "-rw-rw---- 1 syed44 dawson29-data  35M Jun 10 18:55 NOX220330223733.nc\r\n",
      "-rw-rw---- 1 syed44 dawson29-data  39M Jun 10 18:55 NOX220330220201.nc\r\n",
      "-rw-rw---- 1 syed44 dawson29-data  39M Jun 10 18:55 NOX220330211733.nc\r\n",
      "-rw-rw---- 1 syed44 dawson29-data  40M Jun 10 18:55 NOX220331013201.nc\r\n",
      "-rw-rw---- 1 syed44 dawson29-data  36M Jun 10 18:54 NOX220331021201.nc\r\n",
      "-rw-rw---- 1 syed44 dawson29-data  39M Jun 10 18:54 NOX220330221201.nc\r\n",
      "-rw-rw---- 1 syed44 dawson29-data  33M Jun 10 18:54 NOX220330214419.nc\r\n",
      "-rw-rw---- 1 syed44 dawson29-data  39M Jun 10 18:54 NOX220330205202.nc\r\n",
      "-rw-rw---- 1 syed44 dawson29-data  40M Jun 10 18:54 NOX220331010201.nc\r\n",
      "-rw-rw---- 1 syed44 dawson29-data  39M Jun 10 18:54 NOX220330220732.nc\r\n",
      "-rw-rw---- 1 syed44 dawson29-data  31M Jun 10 18:54 NOX220331020419.nc\r\n",
      "-rw-rw---- 1 syed44 dawson29-data  38M Jun 10 18:54 NOX220330214733.nc\r\n",
      "-rw-rw---- 1 syed44 dawson29-data  40M Jun 10 18:54 NOX220331005732.nc\r\n",
      "-rw-rw---- 1 syed44 dawson29-data  33M Jun 10 18:54 NOX220330205419.nc\r\n",
      "-rw-rw---- 1 syed44 dawson29-data  40M Jun 10 18:54 NOX220331010731.nc\r\n",
      "-rw-rw---- 1 syed44 dawson29-data  35M Jun 10 18:54 NOX220330225201.nc\r\n",
      "-rw-rw---- 1 syed44 dawson29-data  38M Jun 10 18:54 NOX220330214202.nc\r\n",
      "-rw-rw---- 1 syed44 dawson29-data  38M Jun 10 18:54 NOX220330215733.nc\r\n",
      "-rw-rw---- 1 syed44 dawson29-data  38M Jun 10 18:53 NOX220331015202.nc\r\n",
      "-rw-rw---- 1 syed44 dawson29-data  39M Jun 10 18:53 NOX220330211202.nc\r\n",
      "-rw-rw---- 1 syed44 dawson29-data  39M Jun 10 18:53 NOX220331014201.nc\r\n",
      "-rw-rw---- 1 syed44 dawson29-data  35M Jun 10 18:53 NOX220330224732.nc\r\n",
      "-rw-rw---- 1 syed44 dawson29-data  33M Jun 10 18:53 NOX220330210418.nc\r\n",
      "-rw-rw---- 1 syed44 dawson29-data  36M Jun 10 18:53 NOX220331021732.nc\r\n",
      "-rw-rw---- 1 syed44 dawson29-data  40M Jun 10 18:53 NOX220330221732.nc\r\n",
      "-rw-rw---- 1 syed44 dawson29-data  39M Jun 10 18:53 NOX220330222207.nc\r\n",
      "-rw-rw---- 1 syed44 dawson29-data  33M Jun 10 18:53 NOX220330210002.nc\r\n",
      "-rw-rw---- 1 syed44 dawson29-data  39M Jun 10 18:53 NOX220331012201.nc\r\n",
      "-rw-rw---- 1 syed44 dawson29-data  38M Jun 10 18:53 NOX220330212207.nc\r\n",
      "-rw-rw---- 1 syed44 dawson29-data  40M Jun 10 18:53 NOX220331011733.nc\r\n",
      "-rw-rw---- 1 syed44 dawson29-data  39M Jun 10 18:53 NOX220330210201.nc\r\n",
      "-rw-rw---- 1 syed44 dawson29-data  39M Jun 10 18:52 NOX220331014733.nc\r\n",
      "-rw-rw---- 1 syed44 dawson29-data  39M Jun 10 18:52 NOX220330205732.nc\r\n",
      "-rw-rw---- 1 syed44 dawson29-data  31M Jun 10 18:52 NOX220331021418.nc\r\n",
      "-rw-rw---- 1 syed44 dawson29-data  40M Jun 10 18:52 NOX220331012736.nc\r\n",
      "-rw-rw---- 1 syed44 dawson29-data  36M Jun 10 18:52 NOX220331020733.nc\r\n",
      "-rw-rw---- 1 syed44 dawson29-data  33M Jun 10 18:52 NOX220330204419.nc\r\n",
      "-rw-rw---- 1 syed44 dawson29-data  32M Jun 10 18:52 NOX220331015419.nc\r\n",
      "-rw-rw---- 1 syed44 dawson29-data  33M Jun 10 18:52 NOX220331013418.nc\r\n",
      "-rw-rw---- 1 syed44 dawson29-data  33M Jun 10 18:52 NOX220330213004.nc\r\n",
      "-rw-rw---- 1 syed44 dawson29-data  31M Jun 10 18:52 NOX220331021002.nc\r\n",
      "-rw-rw---- 1 syed44 dawson29-data  33M Jun 10 18:51 NOX220330203419.nc\r\n",
      "-rw-rw---- 1 syed44 dawson29-data  32M Jun 10 18:51 NOX220330222424.nc\r\n",
      "-rw-rw---- 1 syed44 dawson29-data  38M Jun 10 18:51 NOX220330215202.nc\r\n",
      "-rw-rw---- 1 syed44 dawson29-data  33M Jun 10 18:51 NOX220330204003.nc\r\n",
      "-rw-rw---- 1 syed44 dawson29-data  40M Jun 10 18:51 NOX220331005201.nc\r\n",
      "-rw-rw---- 1 syed44 dawson29-data  33M Jun 10 18:51 NOX220330211003.nc\r\n",
      "-rw-rw---- 1 syed44 dawson29-data  32M Jun 10 18:51 NOX220330223419.nc\r\n",
      "-rw-rw---- 1 syed44 dawson29-data  33M Jun 10 18:51 NOX220330214003.nc\r\n",
      "-rw-rw---- 1 syed44 dawson29-data  39M Jun 10 18:51 NOX220330204733.nc\r\n",
      "-rw-rw---- 1 syed44 dawson29-data  39M Jun 10 18:51 NOX220330210732.nc\r\n",
      "-rw-rw---- 1 syed44 dawson29-data  33M Jun 10 18:50 NOX220330212424.nc\r\n",
      "-rw-rw---- 1 syed44 dawson29-data  35M Jun 10 18:50 NOX220330225732.nc\r\n",
      "-rw-rw---- 1 syed44 dawson29-data  33M Jun 10 18:50 NOX220330205003.nc\r\n",
      "-rw-rw---- 1 syed44 dawson29-data  39M Jun 10 18:50 NOX220330203732.nc\r\n",
      "-rw-rw---- 1 syed44 dawson29-data  33M Jun 10 18:50 NOX220330220418.nc\r\n",
      "-rw-rw---- 1 syed44 dawson29-data  23M Jun 10 18:50 NOX220331021617.nc\r\n",
      "-rw-rw---- 1 syed44 dawson29-data  33M Jun 10 18:50 NOX220331011419.nc\r\n",
      "-rw-rw---- 1 syed44 dawson29-data  33M Jun 10 18:50 NOX220331013003.nc\r\n",
      "-rw-rw---- 1 syed44 dawson29-data  38M Jun 10 18:50 NOX220330212737.nc\r\n",
      "-rw-rw---- 1 syed44 dawson29-data  33M Jun 10 18:50 NOX220331012003.nc\r\n",
      "-rw-rw---- 1 syed44 dawson29-data  33M Jun 10 18:50 NOX220330215419.nc\r\n",
      "-rw-rw---- 1 syed44 dawson29-data  33M Jun 10 18:50 NOX220330211419.nc\r\n",
      "-rw-rw---- 1 syed44 dawson29-data  32M Jun 10 18:50 NOX220330223003.nc\r\n",
      "-rw-rw---- 1 syed44 dawson29-data  33M Jun 10 18:50 NOX220331011003.nc\r\n",
      "-rw-rw---- 1 syed44 dawson29-data  40M Jun 10 18:50 NOX220331011202.nc\r\n",
      "-rw-rw---- 1 syed44 dawson29-data  33M Jun 10 18:49 NOX220330203003.nc\r\n",
      "-rw-rw---- 1 syed44 dawson29-data  40M Jun 10 18:49 NOX220331013731.nc\r\n",
      "-rw-rw---- 1 syed44 dawson29-data  33M Jun 10 18:49 NOX220330215003.nc\r\n",
      "-rw-rw---- 1 syed44 dawson29-data  33M Jun 10 18:49 NOX220330202018.nc\r\n",
      "-rw-rw---- 1 syed44 dawson29-data  32M Jun 10 18:49 NOX220331020003.nc\r\n",
      "-rw-rw---- 1 syed44 dawson29-data  32M Jun 10 18:48 NOX220331015003.nc\r\n",
      "-rw-rw---- 1 syed44 dawson29-data  39M Jun 10 18:48 NOX220331004202.nc\r\n",
      "-rw-rw---- 1 syed44 dawson29-data  33M Jun 10 18:48 NOX220331012418.nc\r\n",
      "-rw-rw---- 1 syed44 dawson29-data  33M Jun 10 18:48 NOX220331014003.nc\r\n",
      "-rw-rw---- 1 syed44 dawson29-data  33M Jun 10 18:48 NOX220330213419.nc\r\n",
      "-rw-rw---- 1 syed44 dawson29-data  33M Jun 10 18:48 NOX220331014418.nc\r\n",
      "-rw-rw---- 1 syed44 dawson29-data  33M Jun 10 18:48 NOX220330212003.nc\r\n",
      "-rw-rw---- 1 syed44 dawson29-data  33M Jun 10 18:48 NOX220330222003.nc\r\n",
      "-rw-rw---- 1 syed44 dawson29-data  36M Jun 10 18:48 NOX220330231201.nc\r\n",
      "-rw-rw---- 1 syed44 dawson29-data  31M Jun 10 18:48 NOX220330224003.nc\r\n",
      "-rw-rw---- 1 syed44 dawson29-data  33M Jun 10 18:47 NOX220330221418.nc\r\n",
      "-rw-rw---- 1 syed44 dawson29-data  31M Jun 10 18:47 NOX220330224419.nc\r\n",
      "-rw-rw---- 1 syed44 dawson29-data  23M Jun 10 18:47 NOX220331020618.nc\r\n",
      "-rw-rw---- 1 syed44 dawson29-data  33M Jun 10 18:47 NOX220331010417.nc\r\n",
      "-rw-rw---- 1 syed44 dawson29-data  39M Jun 10 18:47 NOX220331004733.nc\r\n",
      "-rw-rw---- 1 syed44 dawson29-data  33M Jun 10 18:47 NOX220330220003.nc\r\n",
      "-rw-rw---- 1 syed44 dawson29-data  40M Jun 10 18:46 NOX220331000732.nc\r\n",
      "-rw-rw---- 1 syed44 dawson29-data  36M Jun 10 18:46 NOX220330230201.nc\r\n",
      "-rw-rw---- 1 syed44 dawson29-data  36M Jun 10 18:46 NOX220330231731.nc\r\n",
      "-rw-rw---- 1 syed44 dawson29-data  37M Jun 10 18:46 NOX220330233202.nc\r\n",
      "-rw-rw---- 1 syed44 dawson29-data  33M Jun 10 18:45 NOX220331010003.nc\r\n",
      "-rw-rw---- 1 syed44 dawson29-data  36M Jun 10 18:45 NOX220330232201.nc\r\n",
      "-rw-rw---- 1 syed44 dawson29-data  40M Jun 10 18:45 NOX220331001732.nc\r\n",
      "-rw-rw---- 1 syed44 dawson29-data  24M Jun 10 18:45 NOX220331015616.nc\r\n",
      "-rw-rw---- 1 syed44 dawson29-data  35M Jun 10 18:44 NOX220330230732.nc\r\n",
      "-rw-rw---- 1 syed44 dawson29-data  39M Jun 10 18:44 NOX220331002736.nc\r\n",
      "-rw-rw---- 1 syed44 dawson29-data  33M Jun 10 18:44 NOX220330221003.nc\r\n",
      "-rw-rw---- 1 syed44 dawson29-data  40M Jun 10 18:44 NOX220331001201.nc\r\n",
      "-rw-rw---- 1 syed44 dawson29-data  39M Jun 10 18:43 NOX220331003201.nc\r\n",
      "-rw-rw---- 1 syed44 dawson29-data  38M Jun 10 18:42 NOX220330234202.nc\r\n",
      "-rw-rw---- 1 syed44 dawson29-data  40M Jun 10 18:42 NOX220331002201.nc\r\n",
      "-rw-rw---- 1 syed44 dawson29-data  33M Jun 10 18:42 NOX220331005418.nc\r\n",
      "-rw-rw---- 1 syed44 dawson29-data  39M Jun 10 18:42 NOX220331003733.nc\r\n",
      "-rw-rw---- 1 syed44 dawson29-data  31M Jun 10 18:41 NOX220330225002.nc\r\n",
      "-rw-rw---- 1 syed44 dawson29-data  24M Jun 10 18:41 NOX220331014617.nc\r\n",
      "-rw-rw---- 1 syed44 dawson29-data  38M Jun 10 18:41 NOX220330233733.nc\r\n",
      "-rw-rw---- 1 syed44 dawson29-data  38M Jun 10 18:41 NOX220330232735.nc\r\n",
      "-rw-rw---- 1 syed44 dawson29-data  39M Jun 10 18:41 NOX220330235202.nc\r\n",
      "-rw-rw---- 1 syed44 dawson29-data  33M Jun 10 18:41 NOX220331005003.nc\r\n",
      "-rw-rw---- 1 syed44 dawson29-data  24M Jun 10 18:40 NOX220331012622.nc\r\n",
      "-rw-rw---- 1 syed44 dawson29-data  39M Jun 10 18:40 NOX220330235732.nc\r\n",
      "-rw-rw---- 1 syed44 dawson29-data  25M Jun 10 18:40 NOX220331013616.nc\r\n",
      "-rw-rw---- 1 syed44 dawson29-data  39M Jun 10 18:39 NOX220331000202.nc\r\n",
      "-rw-rw---- 1 syed44 dawson29-data  25M Jun 10 18:39 NOX220331010616.nc\r\n",
      "-rw-rw---- 1 syed44 dawson29-data  39M Jun 10 18:38 NOX220330234733.nc\r\n",
      "-rw-rw---- 1 syed44 dawson29-data  31M Jun 10 18:38 NOX220330225418.nc\r\n",
      "-rw-rw---- 1 syed44 dawson29-data  25M Jun 10 18:38 NOX220331011617.nc\r\n",
      "-rw-rw---- 1 syed44 dawson29-data  33M Jun 10 18:38 NOX220331004419.nc\r\n",
      "-rw-rw---- 1 syed44 dawson29-data  31M Jun 10 18:37 NOX220330230003.nc\r\n",
      "-rw-rw---- 1 syed44 dawson29-data  24M Jun 10 18:36 NOX220330215617.nc\r\n",
      "-rw-rw---- 1 syed44 dawson29-data  24M Jun 10 18:35 NOX220330214618.nc\r\n",
      "-rw-rw---- 1 syed44 dawson29-data  24M Jun 10 18:35 NOX220330222623.nc\r\n",
      "-rw-rw---- 1 syed44 dawson29-data  24M Jun 10 18:35 NOX220330212622.nc\r\n",
      "-rw-rw---- 1 syed44 dawson29-data  31M Jun 10 18:34 NOX220330230418.nc\r\n",
      "-rw-rw---- 1 syed44 dawson29-data  25M Jun 10 18:34 NOX220330203617.nc\r\n",
      "-rw-rw---- 1 syed44 dawson29-data  25M Jun 10 18:34 NOX220330211617.nc\r\n",
      "-rw-rw---- 1 syed44 dawson29-data  33M Jun 10 18:34 NOX220331004003.nc\r\n",
      "-rw-rw---- 1 syed44 dawson29-data  24M Jun 10 18:34 NOX220330204617.nc\r\n",
      "-rw-rw---- 1 syed44 dawson29-data  25M Jun 10 18:34 NOX220330205617.nc\r\n",
      "-rw-rw---- 1 syed44 dawson29-data  24M Jun 10 18:34 NOX220331005617.nc\r\n",
      "-rw-rw---- 1 syed44 dawson29-data  24M Jun 10 18:33 NOX220330213617.nc\r\n",
      "-rw-rw---- 1 syed44 dawson29-data  24M Jun 10 18:33 NOX220330223618.nc\r\n",
      "-rw-rw---- 1 syed44 dawson29-data  33M Jun 10 18:32 NOX220331003003.nc\r\n",
      "-rw-rw---- 1 syed44 dawson29-data  25M Jun 10 18:32 NOX220330210617.nc\r\n",
      "-rw-rw---- 1 syed44 dawson29-data  32M Jun 10 18:32 NOX220331002003.nc\r\n",
      "-rw-rw---- 1 syed44 dawson29-data  25M Jun 10 18:32 NOX220330220617.nc\r\n",
      "-rw-rw---- 1 syed44 dawson29-data  33M Jun 10 18:31 NOX220331002422.nc\r\n",
      "-rw-rw---- 1 syed44 dawson29-data  24M Jun 10 18:31 NOX220331004617.nc\r\n",
      "-rw-rw---- 1 syed44 dawson29-data  24M Jun 10 18:31 NOX220330224617.nc\r\n",
      "-rw-rw---- 1 syed44 dawson29-data  33M Jun 10 18:31 NOX220331001418.nc\r\n",
      "-rw-rw---- 1 syed44 dawson29-data  33M Jun 10 18:30 NOX220331003419.nc\r\n",
      "-rw-rw---- 1 syed44 dawson29-data  31M Jun 10 18:30 NOX220330231003.nc\r\n",
      "-rw-rw---- 1 syed44 dawson29-data  25M Jun 10 18:30 NOX220330221617.nc\r\n",
      "-rw-rw---- 1 syed44 dawson29-data  32M Jun 10 18:30 NOX220331001003.nc\r\n",
      "-rw-rw---- 1 syed44 dawson29-data  32M Jun 10 18:29 NOX220331000419.nc\r\n",
      "-rw-rw---- 1 syed44 dawson29-data  31M Jun 10 18:28 NOX220330231417.nc\r\n",
      "-rw-rw---- 1 syed44 dawson29-data  31M Jun 10 18:28 NOX220330232002.nc\r\n",
      "-rw-rw---- 1 syed44 dawson29-data  31M Jun 10 18:28 NOX220330233419.nc\r\n",
      "-rw-rw---- 1 syed44 dawson29-data  32M Jun 10 18:28 NOX220330235003.nc\r\n",
      "-rw-rw---- 1 syed44 dawson29-data  32M Jun 10 18:28 NOX220331000003.nc\r\n",
      "-rw-rw---- 1 syed44 dawson29-data  31M Jun 10 18:28 NOX220330232421.nc\r\n",
      "-rw-rw---- 1 syed44 dawson29-data  32M Jun 10 18:27 NOX220330235419.nc\r\n",
      "-rw-rw---- 1 syed44 dawson29-data  31M Jun 10 18:27 NOX220330233003.nc\r\n",
      "-rw-rw---- 1 syed44 dawson29-data  32M Jun 10 18:27 NOX220330234419.nc\r\n",
      "-rw-rw---- 1 syed44 dawson29-data  32M Jun 10 18:27 NOX220330234003.nc\r\n",
      "-rw-rw---- 1 syed44 dawson29-data  24M Jun 10 18:26 NOX220331003617.nc\r\n",
      "-rw-rw---- 1 syed44 dawson29-data  24M Jun 10 18:25 NOX220330225617.nc\r\n",
      "-rw-rw---- 1 syed44 dawson29-data  24M Jun 10 18:25 NOX220331002620.nc\r\n",
      "-rw-rw---- 1 syed44 dawson29-data  24M Jun 10 18:24 NOX220331001617.nc\r\n",
      "-rw-rw---- 1 syed44 dawson29-data  24M Jun 10 18:23 NOX220331000617.nc\r\n",
      "-rw-rw---- 1 syed44 dawson29-data  24M Jun 10 18:23 NOX220330230617.nc\r\n",
      "-rw-rw---- 1 syed44 dawson29-data  24M Jun 10 18:22 NOX220330231616.nc\r\n",
      "-rw-rw---- 1 syed44 dawson29-data  24M Jun 10 18:21 NOX220330235617.nc\r\n",
      "-rw-rw---- 1 syed44 dawson29-data  24M Jun 10 18:21 NOX220330234617.nc\r\n",
      "-rw-rw---- 1 syed44 dawson29-data  24M Jun 10 18:21 NOX220330232620.nc\r\n",
      "-rw-rw---- 1 syed44 dawson29-data  11M Jun 10 18:21 NOX220330190803.nc\r\n",
      "-rw-rw---- 1 syed44 dawson29-data  11M Jun 10 18:21 NOX220330192545.nc\r\n",
      "-rw-rw---- 1 syed44 dawson29-data  11M Jun 10 18:21 NOX220330190137.nc\r\n",
      "-rw-rw---- 1 syed44 dawson29-data  24M Jun 10 18:21 NOX220330233617.nc\r\n",
      "-rw-rw---- 1 syed44 dawson29-data  11M Jun 10 18:21 NOX220330190627.nc\r\n",
      "-rw-rw---- 1 syed44 dawson29-data  11M Jun 10 18:21 NOX220330185904.nc\r\n",
      "-rw-rw---- 1 syed44 dawson29-data  11M Jun 10 18:21 NOX220330190452.nc\r\n",
      "-rw-rw---- 1 syed44 dawson29-data  11M Jun 10 18:21 NOX220330190317.nc\r\n",
      "-rw-rw---- 1 syed44 dawson29-data  11M Jun 10 18:21 NOX220330185731.nc\r\n",
      "-rw-rw---- 1 syed44 dawson29-data  39M Jun 10 18:21 NOX220330195839.nc\r\n",
      "-rw-rw---- 1 syed44 dawson29-data  39M Jun 10 18:21 NOX220330200359.nc\r\n",
      "-rw-rw---- 1 syed44 dawson29-data  40M Jun 10 18:21 NOX220330200639.nc\r\n",
      "-rw-rw---- 1 syed44 dawson29-data  39M Jun 10 18:21 NOX220330200119.nc\r\n",
      "-rw-rw---- 1 syed44 dawson29-data 9.8M Jun 10 18:20 NOX220330192117.nc\r\n",
      "-rw-rw---- 1 syed44 dawson29-data 4.3M Jun 10 18:20 NOX220330191248.nc\r\n",
      "-rw-rw---- 1 syed44 dawson29-data 4.3M Jun 10 18:20 NOX220330191112.nc\r\n"
     ]
    }
   ],
   "source": [
    "ls -lth $outdir/NOXP"
   ]
  },
  {
   "cell_type": "code",
   "execution_count": 33,
   "id": "9d4a9a50",
   "metadata": {},
   "outputs": [],
   "source": [
    "# import xarray as xr\n",
    "# ds = xr.open_dataset(basedir+'/wdssii/Reflectivity/00.50/20220330-185731.netcdf')"
   ]
  },
  {
   "cell_type": "code",
   "execution_count": 34,
   "id": "b2f0ae3c",
   "metadata": {},
   "outputs": [],
   "source": [
    "# ds#['Reflectivity']"
   ]
  },
  {
   "cell_type": "code",
   "execution_count": 64,
   "id": "38baac3f",
   "metadata": {},
   "outputs": [],
   "source": [
    "def mask_azimuth_jumps(radar):\n",
    "    '''Mask Azimuth Jumps'''\n",
    "    print(\"Masking azimuth jumps \\n\")\n",
    "    az_diff = np.diff(radar.azimuth['data'])\n",
    "    jumps = np.where((np.abs(az_diff) >= 10) & (np.abs(az_diff) < 359))[0]\n",
    "\n",
    "    if len(jumps):\n",
    "        for field in radar.fields.keys():\n",
    "            for jump in jumps:\n",
    "                radar.fields[field]['data'][jump].mask = True\n",
    "\n",
    "    # Mask fields where azimuth is greater than 90 and less than 100\n",
    "    azimuth = radar.azimuth['data']\n",
    "    azimuth_mask = np.logical_and(azimuth > 92, azimuth < 125)\n",
    "    for field in radar.fields.keys():\n",
    "        radar.fields[field]['data'][azimuth_mask] = np.ma.masked\n",
    "\n",
    "    return radar"
   ]
  },
  {
   "cell_type": "code",
   "execution_count": 65,
   "id": "97e139ee",
   "metadata": {},
   "outputs": [
    {
     "name": "stdout",
     "output_type": "stream",
     "text": [
      "Masking azimuth jumps \n",
      "\n"
     ]
    }
   ],
   "source": [
    "radar = mask_azimuth_jumps(radar)"
   ]
  },
  {
   "cell_type": "code",
   "execution_count": null,
   "id": "57e7aec0",
   "metadata": {},
   "outputs": [],
   "source": []
  },
  {
   "cell_type": "code",
   "execution_count": 13,
   "id": "76c91425",
   "metadata": {},
   "outputs": [],
   "source": [
    "radar = pyart.io.read(file_list[88])\n",
    "az_diff = np.diff(radar.azimuth['data'])\n",
    "jumps = np.where((np.abs(az_diff) >= 10) & (np.abs(az_diff) < 359))[0]"
   ]
  },
  {
   "cell_type": "code",
   "execution_count": 15,
   "id": "36c82bfd",
   "metadata": {},
   "outputs": [
    {
     "data": {
      "text/plain": [
       "'/depot/dawson29/data/Projects/PERiLS/obsdata/2022/NOXP/NOX220330223202.RAWC1YC'"
      ]
     },
     "execution_count": 15,
     "metadata": {},
     "output_type": "execute_result"
    }
   ],
   "source": [
    "file_list[88]"
   ]
  },
  {
   "cell_type": "code",
   "execution_count": 16,
   "id": "5e7559f1",
   "metadata": {},
   "outputs": [],
   "source": [
    "radar = pyart.io.read_sigmet(file_list[88])"
   ]
  },
  {
   "cell_type": "code",
   "execution_count": 17,
   "id": "4d054854",
   "metadata": {
    "scrolled": true
   },
   "outputs": [
    {
     "data": {
      "image/png": "[encoded data removed]",
      "text/plain": [
       "<Figure size 432x288 with 2 Axes>"
      ]
     },
     "metadata": {
      "needs_background": "light"
     },
     "output_type": "display_data"
    }
   ],
   "source": [
    "# radar.fields.keys()\n",
    "display = pyart.graph.RadarDisplay(radar)\n",
    "display.plot_ppi(\"reflectivity\")"
   ]
  },
  {
   "cell_type": "code",
   "execution_count": 20,
   "id": "4ec68227",
   "metadata": {},
   "outputs": [
    {
     "data": {
      "text/plain": [
       "76425.0"
      ]
     },
     "execution_count": 20,
     "metadata": {},
     "output_type": "execute_result"
    }
   ],
   "source": [
    "radar.range['data'].max()"
   ]
  },
  {
   "cell_type": "code",
   "execution_count": 91,
   "id": "af5cb648",
   "metadata": {},
   "outputs": [
    {
     "data": {
      "text/plain": [
       "{'long_name': 'Target angle for sweep',\n",
       " 'units': 'degrees',\n",
       " 'standard_name': 'target_fixed_angle',\n",
       " 'data': array([ 0.49987793,  1.1975098 ,  1.9006348 ,  2.5982666 ,  3.4002686 ,\n",
       "         4.2022705 ,  7.998047  , 10.997314  , 14.002075  ], dtype=float32)}"
      ]
     },
     "execution_count": 91,
     "metadata": {},
     "output_type": "execute_result"
    }
   ],
   "source": [
    "radar.fixed_angle"
   ]
  },
  {
   "cell_type": "code",
   "execution_count": null,
   "id": "88401c80",
   "metadata": {
    "scrolled": true
   },
   "outputs": [],
   "source": [
    "sweeps = []\n",
    "ranges = []\n",
    "for file in file_list:\n",
    "    radar = pyart.io.read_sigmet(file)\n",
    "    if radar.nsweeps > 3:\n",
    "#         print(f'Sweeps: {radar.nsweeps}, {radar.range[\"data\"].max()} \\n')\n",
    "        sweeps.append(radar.nsweeps)\n",
    "        ranges.append(radar.range[\"data\"].max())\n",
    "    else: continue"
   ]
  },
  {
   "cell_type": "code",
   "execution_count": null,
   "id": "8fc657a3",
   "metadata": {},
   "outputs": [],
   "source": []
  },
  {
   "cell_type": "code",
   "execution_count": null,
   "id": "a46b4139",
   "metadata": {},
   "outputs": [],
   "source": []
  },
  {
   "cell_type": "code",
   "execution_count": 60,
   "id": "d632a5da",
   "metadata": {},
   "outputs": [],
   "source": [
    "import multiprocessing as mp\n",
    "import time\n",
    "import os\n",
    "import glob\n",
    "from matplotlib import pyplot as plt\n",
    "import numpy as np\n",
    "import pyart\n",
    "import warnings\n",
    "warnings.filterwarnings(\"ignore\")\n",
    "\n",
    "\n",
    "def get_file_list(directory):\n",
    "    files = []\n",
    "    for root, dirs, filenames in os.walk(directory):\n",
    "        for filename in filenames:\n",
    "            if filename.startswith(\"NOX\"):\n",
    "                files.append(os.path.join(root, filename))\n",
    "    files.sort()\n",
    "    return files\n",
    "\n",
    "\n",
    "def _align_field(field):\n",
    "    values, counts = np.unique(field['data'], return_counts=True)\n",
    "    c_value = values[np.argmax(counts)]\n",
    "    field['data'] = np.array([c_value])\n",
    "    return field\n",
    "\n",
    "\n",
    "def align_radar_coords(radar):\n",
    "    print(\"Aligning coordinates \\n\")\n",
    "    for field_name in ['longitude', 'latitude', 'altitude', 'altitude_agl']:\n",
    "        setattr(radar, field_name, _align_field(getattr(radar, field_name)))\n",
    "    return radar\n",
    "\n",
    "def mask_data(radar, field, gatefilter):\n",
    "    print(f'Masking: {field} \\n')\n",
    "    dsp = pyart.correct.despeckle_field(\n",
    "        radar, field, gatefilter=gatefilter, size=15)\n",
    "    new_field = radar.fields[field].copy()\n",
    "    new_field['data'] = np.ma.masked_where(\n",
    "        dsp.gate_included == False, radar.fields[field]['data'])\n",
    "    radar.add_field(field, new_field, replace_existing=True)\n",
    "    return radar\n",
    "\n",
    "\n",
    "# function to dealiase the Doppler velocity\n",
    "def dealiase(radar, vel_name='VEL_F', gatefilter=None, method=\"region\"):\n",
    "    '''\n",
    "    Dealias Doppler velocities using Py-ART.\n",
    "    method : str\n",
    "        Method to use for the dealiasing. Can be 'unwrap' or 'region'.\n",
    "    '''\n",
    "    # Create a GateFilter if one was not provided\n",
    "    if gatefilter is None:\n",
    "        gatefilter = pyart.correct.GateFilter(radar)\n",
    "    # Dealias Doppler velocities using the selected method\n",
    "    if method == \"unwrap\":\n",
    "        corr_vel = pyart.correct.dealias_unwrap_phase(radar, vel_field=vel_name,\n",
    "                                                      keep_original=False, gatefilter=gatefilter)\n",
    "    elif method == \"region\":\n",
    "        corr_vel = pyart.correct.dealias_region_based(radar, vel_field=vel_name,\n",
    "                                                      keep_original=False, gatefilter=gatefilter)\n",
    "    # Add the dealiased Doppler velocities to the radar object\n",
    "    radar.add_field(vel_name, corr_vel, replace_existing=True)\n",
    "    return radar\n",
    "\n",
    "\n",
    "def filter_data(radar, refl_field, refl_thresh, vel_field,\n",
    "                ncp_field=None, ncp_thresh=None,\n",
    "                rho_field=None, rho_thresh=None,\n",
    "                dealias_method=\"region\"):\n",
    "    '''Remove noise based on velocity texture,snr, and rhohv, and mask all the fields'''\n",
    "\n",
    "    # Align radar coords\n",
    "#     radar = align_radar_coords(radar)\n",
    "    texture = pyart.retrieve.calculate_velocity_texture(radar,\n",
    "                                                        vel_field=vel_field,\n",
    "                                                        wind_size=16,\n",
    "                                                        check_nyq_uniform=False)\n",
    "    radar.add_field('VT', texture, replace_existing=True)\n",
    "    gatefilter = pyart.filters.GateFilter(radar)\n",
    "    gatefilter.include_above(refl_field, refl_thresh)\n",
    "    gatefilter.include_inside(refl_field, 0, 70)\n",
    "#     gatefilter.exclude_outside(\"PHIDP\", -180, 180)\n",
    "    gatefilter.exclude_outside(\"differential_reflectivity\", -8, 8)\n",
    "    gatefilter.exclude_above(\"VT\", 20)\n",
    "    \n",
    "    if ncp_thresh is not None:\n",
    "        gatefilter.exclude_below(ncp_field, ncp_thresh)\n",
    "    else:\n",
    "        pass\n",
    "    \n",
    "    if rho_thresh is not None:\n",
    "        gatefilter.exclude_below(rho_field, rho_thresh)\n",
    "    else:\n",
    "        pass\n",
    "    \n",
    "    radar.scan_type = b'ppi'\n",
    "    radar = mask_data(radar, refl_field, gatefilter)\n",
    "    radar = mask_data(radar, vel_field, gatefilter)\n",
    "\n",
    "    # Dealias\n",
    "    radar = dealiase(radar, vel_name=vel_field,\n",
    "                     gatefilter=gatefilter, method=dealias_method)\n",
    "\n",
    "    mask = np.ma.getmask(radar.fields[refl_field]['data'])\n",
    "\n",
    "    # Drop some fields\n",
    "    radar = _drop_fields(radar)\n",
    "\n",
    "    # iterate through remaining fields\n",
    "    skip_fields = [\"normalized_coherent_power\"]\n",
    "    for field in radar.fields.keys():\n",
    "        if any(field == skip_field for skip_field in skip_fields):\n",
    "            continue\n",
    "        radar.fields[field]['data'] = np.ma.masked_where(\n",
    "            mask, radar.fields[field]['data'])\n",
    "\n",
    "    return radar\n",
    "\n",
    "\n",
    "def _rename_moms(radar):\n",
    "    '''Rename fields if they exist'''\n",
    "\n",
    "    if 'DBZ' in radar.fields:\n",
    "        radar.fields['REF'] = radar.fields.pop('DBZ')\n",
    "    if 'reflectivity' in radar.fields:\n",
    "        radar.fields['REF'] = radar.fields.pop('reflectivity')\n",
    "    if 'DBZH' in radar.fields:\n",
    "        radar.fields['REF'] = radar.fields.pop('DBZH')\n",
    "    if 'ref' in radar.fields:\n",
    "        radar.fields['REF'] = radar.fields.pop('ref')\n",
    "        \n",
    "    if 'VELH' in radar.fields:\n",
    "        radar.fields['VEL'] = radar.fields.pop('VELH')\n",
    "    if 'VEL_F' in radar.fields:\n",
    "        radar.fields['VEL'] = radar.fields.pop('VEL_F')\n",
    "    if 'velocity' in radar.fields:\n",
    "        radar.fields['VEL'] = radar.fields.pop('velocity')\n",
    "        \n",
    "    if 'ZDRC' in radar.fields:\n",
    "        radar.fields['ZDR'] = radar.fields.pop('ZDRC')\n",
    "    if 'differential_reflectivity' in radar.fields:\n",
    "        radar.fields['ZDR'] = radar.fields.pop('differential_reflectivity')\n",
    "        \n",
    "    if 'RHOHV' in radar.fields:\n",
    "        radar.fields['RHO'] = radar.fields.pop('RHOHV')\n",
    "    if 'cross_correlation_ratio' in radar.fields:\n",
    "        radar.fields['RHO'] = radar.fields.pop('cross_correlation_ratio')\n",
    "\n",
    "    return radar\n",
    "\n",
    "\n",
    "def linspace_range(start, stop, step):\n",
    "    num = np.floor((stop - start) / step + 1)\n",
    "    num-=1\n",
    "    return int(num), num*step/2\n",
    "\n",
    "\n",
    "def process_file(outdir, grid_file_path, CFRAD_DIR, rfile):\n",
    "    try:\n",
    "        print(f'Reading file: {os.path.basename(rfile)}')\n",
    "        radar = pyart.io.read_sigmet(rfile)\n",
    "        if radar.nsweeps > 3:\n",
    "            refl_field = \"reflectivity\"\n",
    "            vel_field = \"velocity\"\n",
    "            ncp_field = \"normalized_coherent_power\"\n",
    "            rho_field = \"cross_correlation_ratio\"\n",
    "            refl_thresh = -5\n",
    "            rho_thresh = None\n",
    "            ncp_thresh = None\n",
    "            radar = filter_data(radar,\n",
    "                                refl_field,\n",
    "                                refl_thresh,\n",
    "                                vel_field,\n",
    "                                ncp_field=ncp_field,\n",
    "                                ncp_thresh=ncp_thresh,\n",
    "                                rho_field=rho_field,\n",
    "                                rho_thresh=rho_thresh,\n",
    "                                dealias_method='region')\n",
    "            \n",
    "            print(f'Saving Cfradial in {CFRAD_DIR} as {os.path.basename(rfile).split(\".RAW\")[0]+\".nc\"}')\n",
    "            cffile = os.path.join(CFRAD_DIR, os.path.basename(rfile).split(\".RAW\")[0]+\".nc\")\n",
    "#             pyart.io.write_cfradial(filename=cffile, radar=radar)\n",
    "            \n",
    "            radar = _rename_moms(radar)\n",
    "\n",
    "            max_range = radar.range['data'].max()\n",
    "            xy, rng = linspace_range(-max_range, max_range, 500)\n",
    "\n",
    "            gfields = ['REF', 'VEL', 'ZDR', \"RHO\"]\n",
    "#             grid = pyart.map.grid_from_radars(radar, (41, xy, xy),\n",
    "#                                               ((0., 10e3), (-rng, rng),\n",
    "#                                                (-rng, rng)),\n",
    "#                                               weighting_function='Barnes2',\n",
    "#                                               fields=gfields)\n",
    "            del radar\n",
    "            print(f'Saving in {grid_file_path} as {os.path.basename(rfile).split(\".RAW\")[0]+\".nc\"}')\n",
    "            # Write grid\n",
    "#             pyart.io.write_grid(filename=os.path.join(\n",
    "#                 grid_file_path, os.path.basename(rfile).split(\".RAW\")[0]+\".nc\"), grid=grid)\n",
    "        else:\n",
    "            print(f'Not enough sweeps in {os.path.basename(rfile)} to process.')\n",
    "    except Exception as e:\n",
    "        print(f\"Error processing file: {os.path.basename(rfile)}\")\n",
    "        print(str(e))\n",
    "\n",
    "\n",
    "def process_file_wrapper(args):\n",
    "    return process_file(*args)"
   ]
  },
  {
   "cell_type": "raw",
   "id": "c76dc66e",
   "metadata": {},
   "source": [
    "if __name__ == \"__main__\":\n",
    "    outdir = \"/depot/dawson29/data/Projects/PERiLS/obsdata/2022/GRID/IOP2/\"\n",
    "    basedir = \"/depot/dawson29/data/Projects/PERiLS/obsdata/2022/NOXP/\"\n",
    "    file_list = get_file_list(basedir)\n",
    "    num_files = len(file_list)\n",
    "    print(\"Number of NOXP files:\", num_files)\n",
    "    grid_file_path = os.path.join(outdir, \"NOXP\")\n",
    "#     os.makedirs(grid_file_path, exist_ok=True)\n",
    "    CFRAD_DIR = os.path.join(grid_file_path, \"cfrad\")\n",
    "#     os.makedirs(CFRAD_DIR, exist_ok=True)\n",
    "\n",
    "#     # Create a pool of worker processes for DOW7\n",
    "    pool = mp.Pool()\n",
    "    results = pool.map(process_file_wrapper, [(outdir, grid_file_path, CFRAD_DIR, f) for f in file_list[10:15]])\n",
    "    pool.close()\n",
    "    pool.join()"
   ]
  },
  {
   "cell_type": "code",
   "execution_count": null,
   "id": "964b3b5b",
   "metadata": {},
   "outputs": [],
   "source": []
  },
  {
   "cell_type": "code",
   "execution_count": 57,
   "id": "89be5243",
   "metadata": {},
   "outputs": [],
   "source": [
    "radar = pyart.io.read_sigmet(file_list[134])"
   ]
  },
  {
   "cell_type": "code",
   "execution_count": 59,
   "id": "5d5d67ba",
   "metadata": {},
   "outputs": [
    {
     "data": {
      "text/plain": [
       "({'long_name': 'Longitude',\n",
       "  'standard_name': 'Longitude',\n",
       "  'units': 'degrees_east',\n",
       "  'data': array([-88.49521637])},\n",
       " {'long_name': 'Latitude',\n",
       "  'standard_name': 'Latitude',\n",
       "  'units': 'degrees_north',\n",
       "  'data': array([33.13253403])})"
      ]
     },
     "execution_count": 59,
     "metadata": {},
     "output_type": "execute_result"
    }
   ],
   "source": [
    "radar.longitude, radar.latitude"
   ]
  },
  {
   "cell_type": "code",
   "execution_count": null,
   "id": "99fa8ae4",
   "metadata": {},
   "outputs": [],
   "source": []
  }
 ],
 "metadata": {
  "kernelspec": {
   "display_name": "Python 3.9 (Default)",
   "language": "python",
   "name": "python3"
  },
  "language_info": {
   "codemirror_mode": {
    "name": "ipython",
    "version": 3
   },
   "file_extension": ".py",
   "mimetype": "text/x-python",
   "name": "python",
   "nbconvert_exporter": "python",
   "pygments_lexer": "ipython3",
   "version": "3.9.7"
  }
 },
 "nbformat": 4,
 "nbformat_minor": 5
}
