{
 "cells": [
  {
   "cell_type": "code",
   "execution_count": 2,
   "id": "9f8ab52e",
   "metadata": {},
   "outputs": [
    {
     "name": "stdout",
     "output_type": "stream",
     "text": [
      "\n",
      "## You are using the Python ARM Radar Toolkit (Py-ART), an open source\n",
      "## library for working with weather radar data. Py-ART is partly\n",
      "## supported by the U.S. Department of Energy as part of the Atmospheric\n",
      "## Radiation Measurement (ARM) Climate Research Facility, an Office of\n",
      "## Science user facility.\n",
      "##\n",
      "## If you use this software to prepare a publication, please cite:\n",
      "##\n",
      "##     JJ Helmus and SM Collis, JORS 2016, doi: 10.5334/jors.119\n",
      "\n"
     ]
    },
    {
     "name": "stderr",
     "output_type": "stream",
     "text": [
      "<frozen importlib._bootstrap>:283: DeprecationWarning: the load_module() method is deprecated and slated for removal in Python 3.12; use exec_module() instead\n"
     ]
    }
   ],
   "source": [
    "import warnings\n",
    "warnings.filterwarnings(\"ignore\")\n",
    "import pyart\n",
    "import numpy as np\n",
    "from pyart.retrieve import get_freq_band\n",
    "from matplotlib import pyplot as plt\n",
    "import glob\n",
    "import os\n",
    "import time\n",
    "import cow1_funcs as cf"
   ]
  },
  {
   "cell_type": "code",
   "execution_count": 3,
   "id": "c4d994af",
   "metadata": {
    "scrolled": false
   },
   "outputs": [
    {
     "name": "stdout",
     "output_type": "stream",
     "text": [
      "Number of files: 319\n"
     ]
    }
   ],
   "source": [
    "def get_file_list(directory):\n",
    "    files = []\n",
    "    for root, dirs, filenames in os.walk(directory):\n",
    "        for filename in filenames:\n",
    "            files.append(os.path.join(root, filename))\n",
    "    files.sort()\n",
    "    return files\n",
    "\n",
    "basedir = \"/depot/dawson29/data/Projects/PERiLS/obsdata/2022/Illinois_Mobile_Radar/IOP2/\"\n",
    "cow_dir = os.path.join(basedir, \"COW1/merged/\")\n",
    "\n",
    "file_list = get_file_list(cow_dir)\n",
    "num_files = len(file_list)\n",
    "\n",
    "print(\"Number of files:\", num_files)"
   ]
  },
  {
   "cell_type": "code",
   "execution_count": 4,
   "id": "21c861bb",
   "metadata": {},
   "outputs": [],
   "source": [
    "radar = pyart.io.read(file_list[104])\n",
    "refl_field = \"DBZHCC_F\"\n",
    "vel_field = \"VEL_F\"\n",
    "ncp_field = \"NCP\"\n",
    "refl_thresh = 5 \n",
    "ncp_thresh = None\n",
    "rho_field = \"RHOHV\"\n",
    "rho_thresh = 0.45\n",
    "# radar = cf.filter_data(radar, refl_field,\n",
    "#                     refl_thresh=refl_thresh,\n",
    "#                     vel_field=vel_field,\n",
    "#                     ncp_field=ncp_field,\n",
    "#                     ncp_thresh=ncp_thresh,\n",
    "#                     rho_field=rho_field,\n",
    "#                     rho_thresh=rho_thresh,\n",
    "#                     dealias_method='region',\n",
    "#            )"
   ]
  },
  {
   "cell_type": "code",
   "execution_count": 5,
   "id": "8b2dbbe9",
   "metadata": {
    "scrolled": true
   },
   "outputs": [
    {
     "data": {
      "text/plain": [
       "dict_keys(['NCP', 'TRIP_FLA', 'SNRHC', 'SNRVC', 'DBMHC', 'DBMVC', 'DBZHC', 'DBZHC_F', 'DBZVC', 'DBZVC_F', 'VEL', 'VEL_F', 'VS', 'VS_F', 'VL', 'VL_F', 'WIDTH', 'ZDRM', 'RHOHV', 'PHIDP', 'KDP', 'DBZHCC', 'DBZHCC_F', 'ZDRC'])"
      ]
     },
     "execution_count": 5,
     "metadata": {},
     "output_type": "execute_result"
    }
   ],
   "source": [
    "radar.fields.keys()"
   ]
  },
  {
   "cell_type": "code",
   "execution_count": 6,
   "id": "73cd83d0",
   "metadata": {},
   "outputs": [
    {
     "name": "stdout",
     "output_type": "stream",
     "text": [
      "KGWX (v, h): 41, 401\n",
      "COW1 (v, h): 41, 354\n"
     ]
    }
   ],
   "source": [
    "def linspace_range(start, stop, step):\n",
    "    num = int((stop - start) / step + 1)\n",
    "    return num\n",
    "print(f'KGWX (v, h): {linspace_range(0, 10e3, 250)}, {linspace_range(0, 200*1e3, 500)}')\n",
    "print(f'COW1 (v, h): {linspace_range(0, 10e3, 250)}, {linspace_range(0, 88444.0*2, 500)}')"
   ]
  },
  {
   "cell_type": "code",
   "execution_count": 7,
   "id": "c9158250",
   "metadata": {},
   "outputs": [
    {
     "data": {
      "text/plain": [
       "88444.0"
      ]
     },
     "execution_count": 7,
     "metadata": {},
     "output_type": "execute_result"
    }
   ],
   "source": [
    "np.ceil(radar.range['data'].max())"
   ]
  },
  {
   "cell_type": "code",
   "execution_count": 8,
   "id": "d2b212ae",
   "metadata": {
    "scrolled": true
   },
   "outputs": [
    {
     "data": {
      "text/plain": [
       "89937.734"
      ]
     },
     "execution_count": 8,
     "metadata": {},
     "output_type": "execute_result"
    }
   ],
   "source": [
    "radar.instrument_parameters['unambiguous_range']['data'].max()"
   ]
  },
  {
   "cell_type": "code",
   "execution_count": 9,
   "id": "fe88d052",
   "metadata": {},
   "outputs": [],
   "source": [
    "def _rename_moms(radar):\n",
    "    '''Rename fields'''\n",
    "    radar.fields['REF'] = radar.fields.pop('DBZHCC_F')\n",
    "    radar.fields['VEL'] = radar.fields.pop('VEL_F')\n",
    "    radar.fields['ZDR'] = radar.fields.pop('ZDRC')\n",
    "    radar.fields['RHO'] = radar.fields.pop('RHOHV')\n",
    "    \n",
    "    return radar"
   ]
  },
  {
   "cell_type": "code",
   "execution_count": null,
   "id": "970218f8",
   "metadata": {},
   "outputs": [],
   "source": [
    "radar = _rename_moms(radar)\n",
    "max_rng = 88000\n",
    "grid = pyart.map.grid_from_radars(radar, (41, 354, 354),\n",
    "                                  ((0., 10e3), (-max_rng, max_rng), (-max_rng, max_rng)),\n",
    "                                  weighting_function='Barnes2',\n",
    "                                  fields=['REF'])"
   ]
  },
  {
   "cell_type": "code",
   "execution_count": 1,
   "id": "7c3e81bc",
   "metadata": {},
   "outputs": [
    {
     "ename": "NameError",
     "evalue": "name 'linspace_range' is not defined",
     "output_type": "error",
     "traceback": [
      "\u001b[0;31m---------------------------------------------------------------------------\u001b[0m",
      "\u001b[0;31mNameError\u001b[0m                                 Traceback (most recent call last)",
      "Input \u001b[0;32mIn [1]\u001b[0m, in \u001b[0;36m<cell line: 1>\u001b[0;34m()\u001b[0m\n\u001b[0;32m----> 1\u001b[0m \u001b[43mlinspace_range\u001b[49m(\u001b[38;5;241m0\u001b[39m, \u001b[38;5;241m88.25\u001b[39m\u001b[38;5;241m*\u001b[39m\u001b[38;5;241m1e3\u001b[39m\u001b[38;5;241m*\u001b[39m\u001b[38;5;241m2\u001b[39m, \u001b[38;5;241m500\u001b[39m)\n",
      "\u001b[0;31mNameError\u001b[0m: name 'linspace_range' is not defined"
     ]
    }
   ],
   "source": [
    "linspace_range(0, 88.25*1e3*2, 500)"
   ]
  },
  {
   "cell_type": "code",
   "execution_count": null,
   "id": "004a6516",
   "metadata": {},
   "outputs": [],
   "source": [
    "np.diff(grid.x['data'])"
   ]
  },
  {
   "cell_type": "code",
   "execution_count": 14,
   "id": "9e1f8648",
   "metadata": {},
   "outputs": [
    {
     "data": {
      "text/plain": [
       "{'standard_name': 'projection_x_coordinate',\n",
       " 'long_name': 'X distance on the projection plane from the origin',\n",
       " 'axis': 'X',\n",
       " 'units': 'm',\n",
       " 'data': array([-88444.        , -87942.90084986, -87441.80169972, -86940.70254958,\n",
       "        -86439.60339943, -85938.50424929, -85437.40509915, -84936.30594901,\n",
       "        -84435.20679887, -83934.10764873, -83433.00849858, -82931.90934844,\n",
       "        -82430.8101983 , -81929.71104816, -81428.61189802, -80927.51274788,\n",
       "        -80426.41359773, -79925.31444759, -79424.21529745, -78923.11614731,\n",
       "        -78422.01699717, -77920.91784703, -77419.81869688, -76918.71954674,\n",
       "        -76417.6203966 , -75916.52124646, -75415.42209632, -74914.32294618,\n",
       "        -74413.22379603, -73912.12464589, -73411.02549575, -72909.92634561,\n",
       "        -72408.82719547, -71907.72804533, -71406.62889518, -70905.52974504,\n",
       "        -70404.4305949 , -69903.33144476, -69402.23229462, -68901.13314448,\n",
       "        -68400.03399433, -67898.93484419, -67397.83569405, -66896.73654391,\n",
       "        -66395.63739377, -65894.53824363, -65393.43909348, -64892.33994334,\n",
       "        -64391.2407932 , -63890.14164306, -63389.04249292, -62887.94334278,\n",
       "        -62386.84419263, -61885.74504249, -61384.64589235, -60883.54674221,\n",
       "        -60382.44759207, -59881.34844193, -59380.24929178, -58879.15014164,\n",
       "        -58378.0509915 , -57876.95184136, -57375.85269122, -56874.75354108,\n",
       "        -56373.65439093, -55872.55524079, -55371.45609065, -54870.35694051,\n",
       "        -54369.25779037, -53868.15864023, -53367.05949008, -52865.96033994,\n",
       "        -52364.8611898 , -51863.76203966, -51362.66288952, -50861.56373938,\n",
       "        -50360.46458924, -49859.36543909, -49358.26628895, -48857.16713881,\n",
       "        -48356.06798867, -47854.96883853, -47353.86968839, -46852.77053824,\n",
       "        -46351.6713881 , -45850.57223796, -45349.47308782, -44848.37393768,\n",
       "        -44347.27478754, -43846.17563739, -43345.07648725, -42843.97733711,\n",
       "        -42342.87818697, -41841.77903683, -41340.67988669, -40839.58073654,\n",
       "        -40338.4815864 , -39837.38243626, -39336.28328612, -38835.18413598,\n",
       "        -38334.08498584, -37832.98583569, -37331.88668555, -36830.78753541,\n",
       "        -36329.68838527, -35828.58923513, -35327.49008499, -34826.39093484,\n",
       "        -34325.2917847 , -33824.19263456, -33323.09348442, -32821.99433428,\n",
       "        -32320.89518414, -31819.79603399, -31318.69688385, -30817.59773371,\n",
       "        -30316.49858357, -29815.39943343, -29314.30028329, -28813.20113314,\n",
       "        -28312.101983  , -27811.00283286, -27309.90368272, -26808.80453258,\n",
       "        -26307.70538244, -25806.60623229, -25305.50708215, -24804.40793201,\n",
       "        -24303.30878187, -23802.20963173, -23301.11048159, -22800.01133144,\n",
       "        -22298.9121813 , -21797.81303116, -21296.71388102, -20795.61473088,\n",
       "        -20294.51558074, -19793.41643059, -19292.31728045, -18791.21813031,\n",
       "        -18290.11898017, -17789.01983003, -17287.92067989, -16786.82152975,\n",
       "        -16285.7223796 , -15784.62322946, -15283.52407932, -14782.42492918,\n",
       "        -14281.32577904, -13780.2266289 , -13279.12747875, -12778.02832861,\n",
       "        -12276.92917847, -11775.83002833, -11274.73087819, -10773.63172805,\n",
       "        -10272.5325779 ,  -9771.43342776,  -9270.33427762,  -8769.23512748,\n",
       "         -8268.13597734,  -7767.0368272 ,  -7265.93767705,  -6764.83852691,\n",
       "         -6263.73937677,  -5762.64022663,  -5261.54107649,  -4760.44192635,\n",
       "         -4259.3427762 ,  -3758.24362606,  -3257.14447592,  -2756.04532578,\n",
       "         -2254.94617564,  -1753.8470255 ,  -1252.74787535,   -751.64872521,\n",
       "          -250.54957507,    250.54957507,    751.64872521,   1252.74787535,\n",
       "          1753.8470255 ,   2254.94617564,   2756.04532578,   3257.14447592,\n",
       "          3758.24362606,   4259.3427762 ,   4760.44192635,   5261.54107649,\n",
       "          5762.64022663,   6263.73937677,   6764.83852691,   7265.93767705,\n",
       "          7767.0368272 ,   8268.13597734,   8769.23512748,   9270.33427762,\n",
       "          9771.43342776,  10272.5325779 ,  10773.63172805,  11274.73087819,\n",
       "         11775.83002833,  12276.92917847,  12778.02832861,  13279.12747875,\n",
       "         13780.2266289 ,  14281.32577904,  14782.42492918,  15283.52407932,\n",
       "         15784.62322946,  16285.7223796 ,  16786.82152975,  17287.92067989,\n",
       "         17789.01983003,  18290.11898017,  18791.21813031,  19292.31728045,\n",
       "         19793.41643059,  20294.51558074,  20795.61473088,  21296.71388102,\n",
       "         21797.81303116,  22298.9121813 ,  22800.01133144,  23301.11048159,\n",
       "         23802.20963173,  24303.30878187,  24804.40793201,  25305.50708215,\n",
       "         25806.60623229,  26307.70538244,  26808.80453258,  27309.90368272,\n",
       "         27811.00283286,  28312.101983  ,  28813.20113314,  29314.30028329,\n",
       "         29815.39943343,  30316.49858357,  30817.59773371,  31318.69688385,\n",
       "         31819.79603399,  32320.89518414,  32821.99433428,  33323.09348442,\n",
       "         33824.19263456,  34325.2917847 ,  34826.39093484,  35327.49008499,\n",
       "         35828.58923513,  36329.68838527,  36830.78753541,  37331.88668555,\n",
       "         37832.98583569,  38334.08498584,  38835.18413598,  39336.28328612,\n",
       "         39837.38243626,  40338.4815864 ,  40839.58073654,  41340.67988669,\n",
       "         41841.77903683,  42342.87818697,  42843.97733711,  43345.07648725,\n",
       "         43846.17563739,  44347.27478754,  44848.37393768,  45349.47308782,\n",
       "         45850.57223796,  46351.6713881 ,  46852.77053824,  47353.86968839,\n",
       "         47854.96883853,  48356.06798867,  48857.16713881,  49358.26628895,\n",
       "         49859.36543909,  50360.46458924,  50861.56373938,  51362.66288952,\n",
       "         51863.76203966,  52364.8611898 ,  52865.96033994,  53367.05949008,\n",
       "         53868.15864023,  54369.25779037,  54870.35694051,  55371.45609065,\n",
       "         55872.55524079,  56373.65439093,  56874.75354108,  57375.85269122,\n",
       "         57876.95184136,  58378.0509915 ,  58879.15014164,  59380.24929178,\n",
       "         59881.34844193,  60382.44759207,  60883.54674221,  61384.64589235,\n",
       "         61885.74504249,  62386.84419263,  62887.94334278,  63389.04249292,\n",
       "         63890.14164306,  64391.2407932 ,  64892.33994334,  65393.43909348,\n",
       "         65894.53824363,  66395.63739377,  66896.73654391,  67397.83569405,\n",
       "         67898.93484419,  68400.03399433,  68901.13314448,  69402.23229462,\n",
       "         69903.33144476,  70404.4305949 ,  70905.52974504,  71406.62889518,\n",
       "         71907.72804533,  72408.82719547,  72909.92634561,  73411.02549575,\n",
       "         73912.12464589,  74413.22379603,  74914.32294618,  75415.42209632,\n",
       "         75916.52124646,  76417.6203966 ,  76918.71954674,  77419.81869688,\n",
       "         77920.91784703,  78422.01699717,  78923.11614731,  79424.21529745,\n",
       "         79925.31444759,  80426.41359773,  80927.51274788,  81428.61189802,\n",
       "         81929.71104816,  82430.8101983 ,  82931.90934844,  83433.00849858,\n",
       "         83934.10764873,  84435.20679887,  84936.30594901,  85437.40509915,\n",
       "         85938.50424929,  86439.60339943,  86940.70254958,  87441.80169972,\n",
       "         87942.90084986,  88444.        ])}"
      ]
     },
     "execution_count": 14,
     "metadata": {},
     "output_type": "execute_result"
    }
   ],
   "source": [
    "grid.x"
   ]
  },
  {
   "cell_type": "code",
   "execution_count": 17,
   "id": "3d3f6015",
   "metadata": {},
   "outputs": [],
   "source": [
    "outdir = \"/depot/dawson29/data/Projects/PERiLS/obsdata/2022/GRID/IOP2/\"\n",
    "grid_file_path = os.path.join(outdir, \"COW1\")"
   ]
  },
  {
   "cell_type": "code",
   "execution_count": 16,
   "id": "e82271c5",
   "metadata": {},
   "outputs": [
    {
     "data": {
      "text/plain": [
       "'/depot/dawson29/data/Projects/PERiLS/obsdata/2022/GRID/IOP2/COW1'"
      ]
     },
     "execution_count": 16,
     "metadata": {},
     "output_type": "execute_result"
    }
   ],
   "source": [
    "grid_file_path"
   ]
  },
  {
   "cell_type": "code",
   "execution_count": 23,
   "id": "e13b922f",
   "metadata": {},
   "outputs": [],
   "source": [
    "os.makedirs(grid_file_path, exist_ok=True)"
   ]
  },
  {
   "cell_type": "code",
   "execution_count": 26,
   "id": "6fc97938",
   "metadata": {},
   "outputs": [
    {
     "name": "stdout",
     "output_type": "stream",
     "text": [
      "\u001b[0m\u001b[01;34mCOW1\u001b[0m/  \u001b[01;34mKGWX\u001b[0m/\r\n"
     ]
    }
   ],
   "source": [
    "ls $outdir/"
   ]
  },
  {
   "cell_type": "raw",
   "id": "af903206",
   "metadata": {},
   "source": [
    "#!/bin/sh -l\n",
    "# FILENAME:  gridding2\n",
    "\n",
    "#SBATCH -A dawson29\n",
    "\n",
    "#SBATCH -o /home/syed44/PERiLS/doppler_analysis/gridding/parallel_gridding.out\n",
    "\n",
    "#SBATCH --nodes=2\n",
    "#SBATCH -c 128\n",
    "#SBATCH --time=24:00:00\n",
    "#SBATCH --mail-user=syed44@purdue.edu\n",
    "#SBATCH --mail-type=BEGIN,END\n",
    "\n",
    "\n",
    "# Print the hostname of the compute node on which this job is running.\n",
    "/bin/hostname\n",
    "\n",
    "\n",
    "module use /depot/dawson29/data/Projects/PERiLS/etc/modules/\n",
    "module load conda-env/perils-py3.8.5\n",
    "\n",
    "python /home/syed44/PERiLS/doppler_analysis/gridding/cow1_funcs.py"
   ]
  },
  {
   "cell_type": "code",
   "execution_count": 4,
   "id": "072b2b62",
   "metadata": {},
   "outputs": [
    {
     "name": "stdout",
     "output_type": "stream",
     "text": [
      "Submitted job with ID: 25688368\n"
     ]
    }
   ],
   "source": [
    "import subprocess\n",
    "\n",
    "sbatch_command = \"sbatch sbatch_parallel_gridding.sbatch\"\n",
    "output = subprocess.check_output(sbatch_command, shell=True)\n",
    "job_id = output.decode('utf-8').strip().split()[-1]\n",
    "\n",
    "print(\"Submitted job with ID:\", job_id)"
   ]
  },
  {
   "cell_type": "code",
   "execution_count": 15,
   "id": "de37dc9e",
   "metadata": {},
   "outputs": [
    {
     "name": "stdout",
     "output_type": "stream",
     "text": [
      "JOBID        USER      ACCOUNT      NAME             NODES   CPUS  TIME_LIMIT ST TIME\r\n",
      "25630030     syed44    dawson29     OnDemand/Noteboo     1     16  5-00:00:00  R 2-05:52:57\r\n",
      "25682071     jiang703  dawson29     OnDemand/Noteboo     1     32    12:00:00  R 6:50:19\r\n"
     ]
    }
   ],
   "source": [
    "!squeue -A dawson29"
   ]
  },
  {
   "cell_type": "code",
   "execution_count": 40,
   "id": "cf048eec",
   "metadata": {},
   "outputs": [
    {
     "name": "stdout",
     "output_type": "stream",
     "text": [
      "Saving in: /depot/dawson29/data/Projects/PERiLS/obsdata/2022/GRID/IOP2/COW1 as cfrad.20220330_172523.534_to_20220330_172645.975_COW1high_SUR.nc\r\n",
      "\r\n",
      "Reading file: cfrad.20220330_223009.756_to_20220330_223139.835_COW1high_SUR.nc\r\n",
      "Deleting Radar Object: cfrad.20220330_223009.756_to_20220330_223139.835_COW1high_SUR.nc\r\n",
      "Saving in: /depot/dawson29/data/Projects/PERiLS/obsdata/2022/GRID/IOP2/COW1 as cfrad.20220330_223009.756_to_20220330_223139.835_COW1high_SUR.nc\r\n",
      "\r\n",
      "Reading file: cfrad.20220331_021013.827_to_20220331_021143.952_COW1high_SUR.nc\r\n",
      "Deleting Radar Object: cfrad.20220331_021013.827_to_20220331_021143.952_COW1high_SUR.nc\r\n",
      "Saving in: /depot/dawson29/data/Projects/PERiLS/obsdata/2022/GRID/IOP2/COW1 as cfrad.20220331_021013.827_to_20220331_021143.952_COW1high_SUR.nc\r\n",
      "\r\n"
     ]
    }
   ],
   "source": [
    "!tail parallel_gridding.out"
   ]
  },
  {
   "cell_type": "code",
   "execution_count": 42,
   "id": "963f8c3c",
   "metadata": {
    "scrolled": false
   },
   "outputs": [
    {
     "name": "stdout",
     "output_type": "stream",
     "text": [
      "    320    2873   37333\r\n"
     ]
    }
   ],
   "source": [
    "!ls -lth /depot/dawson29/data/Projects/PERiLS/obsdata/2022/GRID/IOP2/COW1/ | wc"
   ]
  },
  {
   "cell_type": "code",
   "execution_count": 43,
   "id": "ca9b8b1a",
   "metadata": {},
   "outputs": [
    {
     "name": "stdout",
     "output_type": "stream",
     "text": [
      "slurm_load_jobs error: Invalid job id specified\r\n"
     ]
    }
   ],
   "source": [
    "!scontrol show job $job_id"
   ]
  },
  {
   "cell_type": "markdown",
   "id": "8396a70a",
   "metadata": {},
   "source": [
    "## UAH Gridding"
   ]
  },
  {
   "cell_type": "code",
   "execution_count": 39,
   "id": "8eb81675",
   "metadata": {},
   "outputs": [
    {
     "name": "stdout",
     "output_type": "stream",
     "text": [
      "Number of files: 242\n"
     ]
    }
   ],
   "source": [
    "basedir = \"/depot/dawson29/data/Projects/PERiLS/obsdata/2022/UAH_Mobile_Radar/\"\n",
    "files = sorted(glob.glob(os.path.join(basedir, \"RAW*2022033*nc\")))\n",
    "print(f'Number of files: {len(files)}')"
   ]
  },
  {
   "cell_type": "code",
   "execution_count": 88,
   "id": "75575d45",
   "metadata": {},
   "outputs": [],
   "source": [
    "# function to dealiase the Doppler velocity\n",
    "def dealiase(radar, vel_name='velocity', gatefilter=None, method=\"unwrap\"):\n",
    "    '''\n",
    "    Dealias Doppler velocities using Py-ART.\n",
    "    method : str\n",
    "        Method to use for the dealiasing. Can be 'unwrap' or 'region'.\n",
    "    '''\n",
    "    # Create a GateFilter if one was not provided\n",
    "    if gatefilter is None:\n",
    "        gatefilter = pyart.correct.GateFilter(radar)\n",
    "    # Dealias Doppler velocities using the selected method\n",
    "    if method == \"unwrap\":\n",
    "        corr_vel = pyart.correct.dealias_unwrap_phase(radar, vel_field=vel_name,\n",
    "                                                      keep_original=False, gatefilter=gatefilter)\n",
    "    elif method == \"region\":\n",
    "        corr_vel = pyart.correct.dealias_region_based(radar, vel_field=vel_name,\n",
    "                                                      keep_original=False, gatefilter=gatefilter)\n",
    "    # Add the dealiased Doppler velocities to the radar object\n",
    "    radar.add_field(vel_name, corr_vel, replace_existing=True)\n",
    "    return radar"
   ]
  },
  {
   "cell_type": "code",
   "execution_count": 16,
   "id": "cc7c7f3c",
   "metadata": {},
   "outputs": [],
   "source": [
    "def _drop_fields(radar):\n",
    "    fields_to_drop = [\"total_power\", \"spectrum_width\", \"differential_reflectivity\",\n",
    "                      'specific_differential_phase', 'differential_phase', 'normalized_coherent_power']\n",
    "    for field in fields_to_drop:\n",
    "        if field in radar.fields:\n",
    "            del radar.fields[field]\n",
    "    return radar"
   ]
  },
  {
   "cell_type": "code",
   "execution_count": 19,
   "id": "b5364103",
   "metadata": {},
   "outputs": [],
   "source": [
    "def _rename_moms(radar):\n",
    "    '''Rename fields'''\n",
    "    radar.fields['REF'] = radar.fields.pop('reflectivity')\n",
    "    radar.fields['VEL'] = radar.fields.pop('velocity')\n",
    "    radar.fields['ZDR'] = radar.fields.pop('c_zdr')\n",
    "    radar.fields['RHO'] = radar.fields.pop('cross_correlation_ratio')\n",
    "\n",
    "    return radar"
   ]
  },
  {
   "cell_type": "code",
   "execution_count": 22,
   "id": "7e4dea22",
   "metadata": {},
   "outputs": [],
   "source": [
    "radar = pyart.io.read(files[100])\n",
    "radar = _drop_fields(radar)\n",
    "radar = _rename_moms(radar)"
   ]
  },
  {
   "cell_type": "code",
   "execution_count": 23,
   "id": "befc5ca6",
   "metadata": {},
   "outputs": [
    {
     "data": {
      "text/plain": [
       "dict_keys(['REF', 'VEL', 'ZDR', 'RHO'])"
      ]
     },
     "execution_count": 23,
     "metadata": {},
     "output_type": "execute_result"
    }
   ],
   "source": [
    "radar.fields.keys()"
   ]
  },
  {
   "cell_type": "code",
   "execution_count": 27,
   "id": "32535202",
   "metadata": {},
   "outputs": [
    {
     "data": {
      "text/plain": [
       "99750.0"
      ]
     },
     "execution_count": 27,
     "metadata": {},
     "output_type": "execute_result"
    }
   ],
   "source": [
    "radar.range['data'].max()"
   ]
  },
  {
   "cell_type": "code",
   "execution_count": 28,
   "id": "4b8f2129",
   "metadata": {},
   "outputs": [],
   "source": [
    "def linspace_range(start, stop, step):\n",
    "    num = ((stop - start) / step + 1)\n",
    "    return num"
   ]
  },
  {
   "cell_type": "code",
   "execution_count": 31,
   "id": "9fc75fb4",
   "metadata": {},
   "outputs": [
    {
     "data": {
      "text/plain": [
       "400.0"
      ]
     },
     "execution_count": 31,
     "metadata": {},
     "output_type": "execute_result"
    }
   ],
   "source": [
    "max_rng = 99750.0\n",
    "linspace_range(-max_rng, max_rng, 500)"
   ]
  },
  {
   "cell_type": "code",
   "execution_count": null,
   "id": "8d4242bf",
   "metadata": {},
   "outputs": [],
   "source": []
  },
  {
   "cell_type": "code",
   "execution_count": 32,
   "id": "6723b563",
   "metadata": {},
   "outputs": [],
   "source": [
    "max_rng = 99750.0\n",
    "grid = pyart.map.grid_from_radars(radar, (41, 400, 400),\n",
    "                                  ((0., 10e3), (-max_rng, max_rng),\n",
    "                                   (-max_rng, max_rng)),\n",
    "                                  weighting_function='Barnes2',\n",
    "                                  fields=['REF'])"
   ]
  },
  {
   "cell_type": "code",
   "execution_count": 37,
   "id": "541c8a5c",
   "metadata": {
    "scrolled": true
   },
   "outputs": [
    {
     "data": {
      "text/plain": [
       "array([-99.75, -99.25, -98.75, -98.25, -97.75, -97.25, -96.75, -96.25,\n",
       "       -95.75, -95.25, -94.75, -94.25, -93.75, -93.25, -92.75, -92.25,\n",
       "       -91.75, -91.25, -90.75, -90.25, -89.75, -89.25, -88.75, -88.25,\n",
       "       -87.75, -87.25, -86.75, -86.25, -85.75, -85.25, -84.75, -84.25,\n",
       "       -83.75, -83.25, -82.75, -82.25, -81.75, -81.25, -80.75, -80.25,\n",
       "       -79.75, -79.25, -78.75, -78.25, -77.75, -77.25, -76.75, -76.25,\n",
       "       -75.75, -75.25, -74.75, -74.25, -73.75, -73.25, -72.75, -72.25,\n",
       "       -71.75, -71.25, -70.75, -70.25, -69.75, -69.25, -68.75, -68.25,\n",
       "       -67.75, -67.25, -66.75, -66.25, -65.75, -65.25, -64.75, -64.25,\n",
       "       -63.75, -63.25, -62.75, -62.25, -61.75, -61.25, -60.75, -60.25,\n",
       "       -59.75, -59.25, -58.75, -58.25, -57.75, -57.25, -56.75, -56.25,\n",
       "       -55.75, -55.25, -54.75, -54.25, -53.75, -53.25, -52.75, -52.25,\n",
       "       -51.75, -51.25, -50.75, -50.25, -49.75, -49.25, -48.75, -48.25,\n",
       "       -47.75, -47.25, -46.75, -46.25, -45.75, -45.25, -44.75, -44.25,\n",
       "       -43.75, -43.25, -42.75, -42.25, -41.75, -41.25, -40.75, -40.25,\n",
       "       -39.75, -39.25, -38.75, -38.25, -37.75, -37.25, -36.75, -36.25,\n",
       "       -35.75, -35.25, -34.75, -34.25, -33.75, -33.25, -32.75, -32.25,\n",
       "       -31.75, -31.25, -30.75, -30.25, -29.75, -29.25, -28.75, -28.25,\n",
       "       -27.75, -27.25, -26.75, -26.25, -25.75, -25.25, -24.75, -24.25,\n",
       "       -23.75, -23.25, -22.75, -22.25, -21.75, -21.25, -20.75, -20.25,\n",
       "       -19.75, -19.25, -18.75, -18.25, -17.75, -17.25, -16.75, -16.25,\n",
       "       -15.75, -15.25, -14.75, -14.25, -13.75, -13.25, -12.75, -12.25,\n",
       "       -11.75, -11.25, -10.75, -10.25,  -9.75,  -9.25,  -8.75,  -8.25,\n",
       "        -7.75,  -7.25,  -6.75,  -6.25,  -5.75,  -5.25,  -4.75,  -4.25,\n",
       "        -3.75,  -3.25,  -2.75,  -2.25,  -1.75,  -1.25,  -0.75,  -0.25,\n",
       "         0.25,   0.75,   1.25,   1.75,   2.25,   2.75,   3.25,   3.75,\n",
       "         4.25,   4.75,   5.25,   5.75,   6.25,   6.75,   7.25,   7.75,\n",
       "         8.25,   8.75,   9.25,   9.75,  10.25,  10.75,  11.25,  11.75,\n",
       "        12.25,  12.75,  13.25,  13.75,  14.25,  14.75,  15.25,  15.75,\n",
       "        16.25,  16.75,  17.25,  17.75,  18.25,  18.75,  19.25,  19.75,\n",
       "        20.25,  20.75,  21.25,  21.75,  22.25,  22.75,  23.25,  23.75,\n",
       "        24.25,  24.75,  25.25,  25.75,  26.25,  26.75,  27.25,  27.75,\n",
       "        28.25,  28.75,  29.25,  29.75,  30.25,  30.75,  31.25,  31.75,\n",
       "        32.25,  32.75,  33.25,  33.75,  34.25,  34.75,  35.25,  35.75,\n",
       "        36.25,  36.75,  37.25,  37.75,  38.25,  38.75,  39.25,  39.75,\n",
       "        40.25,  40.75,  41.25,  41.75,  42.25,  42.75,  43.25,  43.75,\n",
       "        44.25,  44.75,  45.25,  45.75,  46.25,  46.75,  47.25,  47.75,\n",
       "        48.25,  48.75,  49.25,  49.75,  50.25,  50.75,  51.25,  51.75,\n",
       "        52.25,  52.75,  53.25,  53.75,  54.25,  54.75,  55.25,  55.75,\n",
       "        56.25,  56.75,  57.25,  57.75,  58.25,  58.75,  59.25,  59.75,\n",
       "        60.25,  60.75,  61.25,  61.75,  62.25,  62.75,  63.25,  63.75,\n",
       "        64.25,  64.75,  65.25,  65.75,  66.25,  66.75,  67.25,  67.75,\n",
       "        68.25,  68.75,  69.25,  69.75,  70.25,  70.75,  71.25,  71.75,\n",
       "        72.25,  72.75,  73.25,  73.75,  74.25,  74.75,  75.25,  75.75,\n",
       "        76.25,  76.75,  77.25,  77.75,  78.25,  78.75,  79.25,  79.75,\n",
       "        80.25,  80.75,  81.25,  81.75,  82.25,  82.75,  83.25,  83.75,\n",
       "        84.25,  84.75,  85.25,  85.75,  86.25,  86.75,  87.25,  87.75,\n",
       "        88.25,  88.75,  89.25,  89.75,  90.25,  90.75,  91.25,  91.75,\n",
       "        92.25,  92.75,  93.25,  93.75,  94.25,  94.75,  95.25,  95.75,\n",
       "        96.25,  96.75,  97.25,  97.75,  98.25,  98.75,  99.25,  99.75])"
      ]
     },
     "execution_count": 37,
     "metadata": {},
     "output_type": "execute_result"
    }
   ],
   "source": [
    "grid.x['data']/1e3"
   ]
  },
  {
   "cell_type": "code",
   "execution_count": 299,
   "id": "ca677a06",
   "metadata": {},
   "outputs": [
    {
     "name": "stdout",
     "output_type": "stream",
     "text": [
      "Submitted job with ID: 25720272\n"
     ]
    }
   ],
   "source": [
    "import subprocess\n",
    "\n",
    "sbatch_command = \"sbatch sbatch_parallel_gridding.sbatch\"\n",
    "output = subprocess.check_output(sbatch_command, shell=True)\n",
    "job_id = output.decode('utf-8').strip().split()[-1]\n",
    "\n",
    "print(\"Submitted job with ID:\", job_id)"
   ]
  },
  {
   "cell_type": "code",
   "execution_count": 326,
   "id": "052b6a46",
   "metadata": {},
   "outputs": [
    {
     "name": "stdout",
     "output_type": "stream",
     "text": [
      "JOBID        USER      ACCOUNT      NAME             NODES   CPUS  TIME_LIMIT ST TIME\r\n",
      "25630030     syed44    dawson29     OnDemand/Noteboo     1     16  5-00:00:00  R 3-09:23:33\r\n",
      "25706197     kaxon     dawson29     OnDemand/Desktop     1      4  2-12:00:00  R 7:19:24\r\n",
      "25720138     jiang703  dawson29     R50r15kmCdFreeC1    12    400  3-00:00:00  R 1:06:24\r\n"
     ]
    }
   ],
   "source": [
    "!squeue -A dawson29"
   ]
  },
  {
   "cell_type": "code",
   "execution_count": 322,
   "id": "82dc44f2",
   "metadata": {},
   "outputs": [
    {
     "name": "stdout",
     "output_type": "stream",
     "text": [
      "## library for working with weather radar data. Py-ART is partly\r\n",
      "## supported by the U.S. Department of Energy as part of the Atmospheric\r\n",
      "## Radiation Measurement (ARM) Climate Research Facility, an Office of\r\n",
      "## Science user facility.\r\n",
      "##\r\n",
      "## If you use this software to prepare a publication, please cite:\r\n",
      "##\r\n",
      "##     JJ Helmus and SM Collis, JORS 2016, doi: 10.5334/jors.119\r\n",
      "\r\n",
      "Number of files in DOW7 directory: 221\r\n"
     ]
    }
   ],
   "source": [
    "!tail parallel_gridding.out"
   ]
  },
  {
   "cell_type": "code",
   "execution_count": 325,
   "id": "e3eeb952",
   "metadata": {},
   "outputs": [
    {
     "name": "stdout",
     "output_type": "stream",
     "text": [
      "    222    1991   25868\r\n"
     ]
    }
   ],
   "source": [
    "!ls -lth /depot/dawson29/data/Projects/PERiLS/obsdata/2022/GRID/IOP2/DOW7 | wc"
   ]
  },
  {
   "cell_type": "code",
   "execution_count": 306,
   "id": "ce5cfca3",
   "metadata": {},
   "outputs": [
    {
     "name": "stdout",
     "output_type": "stream",
     "text": [
      "    368    3305   41482\r\n"
     ]
    }
   ],
   "source": [
    "!ls -lth /depot/dawson29/data/Projects/PERiLS/obsdata/2022/GRID/IOP2/DOW8/ | wc"
   ]
  },
  {
   "cell_type": "code",
   "execution_count": 114,
   "id": "08f7e8f3",
   "metadata": {},
   "outputs": [],
   "source": [
    "# !scancel $job_id"
   ]
  },
  {
   "cell_type": "code",
   "execution_count": null,
   "id": "9d866a2f",
   "metadata": {},
   "outputs": [],
   "source": []
  }
 ],
 "metadata": {
  "kernelspec": {
   "display_name": "Python (My perils Kernel)",
   "language": "python",
   "name": "perils"
  },
  "language_info": {
   "codemirror_mode": {
    "name": "ipython",
    "version": 3
   },
   "file_extension": ".py",
   "mimetype": "text/x-python",
   "name": "python",
   "nbconvert_exporter": "python",
   "pygments_lexer": "ipython3",
   "version": "3.10.8"
  }
 },
 "nbformat": 4,
 "nbformat_minor": 5
}
