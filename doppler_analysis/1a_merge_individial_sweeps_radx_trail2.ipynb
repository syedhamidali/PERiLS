{
 "cells": [
  {
   "cell_type": "markdown",
   "id": "59faca45",
   "metadata": {},
   "source": [
    "# Merge individual sweeps\n",
    "* author: [Hamid Ali Syed](https://twitter.com/hamidrixvi)\n",
    "* date: Dec 23, 2022"
   ]
  },
  {
   "cell_type": "markdown",
   "id": "ebc03b46",
   "metadata": {},
   "source": [
    "This data is from three mobile radars, COW1, DOW7, and DOW8, which belong to the University of Illinois. The data is packed in a way that each sweep radar has scanned makes one file, i.e., (one file for one tilt). However, we want it to be in Cfradial format (why?).<p>\n",
    "Cfradial is a data format developed by the National Center for Atmospheric Research (NCAR) for storing radar data. It is based on the NetCDF (Network Common Data Form) data format, a self-describing data format that allows for storing multidimensional scientific data. The Cfradial format is used to store radar data collected in a volume scan, which includes multiple sweeps of the radar at different tilts. It is a widely used format for storing and exchanging radar data, and many radar data processing and analysis software packages support it."
   ]
  },
  {
   "cell_type": "markdown",
   "id": "cda7998c",
   "metadata": {},
   "source": [
    "## Instructions:\n",
    "**Start by importing the necessary packages:**\n",
    "1. Use the `warnings` package to ignore any warnings that may appear during the execution of your code.\n",
    "2. Use the `%%time` magic command to measure the execution time of your code.\n",
    "3. Use the `numpy` package to perform numerical operations on arrays.\n",
    "4. Use the `glob` package to search for files that match a specific pattern.\n",
    "5. Use the `os` and `sys` packages to interact with the operating system and access system-specific parameters and functions.\n",
    "6. Use the `shutil` package to perform high-level file operations, such as copying and deleting files."
   ]
  },
  {
   "cell_type": "code",
   "execution_count": 1,
   "id": "4e467d75",
   "metadata": {
    "scrolled": true
   },
   "outputs": [
    {
     "name": "stdout",
     "output_type": "stream",
     "text": [
      "CPU times: user 45.6 ms, sys: 25.6 ms, total: 71.2 ms\n",
      "Wall time: 205 ms\n"
     ]
    }
   ],
   "source": [
    "%%time\n",
    "import warnings\n",
    "warnings.filterwarnings(\"ignore\")\n",
    "import numpy as np\n",
    "import glob\n",
    "import os, sys\n",
    "import shutil"
   ]
  },
  {
   "cell_type": "markdown",
   "id": "b5c5f9fb",
   "metadata": {},
   "source": []
  },
  {
   "cell_type": "code",
   "execution_count": 2,
   "id": "2973c490",
   "metadata": {},
   "outputs": [],
   "source": [
    "basedir = \"/depot/dawson29/data/Projects/PERiLS/obsdata/2022/Illinois_Mobile_Radar/IOP3/\""
   ]
  },
  {
   "cell_type": "code",
   "execution_count": 3,
   "id": "b6bc1337",
   "metadata": {},
   "outputs": [],
   "source": [
    "data_dir = ['COW1', \"DOW7\", \"DOW8\"]"
   ]
  },
  {
   "cell_type": "code",
   "execution_count": 4,
   "id": "428acbb3",
   "metadata": {},
   "outputs": [],
   "source": [
    "def apply_func(data_dir):\n",
    "    curr_dir_list = []\n",
    "    for path in data_dir:\n",
    "        files = sorted(glob.glob(os.path.join(basedir, path, \"*SUR.nc\")))\n",
    "        print(f\"{path}: {len(files)}\")\n",
    "        # force the if statement below to be True on first run\n",
    "        el = 99999999\n",
    "        for f in files:\n",
    "            new_el = float(f.split(\"_\")[-2].replace(\"el\", \"\"))\n",
    "            if new_el < el:\n",
    "                # store new dir name\n",
    "                curr_dir = f.split(\".\")[1]\n",
    "                curr_dir_list.append(os.path.join(basedir, path, curr_dir))\n",
    "                # create directory\n",
    "                os.makedirs(os.path.join(basedir, path, curr_dir), exist_ok=True)\n",
    "#             store new el\n",
    "            el = new_el\n",
    "#             print(f\"{basedir}{os.sep}{path}{os.sep}{curr_dir}{os.sep}{f.split(os.sep)[-1]}\")\n",
    "#             move file\n",
    "            shutil.copy(f\"{f}\", f\"{basedir}{os.sep}{path}{os.sep}{curr_dir}{os.sep}{f.split(os.sep)[-1]}\")\n",
    "    return curr_dir_list"
   ]
  },
  {
   "cell_type": "code",
   "execution_count": 5,
   "id": "72318fc9",
   "metadata": {},
   "outputs": [
    {
     "name": "stdout",
     "output_type": "stream",
     "text": [
      "COW1: 1160\n",
      "DOW7: 918\n",
      "DOW8: 1177\n"
     ]
    }
   ],
   "source": [
    "curr_dir_list = apply_func(data_dir)"
   ]
  },
  {
   "cell_type": "code",
   "execution_count": 6,
   "id": "4b2c828c",
   "metadata": {
    "scrolled": true
   },
   "outputs": [
    {
     "name": "stdout",
     "output_type": "stream",
     "text": [
      "/depot/dawson29/data/Projects/PERiLS/obsdata/2022/Illinois_Mobile_Radar/IOP3/COW1/merged\n",
      "/depot/dawson29/data/Projects/PERiLS/obsdata/2022/Illinois_Mobile_Radar/IOP3/COW1/merged\n"
     ]
    }
   ],
   "source": [
    "for new_files in curr_dir_list[:2]:\n",
    "    print(os.path.join(new_files.split(\"202204\")[0], \"merged\"))"
   ]
  },
  {
   "cell_type": "code",
   "execution_count": 7,
   "id": "3ea35168",
   "metadata": {},
   "outputs": [
    {
     "data": {
      "text/plain": [
       "'/depot/dawson29/data/Projects/PERiLS/obsdata/2022/Illinois_Mobile_Radar/IOP3/COW1/merged'"
      ]
     },
     "execution_count": 7,
     "metadata": {},
     "output_type": "execute_result"
    }
   ],
   "source": [
    "new_path = os.path.join(new_files.split(\"202204\")[0], \"merged\")\n",
    "new_path"
   ]
  },
  {
   "cell_type": "code",
   "execution_count": 8,
   "id": "f6c26c86",
   "metadata": {},
   "outputs": [],
   "source": [
    "mod_cmd = \"module use /depot/dawson29/data/Projects/PERiLS/modulefiles/ && module load lrose\""
   ]
  },
  {
   "cell_type": "code",
   "execution_count": 9,
   "id": "dd0d7183",
   "metadata": {
    "scrolled": false
   },
   "outputs": [
    {
     "name": "stderr",
     "output_type": "stream",
     "text": [
      "\n",
      "Currently Loaded Modules:\n",
      "  1) xalt/1.1.2            (S)   5) mpc/1.1.0          9) jupyterhub/2.0.0\n",
      "  2) anaconda/2020.02-py37       6) zlib/1.2.11       10) lrose/20220222\n",
      "  3) gmp/6.1.2                   7) gcc/9.3.0\n",
      "  4) mpfr/3.1.6                  8) texlive/20200406\n",
      "\n",
      "  Where:\n",
      "   S:  Module is Sticky, requires --force to unload or purge\n",
      "\n",
      " \n",
      "\n"
     ]
    },
    {
     "data": {
      "text/plain": [
       "0"
      ]
     },
     "execution_count": 9,
     "metadata": {},
     "output_type": "execute_result"
    }
   ],
   "source": [
    "os.system(mod_cmd+\" && module list\")"
   ]
  },
  {
   "cell_type": "code",
   "execution_count": null,
   "id": "5a660b4a",
   "metadata": {
    "scrolled": false
   },
   "outputs": [],
   "source": [
    "for new_files in curr_dir_list:\n",
    "    os.system(mod_cmd+\" && RadxConvert -ag_all -f \"+new_files+\"/*\"+ \" -outdir \"+new_path)"
   ]
  },
  {
   "cell_type": "markdown",
   "id": "2d2263ff",
   "metadata": {},
   "source": [
    "The data is being merged sucessfully and we can now perform quality check and other things in another notebook"
   ]
  },
  {
   "cell_type": "code",
   "execution_count": null,
   "id": "2eff5af5",
   "metadata": {},
   "outputs": [],
   "source": []
  },
  {
   "cell_type": "code",
   "execution_count": null,
   "id": "a53ab5fa",
   "metadata": {},
   "outputs": [],
   "source": []
  },
  {
   "cell_type": "code",
   "execution_count": null,
   "id": "8712f2f3",
   "metadata": {},
   "outputs": [],
   "source": []
  }
 ],
 "metadata": {
  "kernelspec": {
   "display_name": "Python 3.9 (Default)",
   "language": "python",
   "name": "python3"
  },
  "language_info": {
   "codemirror_mode": {
    "name": "ipython",
    "version": 3
   },
   "file_extension": ".py",
   "mimetype": "text/x-python",
   "name": "python",
   "nbconvert_exporter": "python",
   "pygments_lexer": "ipython3",
   "version": "3.9.7"
  }
 },
 "nbformat": 4,
 "nbformat_minor": 5
}
