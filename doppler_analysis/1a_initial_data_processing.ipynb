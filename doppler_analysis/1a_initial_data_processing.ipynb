{
 "cells": [
  {
   "cell_type": "markdown",
   "id": "71e5be2a",
   "metadata": {},
   "source": [
    "# Initial Data Processing for IOP2\n",
    "## Merging sweeps\n",
    "* author: [Hamid Ali Syed](https://twitter.com/hamidrixvi)\n",
    "* date: Dec 23, 2022"
   ]
  },
  {
   "cell_type": "markdown",
   "id": "b027d3d4",
   "metadata": {},
   "source": [
    "The program is designed to process data from multiple mobile radars. The data is stored in a set of directories that are organized according to the name of the radar and the date of the data. The program reads the data from these directories and performs several operations on it, including organizing the data into separate directories based on the elevation angle of the radar sweep, and running a tool called `RadxConvert` to process the data.\n",
    "\n",
    "The program begins by importing several packages that are used throughout the code. These include the `warnings`, `numpy`, `glob`, `os`, `sys`, and `shutil` packages. The warnings package is used to ignore any warnings that may appear during the execution of the code, while the other packages are used for various operations such as searching for files, creating directories, and copying files.\n",
    "\n",
    "Next, the program defines a function called `process_data` that takes a list of data directories as input and performs the following operations:\n",
    "\n",
    "1. Iterates through each directory in the list and uses the `glob` package to search for files with the pattern `\"*SUR.nc\"` in the specified directory. It prints the number of files found for each directory in the list.\n",
    "\n",
    "2. For each file found, it extracts a numerical value from the file name and stores it as the variable `el`. It then creates a new directory with a name based on the file name, and copies the file into that directory.\n",
    "\n",
    "3. The function returns a list of the directories it created.\n",
    "\n",
    "The program then defines the base directory as a string, and the list of data directories as a list of strings. It calls the `process_data` function with the `data_dir` list as input, and stores the output in the `curr_dir_list` variable.\n",
    "\n",
    "The program then defines a command to modify the user's environment, which is to be a command to load a specific module using the module tool.\n",
    "\n",
    "Finally, the program iterates through the elements in the `curr_dir_list` and executes the following command for each element:"
   ]
  },
  {
   "cell_type": "code",
   "execution_count": 1,
   "id": "cf475ef8",
   "metadata": {},
   "outputs": [],
   "source": [
    "import warnings\n",
    "import numpy as np\n",
    "import glob\n",
    "import os, sys\n",
    "import shutil\n",
    "import subprocess\n",
    "# Ignore warnings\n",
    "warnings.filterwarnings(\"ignore\")"
   ]
  },
  {
   "cell_type": "code",
   "execution_count": 2,
   "id": "f8635236",
   "metadata": {},
   "outputs": [],
   "source": [
    "# Define function to process data\n",
    "def process_data(data_dir):\n",
    "    curr_dir_list = []\n",
    "    for path in data_dir:\n",
    "        # Find files matching pattern\n",
    "        files = sorted(glob.glob(os.path.join(basedir, path, \"*SUR.nc\")))\n",
    "        print(f\"{path}: {len(files)}\")\n",
    "        # Set initial value for el\n",
    "        el = 99999999\n",
    "        for f in files:\n",
    "            # Extract numerical value from file name\n",
    "            new_el = float(f.split(\"_\")[-2].replace(\"el\", \"\"))\n",
    "            if new_el < el:\n",
    "                # Store new dir name\n",
    "                curr_dir = f.split(\".\")[1]\n",
    "                curr_dir_list.append(os.path.join(basedir, path, curr_dir))\n",
    "                # Create directory\n",
    "                os.makedirs(os.path.join(basedir, path, curr_dir), exist_ok=True)\n",
    "            # Store new el\n",
    "            el = new_el\n",
    "            # Copy file to new directory\n",
    "            shutil.copy(f\"{f}\", f\"{basedir}{os.sep}{path}{os.sep}{curr_dir}{os.sep}{f.split(os.sep)[-1]}\")\n",
    "    return curr_dir_list"
   ]
  },
  {
   "cell_type": "code",
   "execution_count": 5,
   "id": "4d438700",
   "metadata": {},
   "outputs": [],
   "source": [
    "# Set base directory\n",
    "basedir = \"/depot/dawson29/data/Projects/PERiLS/obsdata/2022/Illinois_Mobile_Radar/IOP2/\"\n",
    "# Set list of data directories\n",
    "data_dir = ['COW1', \"DOW7\", \"DOW8\"]"
   ]
  },
  {
   "cell_type": "code",
   "execution_count": 6,
   "id": "bae8634b",
   "metadata": {},
   "outputs": [
    {
     "name": "stdout",
     "output_type": "stream",
     "text": [
      "COW1: 1960\n",
      "DOW7: 1988\n",
      "DOW8: 1841\n"
     ]
    }
   ],
   "source": [
    "# Process data and store list of directories\n",
    "curr_dir_list = process_data(data_dir)"
   ]
  },
  {
   "cell_type": "markdown",
   "id": "46b43554",
   "metadata": {},
   "source": [
    "This command uses the `RadxConvert` tool to process the files in each directory specified by `new_files`, and outputs the result to the directory specified by `new_path`. The `-ag_all` flag tells `RadxConvert` to aggregate the data in all fields of the input files, and the `-f` flag specifies the input file or directory. The `-outdir` flag specifies the output directory.\n",
    "\n",
    "The `mod_cmd` variable that is concatenated to the beginning of the command appears to be a command to modify the user's environment, potentially by loading a specific module. This may be necessary in order to make the `RadxConvert` tool available to the user.\n",
    "\n",
    "The command is then executed using the `subprocess.check_output` function, which runs the command and captures the output. If an error occurs during the execution of the command, it will raise a `CalledProcessError` exception, which the code handles by printing the error output."
   ]
  },
  {
   "cell_type": "code",
   "execution_count": null,
   "id": "8c0e90c9",
   "metadata": {},
   "outputs": [],
   "source": [
    "# Set command to modify environment\n",
    "mod_cmd = \"module use /depot/dawson29/data/Projects/PERiLS/modulefiles/ && module load lrose\"\n",
    "\n",
    "# Iterate through directories and process data\n",
    "for new_files in curr_dir_list:\n",
    "    # Set output directory\n",
    "    new_path = os.path.join(new_files.split(\"202203\")[0], \"cmerged\")\n",
    "    # Build command to run RadxConvert\n",
    "    cmd = f\"{mod_cmd} && RadxConvert -ag_all -f {new_files}/* -outdir {new_path}\"\n",
    "    # Run command using subprocess\n",
    "    try:\n",
    "        output = subprocess.check_output(cmd, shell=True)\n",
    "    except subprocess.CalledProcessError as e:\n",
    "        # Handle error\n",
    "        print(e.output)"
   ]
  }
 ],
 "metadata": {
  "kernelspec": {
   "display_name": "Python (My perils Kernel)",
   "language": "python",
   "name": "perils"
  },
  "language_info": {
   "codemirror_mode": {
    "name": "ipython",
    "version": 3
   },
   "file_extension": ".py",
   "mimetype": "text/x-python",
   "name": "python",
   "nbconvert_exporter": "python",
   "pygments_lexer": "ipython3",
   "version": "3.10.8"
  }
 },
 "nbformat": 4,
 "nbformat_minor": 5
}
