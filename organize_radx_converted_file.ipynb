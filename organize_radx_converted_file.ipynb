{
 "cells": [
  {
   "cell_type": "markdown",
   "id": "98d19ac2",
   "metadata": {},
   "source": [
    "# Script for renaming  Radx converted NEXRAD level II data"
   ]
  },
  {
   "cell_type": "code",
   "execution_count": 119,
   "id": "1d2ff06d",
   "metadata": {},
   "outputs": [
    {
     "data": {
      "text/plain": [
       "'\\n    #!/bin/sh -l\\n    shopt -s nullglob\\n    for dir in Project/*/*/*/*/*\\n    do\\n        for file in \"$dir\"/*\\n        do\\n            # if [ -f $file ]\\n            # then\\n                # echo \"$file\"\\n                # printf \\'%s\\n\\' \"${file}\"\\n                # echo \"$dir\"\\n                RadXConvert -const_ngates -f $file/* -outdir /Volumes/Syed/PERiLS/output_iop2/${dir}\\n                # echo /Volumes/Syed/PERiLS/output_iop2/${dir}\\n            # fi\\n        done\\n    done\\n'"
      ]
     },
     "execution_count": 119,
     "metadata": {},
     "output_type": "execute_result"
    }
   ],
   "source": [
    "# Cfradial data was converted with Radx by generating a shell script as below;\n",
    "'''\n",
    "    #!/bin/sh -l\n",
    "    shopt -s nullglob\n",
    "    for dir in Project/*/*/*/*/*\n",
    "    do\n",
    "        for file in \"$dir\"/*\n",
    "        do\n",
    "            # if [ -f $file ]\n",
    "            # then\n",
    "                # echo \"$file\"\n",
    "                # printf '%s\\n' \"${file}\"\n",
    "                # echo \"$dir\"\n",
    "                RadXConvert -const_ngates -f $file/* -outdir /Volumes/Syed/PERiLS/output_iop2/${dir}\n",
    "                # echo /Volumes/Syed/PERiLS/output_iop2/${dir}\n",
    "            # fi\n",
    "        done\n",
    "    done\n",
    "'''\n",
    "# and then the output data generated was organized as follows;"
   ]
  },
  {
   "cell_type": "code",
   "execution_count": 3,
   "id": "0caf97ea",
   "metadata": {},
   "outputs": [],
   "source": [
    "import warnings\n",
    "warnings.filterwarnings(\"ignore\")\n",
    "import numpy as np\n",
    "import os, glob\n",
    "import shutil\n",
    "from datetime import datetime, timedelta\n",
    "tstart = datetime.now()\n",
    "import pathlib"
   ]
  },
  {
   "cell_type": "code",
   "execution_count": 43,
   "id": "4fa3a770",
   "metadata": {},
   "outputs": [],
   "source": [
    "radar_names = [\"KBMX\", \"KGWX\", \"KPOE\", \"KHTX\", \"KDGX\", \"KLCH\", \"KLZK\", \"KNQA\", \"KPAH\", \"KSHV\"]"
   ]
  },
  {
   "cell_type": "code",
   "execution_count": 37,
   "id": "ce9e1d2c",
   "metadata": {},
   "outputs": [],
   "source": [
    "data_dir = \"/Volumes/Syed/PERiLS/output_iop2/Project/PERiLS/obsdata/2022/NEXRAD/IOP2/\""
   ]
  },
  {
   "cell_type": "markdown",
   "id": "9eed2d4d",
   "metadata": {},
   "source": [
    "Lets move data to their respective directories using shutil"
   ]
  },
  {
   "cell_type": "code",
   "execution_count": 86,
   "id": "0c0061d9",
   "metadata": {
    "scrolled": true
   },
   "outputs": [],
   "source": [
    "for dirs in os.listdir(data_dir):\n",
    "    for radar in radar_names:\n",
    "        files = sorted(glob.glob((os.path.join(data_dir, dirs)+\"/\"+\"*\"+radar+\"*\")))\n",
    "        for file in files:\n",
    "            pathlib.Path(data_dir+radar).mkdir(parents=True, exist_ok=True)\n",
    "            shutil.move(file, data_dir+radar)"
   ]
  },
  {
   "cell_type": "markdown",
   "id": "91d393db",
   "metadata": {},
   "source": [
    "Let's rename the files according to NEXRAD convention"
   ]
  },
  {
   "cell_type": "code",
   "execution_count": 117,
   "id": "4eadfee1",
   "metadata": {},
   "outputs": [],
   "source": [
    "for radar in radar_names:\n",
    "    new_dirs = (os.path.join(data_dir, radar))\n",
    "    new_files = sorted(glob.glob(new_dirs+\"/*\"+radar+\"*\"))\n",
    "    for file in new_files:\n",
    "        os.rename(file, new_dirs+\"/\"+radar+file.split(\"cfrad\")[-1][1:16]+\"_V06.nc\")"
   ]
  },
  {
   "cell_type": "code",
   "execution_count": null,
   "id": "63257107",
   "metadata": {},
   "outputs": [],
   "source": []
  },
  {
   "cell_type": "code",
   "execution_count": null,
   "id": "308e9f51",
   "metadata": {},
   "outputs": [],
   "source": []
  }
 ],
 "metadata": {
  "kernelspec": {
   "display_name": "Python 3 (ipykernel)",
   "language": "python",
   "name": "python3"
  },
  "language_info": {
   "codemirror_mode": {
    "name": "ipython",
    "version": 3
   },
   "file_extension": ".py",
   "mimetype": "text/x-python",
   "name": "python",
   "nbconvert_exporter": "python",
   "pygments_lexer": "ipython3",
   "version": "3.10.5"
  }
 },
 "nbformat": 4,
 "nbformat_minor": 5
}
