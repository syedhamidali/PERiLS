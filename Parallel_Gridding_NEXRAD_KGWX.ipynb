{
 "cells": [
  {
   "cell_type": "code",
   "execution_count": 1,
   "id": "58f0a59d",
   "metadata": {
    "scrolled": true
   },
   "outputs": [
    {
     "name": "stdout",
     "output_type": "stream",
     "text": [
      "#!/bin/sh -l\r\n",
      "# FILENAME:  gridding2\r\n",
      "\r\n",
      "#SBATCH -A dawson29\r\n",
      "\r\n",
      "#SBATCH -o /home/syed44/PERiLS/doppler_analysis/gridding/parallel_gridding.out\r\n",
      "\r\n",
      "#SBATCH --nodes=4\r\n",
      "#SBATCH -c 100\r\n",
      "#SBATCH --time=72:00:00\r\n",
      "\r\n",
      "# Print the hostname of the compute node on which this job is running.\r\n",
      "/bin/hostname\r\n",
      "\r\n",
      "\r\n",
      "module use /depot/dawson29/data/Projects/PERiLS/etc/modules/\r\n",
      "module load conda-env/perils-py3.8.5\r\n",
      "\r\n",
      "python /home/syed44/PERiLS/doppler_analysis/gridding/parallel_gridding.py"
     ]
    }
   ],
   "source": [
    "!cat sbatch_parallel_gridding.sbatch"
   ]
  },
  {
   "cell_type": "code",
   "execution_count": 2,
   "id": "549845da",
   "metadata": {
    "scrolled": false
   },
   "outputs": [
    {
     "name": "stdout",
     "output_type": "stream",
     "text": [
      "import warnings\r\n",
      "warnings.filterwarnings(\"ignore\")\r\n",
      "import pyart\r\n",
      "import numpy as np\r\n",
      "from pyart.retrieve import get_freq_band\r\n",
      "from matplotlib import pyplot as plt\r\n",
      "import glob, os\r\n",
      "from datetime import datetime\r\n",
      "import time\r\n",
      "import sys\r\n",
      "\r\n",
      "nexrad_dir = \"/depot/dawson29/data/Projects/PERiLS/obsdata/2022/NEXRAD/\"\r\n",
      "\r\n",
      "\r\n",
      "def _drop_fields(radar):\r\n",
      "    fields_to_drop = [\"PURPLE_HAZE\"]\r\n",
      "    for field in fields_to_drop:\r\n",
      "        if field in radar.fields:\r\n",
      "            del radar.fields[field]\r\n",
      "\r\n",
      "    return radar\r\n",
      "\r\n",
      "\r\n",
      "#function to dealiase the Doppler velocity\r\n",
      "def dealiase(radar, vel_name='velocity', gatefilter=None, method=\"unwrap\"):\r\n",
      "    '''\r\n",
      "    Dealias Doppler velocities using Py-ART.\r\n",
      "    method : str\r\n",
      "        Method to use for the dealiasing. Can be 'unwrap' or 'region'.\r\n",
      "    '''\r\n",
      "    # Create a GateFilter if one was not provided\r\n",
      "    if gatefilter is None:\r\n",
      "        gatefilter = pyart.correct.GateFilter(radar)\r\n",
      "        gatefilter.include_above(\"REF\", 0)\r\n",
      "        gatefilter.exclude_masked('REF')\r\n",
      "        gatefilter.exclude_invalid('REF')\r\n",
      "        gatefilter.exclude_transition()\r\n",
      "    # Dealias Doppler velocities using the selected method\r\n",
      "    if method == \"unwrap\":\r\n",
      "        corr_vel = pyart.correct.dealias_unwrap_phase(radar, vel_field=vel_name,\r\n",
      "                                                      keep_original=False, gatefilter=gatefilter)\r\n",
      "    elif method == \"region\":\r\n",
      "        corr_vel = pyart.correct.dealias_region_based(radar, vel_field=vel_name,\r\n",
      "                                                      keep_original=False, gatefilter=gatefilter)\r\n",
      "    # Add the dealiased Doppler velocities to the radar object\r\n",
      "    radar.add_field(vel_name, corr_vel, replace_existing=True)\r\n",
      "    return radar\r\n",
      "\r\n",
      "\r\n",
      "def filter_data(radar, refl_field, vel_field, dealias_method=\"region\"):\r\n",
      "    '''Remove noise based on velocity texture,snr, and rhohv, and mask all the fields'''\r\n",
      "    # Drop some fields\r\n",
      "    radar = _drop_fields(radar)\r\n",
      "    # Align radar coords\r\n",
      "    radar.scan_type = b'ppi'\r\n",
      "    # Dealias\r\n",
      "    radar = dealiase(radar, vel_name=vel_field, gatefilter=None, method=dealias_method)\r\n",
      "    return radar\r\n",
      "\r\n",
      "\r\n",
      "def get_nexrad_data_files(start_time: str, end_time: str) -> list:\r\n",
      "    '''start_time: str ('YYYYMMDDHHMMSS')\r\n",
      "       end_time: str ('YYYYMMDDHHMMSS')'''\r\n",
      "    \r\n",
      "    start_datetime = datetime.strptime(start_time, '%Y%m%d%H%M%S')\r\n",
      "    end_datetime = datetime.strptime(end_time, '%Y%m%d%H%M%S')\r\n",
      "    \r\n",
      "    nexrad_dir = \"/depot/dawson29/data/Projects/PERiLS/obsdata/2022/NEXRAD/\"\r\n",
      "    data_files = []\r\n",
      "    for iop in [\"IOP2\"]:\r\n",
      "        for radar_name in ['KGWX']:\r\n",
      "            data_files.extend(sorted(glob.glob(f\"{nexrad_dir}{iop}/{radar_name}/*V06.nc\")))\r\n",
      "    \r\n",
      "    data_files_filtered = []\r\n",
      "    for file in data_files:\r\n",
      "#         print(file.split('/')[-1].split(\"KGWX\")[1].split(\"_V\")[0])\r\n",
      "        file_datetime_str = file.split('/')[-1].split(\"KGWX\")[1].split(\"_V\")[0]\r\n",
      "        file_datetime = datetime.strptime(file_datetime_str, '%Y%m%d_%H%M%S')\r\n",
      "        if start_datetime <= file_datetime < end_datetime:\r\n",
      "            data_files_filtered.append(file)\r\n",
      "    \r\n",
      "    print(\"Available files: \", len(data_files_filtered))\r\n",
      "#     for file in data_files_filtered:\r\n",
      "#         print(file.split(\"/\")[-1])\r\n",
      "        \r\n",
      "    return data_files_filtered\r\n",
      "\r\n",
      "\r\n",
      "import os\r\n",
      "import pyart\r\n",
      "import multiprocessing as mp\r\n",
      "\r\n",
      "# Define a function that takes a file name and writes the GRID file\r\n",
      "def process_file(nexrad_dir, rfile):\r\n",
      "    print(f'Reading file: {rfile.split(\"/\")[-1]}')\r\n",
      "    radar = pyart.io.read(rfile)\r\n",
      "    radar = filter_data(radar, \"DBZ\", \"VEL\")\r\n",
      "    max_rng = 360.*1e3 # np.ceil(radar.range['data'].max())\r\n",
      "    grid = pyart.map.grid_from_radars(radar,(61,721,721),\r\n",
      "                       ((0.,15000.),(-max_rng, max_rng),(-max_rng, max_rng)), \r\n",
      "                                       weighting_function='Barnes2',\r\n",
      "                                      fields=['REF', 'VEL', 'ZDR', 'RHO']\r\n",
      "                                     )\r\n",
      "    \r\n",
      "    print(f'Deleting: {rfile.split(\"/\")[-1]}')\r\n",
      "    del radar\r\n",
      "\r\n",
      "    # Extract the NEXRAD file number from the file name\r\n",
      "    file_number = rfile.split('NEXRAD')[-1]\r\n",
      "\r\n",
      "    # Construct the full path to the GRID file using os.path.join()\r\n",
      "    grid_file_path = os.path.join(nexrad_dir, f'GRID{file_number}')\r\n",
      "    \r\n",
      "    print(f'Saving Grid: {rfile.split(\"/\")[-1]}')\r\n",
      "    # Write the GRID file using pyart.io.write_grid()\r\n",
      "    pyart.io.write_grid(filename=grid_file_path, grid=grid)\r\n",
      "\r\n",
      "\r\n",
      "def process_file_wrapper(args):\r\n",
      "    return process_file(*args)\r\n",
      "\r\n",
      "\r\n",
      "nexrad_dir = \"/depot/dawson29/data/Projects/PERiLS/obsdata/2022/NEXRAD/\"\r\n",
      "data_files = get_nexrad_data_files(\"20220330220000\", \"20220331040000\")\r\n",
      "\r\n",
      "# Create a pool of worker processes with 100 CPUs\r\n",
      "pool = mp.Pool(processes=100)\r\n",
      "\r\n",
      "# Map the data files to the process_file function to process them in parallel\r\n",
      "results = pool.map(process_file_wrapper, [(nexrad_dir, f) for f in data_files])\r\n",
      "\r\n",
      "# Close the pool of worker processes\r\n",
      "pool.close()\r\n",
      "pool.join()\r\n",
      "\r\n"
     ]
    }
   ],
   "source": [
    "!cat parallel_gridding.py"
   ]
  },
  {
   "cell_type": "code",
   "execution_count": null,
   "id": "865eb1da",
   "metadata": {},
   "outputs": [],
   "source": []
  },
  {
   "cell_type": "code",
   "execution_count": 4,
   "id": "8f8cb7c6",
   "metadata": {},
   "outputs": [],
   "source": [
    "import warnings\n",
    "warnings.filterwarnings(\"ignore\")\n",
    "import pyart\n",
    "import numpy as np\n",
    "from pyart.retrieve import get_freq_band\n",
    "from matplotlib import pyplot as plt\n",
    "import glob, os\n",
    "from datetime import datetime\n",
    "import time\n",
    "import xarray as xr\n",
    "# from pymeso import llsd\n",
    "# import scipy"
   ]
  },
  {
   "cell_type": "code",
   "execution_count": 5,
   "id": "8ea45c68",
   "metadata": {},
   "outputs": [],
   "source": [
    "kgwx = \"/depot/dawson29/data/Projects/PERiLS/obsdata/2022/NEXRAD/GRID_DASK/IOP2/KGWX/\""
   ]
  },
  {
   "cell_type": "code",
   "execution_count": 6,
   "id": "0c57520a",
   "metadata": {},
   "outputs": [],
   "source": [
    "filess = glob.glob(kgwx+\"*\")"
   ]
  },
  {
   "cell_type": "raw",
   "id": "b4ddeb8a",
   "metadata": {},
   "source": [
    "# loop through first two files in filess\n",
    "for file in filess:\n",
    "    # extract filename from file path and print it\n",
    "    filename = file.split(\"/\")[-1]\n",
    "    print(f\"Processing file: {filename}\")\n",
    "    \n",
    "    ds = xr.open_dataset(file)\n",
    "    print(f\"Dimensions of {filename}: {ds.dims}\")\n",
    "    \n",
    "#     # print variable names in the dataset\n",
    "#     print(f\"Variables in {filename}: {list(ds.variables.keys())}\")\n",
    "    \n",
    "    print(f\"\\n\")"
   ]
  },
  {
   "cell_type": "code",
   "execution_count": null,
   "id": "5e540aeb",
   "metadata": {},
   "outputs": [],
   "source": [
    "# # Use list comprehension to read in each file and convert to xarray dataset.\n",
    "# grids = [pyart.io.read_grid(file).to_xarray() for file in filess]\n",
    "# ds = xr.concat(grids, dim='time')"
   ]
  },
  {
   "cell_type": "code",
   "execution_count": 9,
   "id": "12c8fcd8",
   "metadata": {},
   "outputs": [
    {
     "data": {
      "text/plain": [
       "54"
      ]
     },
     "execution_count": 9,
     "metadata": {},
     "output_type": "execute_result"
    }
   ],
   "source": [
    "len(filess)"
   ]
  },
  {
   "cell_type": "code",
   "execution_count": 11,
   "id": "6aa7f145",
   "metadata": {},
   "outputs": [],
   "source": [
    "ds = xr.open_mfdataset(filess)"
   ]
  },
  {
   "cell_type": "code",
   "execution_count": 7,
   "id": "c7ad1191",
   "metadata": {},
   "outputs": [],
   "source": [
    "def rain_rate(ds, dbz='REF', a=300.0, b=1.4):\n",
    "    \"\"\"\n",
    "    Calculates the rain rate from the input reflectivity data using the Marshall-Palmer relation.\n",
    "\n",
    "    Parameters:\n",
    "    ds (xarray.Dataset): The input dataset.\n",
    "    dbz (str): The name of the variable containing the reflectivity data. Default value is 'REF'.\n",
    "    a (float): The coefficient 'a' in the Marshall-Palmer relation. Default value is 300.\n",
    "    b (float): The coefficient 'b' in the Marshall-Palmer relation. Default value is 1.4.\n",
    "\n",
    "    Returns:\n",
    "    xarray.Dataset: The input dataset with the new rain rate variable added.\n",
    "    \"\"\"\n",
    "    # Calculate the rain rate from the input reflectivity data using the Marshall-Palmer relation\n",
    "    z = 10.0 ** (ds[dbz] / 10.0)\n",
    "    rr = (z / a) ** (1.0 / b)\n",
    "    \n",
    "    # Add the new rain rate variable to the input dataset\n",
    "    ds['rain_rate'] = xr.DataArray(rr, dims=ds[dbz].dims, coords=ds[dbz].coords, name='rain_rate')\n",
    "    \n",
    "    return ds"
   ]
  },
  {
   "cell_type": "code",
   "execution_count": 12,
   "id": "6ba4dfc0",
   "metadata": {},
   "outputs": [],
   "source": [
    "ds = rain_rate(ds)"
   ]
  },
  {
   "cell_type": "code",
   "execution_count": 20,
   "id": "eceb926a",
   "metadata": {},
   "outputs": [
    {
     "data": {
      "text/plain": [
       "[<matplotlib.lines.Line2D at 0x2aca390df370>]"
      ]
     },
     "execution_count": 20,
     "metadata": {},
     "output_type": "execute_result"
    },
    {
     "data": {
      "image/png": "[encoded data removed]",
      "text/plain": [
       "<Figure size 640x480 with 1 Axes>"
      ]
     },
     "metadata": {},
     "output_type": "display_data"
    }
   ],
   "source": [
    "ds['rain_rate'].isel(z=3).mean(dim=['y','x']).plot()\n",
    "ds['rain_rate'].isel(z=0).mean(dim=['y','x']).plot()"
   ]
  },
  {
   "cell_type": "code",
   "execution_count": null,
   "id": "d0e80e6c",
   "metadata": {},
   "outputs": [],
   "source": []
  }
 ],
 "metadata": {
  "kernelspec": {
   "display_name": "Python (My perils Kernel)",
   "language": "python",
   "name": "perils"
  },
  "language_info": {
   "codemirror_mode": {
    "name": "ipython",
    "version": 3
   },
   "file_extension": ".py",
   "mimetype": "text/x-python",
   "name": "python",
   "nbconvert_exporter": "python",
   "pygments_lexer": "ipython3",
   "version": "3.10.8"
  }
 },
 "nbformat": 4,
 "nbformat_minor": 5
}
