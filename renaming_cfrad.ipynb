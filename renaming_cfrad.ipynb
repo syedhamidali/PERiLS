{
 "cells": [
  {
   "cell_type": "code",
   "execution_count": 1,
   "metadata": {},
   "outputs": [],
   "source": [
    "import warnings\n",
    "warnings.filterwarnings(\"ignore\")\n",
    "import numpy as np\n",
    "import os, glob\n",
    "import shutil\n",
    "from datetime import datetime, timedelta\n",
    "tstart = datetime.now()\n",
    "import pathlib"
   ]
  },
  {
   "cell_type": "code",
   "execution_count": 5,
   "metadata": {},
   "outputs": [],
   "source": [
    "data_dir = \"/Users/syed44/Downloads/Project/PERiLS/obsdata/2022/NEXRAD/IOP3/KMXX/20220405/\""
   ]
  },
  {
   "cell_type": "code",
   "execution_count": null,
   "metadata": {},
   "outputs": [],
   "source": []
  },
  {
   "cell_type": "code",
   "execution_count": 8,
   "metadata": {},
   "outputs": [],
   "source": [
    "new_files = sorted(glob.glob(data_dir+\"*\"))\n",
    "for file in new_files:\n",
    "#     print(file)\n",
    "#     print(\"KMXX\"+file.split(\"cfrad\")[-1][1:16]+\"_V06.nc\")\n",
    "    os.rename(file, data_dir+\"/\"+\"KMXX\"+file.split(\"cfrad\")[-1][1:16]+\"_V06.nc\")"
   ]
  },
  {
   "cell_type": "code",
   "execution_count": 10,
   "metadata": {
    "scrolled": true
   },
   "outputs": [
    {
     "data": {
      "text/plain": [
       "[]"
      ]
     },
     "execution_count": 10,
     "metadata": {},
     "output_type": "execute_result"
    }
   ],
   "source": [
    "new_files"
   ]
  },
  {
   "cell_type": "code",
   "execution_count": 9,
   "metadata": {},
   "outputs": [
    {
     "data": {
      "text/plain": [
       "'/Users/syed44/Downloads/Project/PERiLS/obsdata/2022/NEXRAD'"
      ]
     },
     "execution_count": 9,
     "metadata": {},
     "output_type": "execute_result"
    }
   ],
   "source": [
    "pwd"
   ]
  },
  {
   "cell_type": "code",
   "execution_count": 10,
   "metadata": {},
   "outputs": [
    {
     "name": "stdout",
     "output_type": "stream",
     "text": [
      "\u001b[34mIOP1\u001b[m\u001b[m/                        KMXX20220405_123040_V06.nc\r\n",
      "\u001b[34mIOP2\u001b[m\u001b[m/                        KMXX20220405_123748_V06.nc\r\n",
      "\u001b[34mIOP3\u001b[m\u001b[m/                        KMXX20220405_124457_V06.nc\r\n",
      "\u001b[34mIOP4\u001b[m\u001b[m/                        KMXX20220405_125158_V06.nc\r\n",
      "KMXX20220405_000331_V06.nc   KMXX20220405_125907_V06.nc\r\n",
      "KMXX20220405_000908_V06.nc   KMXX20220405_130616_V06.nc\r\n",
      "KMXX20220405_001436_V06.nc   KMXX20220405_131326_V06.nc\r\n",
      "KMXX20220405_001952_V06.nc   KMXX20220405_132035_V06.nc\r\n",
      "KMXX20220405_002507_V06.nc   KMXX20220405_132736_V06.nc\r\n",
      "KMXX20220405_003023_V06.nc   KMXX20220405_133429_V06.nc\r\n",
      "KMXX20220405_003601_V06.nc   KMXX20220405_134130_V06.nc\r\n",
      "KMXX20220405_004138_V06.nc   KMXX20220405_134807_V06.nc\r\n",
      "KMXX20220405_004715_V06.nc   KMXX20220405_135506_V06.nc\r\n",
      "KMXX20220405_005253_V06.nc   KMXX20220405_140205_V06.nc\r\n",
      "KMXX20220405_010128_V06.nc   KMXX20220405_140906_V06.nc\r\n",
      "KMXX20220405_011123_V06.nc   KMXX20220405_141524_V06.nc\r\n",
      "KMXX20220405_012008_V06.nc   KMXX20220405_142141_V06.nc\r\n",
      "KMXX20220405_012851_V06.nc   KMXX20220405_142757_V06.nc\r\n",
      "KMXX20220405_013734_V06.nc   KMXX20220405_143433_V06.nc\r\n",
      "KMXX20220405_014617_V06.nc   KMXX20220405_144059_V06.nc\r\n",
      "KMXX20220405_015500_V06.nc   KMXX20220405_144734_V06.nc\r\n",
      "KMXX20220405_020344_V06.nc   KMXX20220405_145409_V06.nc\r\n",
      "KMXX20220405_021228_V06.nc   KMXX20220405_150036_V06.nc\r\n",
      "KMXX20220405_022111_V06.nc   KMXX20220405_150653_V06.nc\r\n",
      "KMXX20220405_022953_V06.nc   KMXX20220405_151352_V06.nc\r\n",
      "KMXX20220405_023836_V06.nc   KMXX20220405_152009_V06.nc\r\n",
      "KMXX20220405_024720_V06.nc   KMXX20220405_152708_V06.nc\r\n",
      "KMXX20220405_025603_V06.nc   KMXX20220405_153354_V06.nc\r\n",
      "KMXX20220405_030447_V06.nc   KMXX20220405_154030_V06.nc\r\n",
      "KMXX20220405_031330_V06.nc   KMXX20220405_154657_V06.nc\r\n",
      "KMXX20220405_032213_V06.nc   KMXX20220405_155324_V06.nc\r\n",
      "KMXX20220405_032737_V06.nc   KMXX20220405_160024_V06.nc\r\n",
      "KMXX20220405_033315_V06.nc   KMXX20220405_160723_V06.nc\r\n",
      "KMXX20220405_033852_V06.nc   KMXX20220405_161359_V06.nc\r\n",
      "KMXX20220405_034428_V06.nc   KMXX20220405_162024_V06.nc\r\n",
      "KMXX20220405_035005_V06.nc   KMXX20220405_162651_V06.nc\r\n",
      "KMXX20220405_035542_V06.nc   KMXX20220405_163318_V06.nc\r\n",
      "KMXX20220405_040119_V06.nc   KMXX20220405_163936_V06.nc\r\n",
      "KMXX20220405_040656_V06.nc   KMXX20220405_164623_V06.nc\r\n",
      "KMXX20220405_041232_V06.nc   KMXX20220405_165309_V06.nc\r\n",
      "KMXX20220405_041809_V06.nc   KMXX20220405_165955_V06.nc\r\n",
      "KMXX20220405_042346_V06.nc   KMXX20220405_170640_V06.nc\r\n",
      "KMXX20220405_042923_V06.nc   KMXX20220405_171404_V06.nc\r\n",
      "KMXX20220405_043500_V06.nc   KMXX20220405_172105_V06.nc\r\n",
      "KMXX20220405_044036_V06.nc   KMXX20220405_172804_V06.nc\r\n",
      "KMXX20220405_044613_V06.nc   KMXX20220405_173422_V06.nc\r\n",
      "KMXX20220405_045150_V06.nc   KMXX20220405_174121_V06.nc\r\n",
      "KMXX20220405_045727_V06.nc   KMXX20220405_174737_V06.nc\r\n",
      "KMXX20220405_050304_V06.nc   KMXX20220405_175436_V06.nc\r\n",
      "KMXX20220405_050841_V06.nc   KMXX20220405_180122_V06.nc\r\n",
      "KMXX20220405_051417_V06.nc   KMXX20220405_180808_V06.nc\r\n",
      "KMXX20220405_051954_V06.nc   KMXX20220405_181455_V06.nc\r\n",
      "KMXX20220405_052531_V06.nc   KMXX20220405_182142_V06.nc\r\n",
      "KMXX20220405_053108_V06.nc   KMXX20220405_182842_V06.nc\r\n",
      "KMXX20220405_053644_V06.nc   KMXX20220405_183542_V06.nc\r\n",
      "KMXX20220405_054221_V06.nc   KMXX20220405_184242_V06.nc\r\n",
      "KMXX20220405_054758_V06.nc   KMXX20220405_184941_V06.nc\r\n",
      "KMXX20220405_055335_V06.nc   KMXX20220405_185641_V06.nc\r\n",
      "KMXX20220405_055912_V06.nc   KMXX20220405_190342_V06.nc\r\n",
      "KMXX20220405_060448_V06.nc   KMXX20220405_190959_V06.nc\r\n",
      "KMXX20220405_061025_V06.nc   KMXX20220405_191616_V06.nc\r\n",
      "KMXX20220405_061602_V06.nc   KMXX20220405_192232_V06.nc\r\n",
      "KMXX20220405_062139_V06.nc   KMXX20220405_192848_V06.nc\r\n",
      "KMXX20220405_062715_V06.nc   KMXX20220405_193504_V06.nc\r\n",
      "KMXX20220405_063253_V06.nc   KMXX20220405_194120_V06.nc\r\n",
      "KMXX20220405_064128_V06.nc   KMXX20220405_194736_V06.nc\r\n",
      "KMXX20220405_065012_V06.nc   KMXX20220405_195352_V06.nc\r\n",
      "KMXX20220405_065856_V06.nc   KMXX20220405_200009_V06.nc\r\n",
      "KMXX20220405_070740_V06.nc   KMXX20220405_200626_V06.nc\r\n",
      "KMXX20220405_071623_V06.nc   KMXX20220405_201253_V06.nc\r\n",
      "KMXX20220405_072507_V06.nc   KMXX20220405_201918_V06.nc\r\n",
      "KMXX20220405_073351_V06.nc   KMXX20220405_202544_V06.nc\r\n",
      "KMXX20220405_074234_V06.nc   KMXX20220405_203220_V06.nc\r\n",
      "KMXX20220405_075117_V06.nc   KMXX20220405_203846_V06.nc\r\n",
      "KMXX20220405_080000_V06.nc   KMXX20220405_204531_V06.nc\r\n",
      "KMXX20220405_080524_V06.nc   KMXX20220405_205217_V06.nc\r\n",
      "KMXX20220405_081101_V06.nc   KMXX20220405_205852_V06.nc\r\n",
      "KMXX20220405_081630_V06.nc   KMXX20220405_210551_V06.nc\r\n",
      "KMXX20220405_082158_V06.nc   KMXX20220405_211228_V06.nc\r\n",
      "KMXX20220405_082735_V06.nc   KMXX20220405_211904_V06.nc\r\n",
      "KMXX20220405_083303_V06.nc   KMXX20220405_212537_V06.nc\r\n",
      "KMXX20220405_083831_V06.nc   KMXX20220405_213154_V06.nc\r\n",
      "KMXX20220405_084353_V06.nc   KMXX20220405_213827_V06.nc\r\n",
      "KMXX20220405_084915_V06.nc   KMXX20220405_214513_V06.nc\r\n",
      "KMXX20220405_085437_V06.nc   KMXX20220405_215009_V06.nc\r\n",
      "KMXX20220405_090013_V06.nc   KMXX20220405_215559_V06.nc\r\n",
      "KMXX20220405_090542_V06.nc   KMXX20220405_220148_V06.nc\r\n",
      "KMXX20220405_091203_V06.nc   KMXX20220405_220819_V06.nc\r\n",
      "KMXX20220405_091715_V06.nc   KMXX20220405_221437_V06.nc\r\n",
      "KMXX20220405_092251_V06.nc   KMXX20220405_222054_V06.nc\r\n",
      "KMXX20220405_092803_V06.nc   KMXX20220405_222726_V06.nc\r\n",
      "KMXX20220405_093354_V06.nc   KMXX20220405_223343_V06.nc\r\n",
      "KMXX20220405_093920_V06.nc   KMXX20220405_224007_V06.nc\r\n",
      "KMXX20220405_094519_V06.nc   KMXX20220405_224708_V06.nc\r\n",
      "KMXX20220405_095134_V06.nc   KMXX20220405_225408_V06.nc\r\n",
      "KMXX20220405_095758_V06.nc   KMXX20220405_230108_V06.nc\r\n",
      "KMXX20220405_100437_V06.nc   KMXX20220405_230623_V06.nc\r\n",
      "KMXX20220405_101130_V06.nc   KMXX20220405_231155_V06.nc\r\n",
      "KMXX20220405_101818_V06.nc   KMXX20220405_231713_V06.nc\r\n",
      "KMXX20220405_102507_V06.nc   KMXX20220405_232216_V06.nc\r\n",
      "KMXX20220405_103149_V06.nc   KMXX20220405_232650_V06.nc\r\n",
      "KMXX20220405_103830_V06.nc   KMXX20220405_233125_V06.nc\r\n",
      "KMXX20220405_104513_V06.nc   KMXX20220405_233546_V06.nc\r\n",
      "KMXX20220405_105201_V06.nc   KMXX20220405_233952_V06.nc\r\n",
      "KMXX20220405_105911_V06.nc   KMXX20220405_234414_V06.nc\r\n",
      "KMXX20220405_110620_V06.nc   KMXX20220405_234826_V06.nc\r\n",
      "KMXX20220405_111329_V06.nc   KMXX20220405_235248_V06.nc\r\n",
      "KMXX20220405_112039_V06.nc   KMXX20220405_235710_V06.nc\r\n",
      "KMXX20220405_112749_V06.nc   \u001b[34mPlots\u001b[m\u001b[m/\r\n",
      "KMXX20220405_113449_V06.nc   \u001b[34mlevel3\u001b[m\u001b[m/\r\n",
      "KMXX20220405_114144_V06.nc   nexrad copy.py\r\n",
      "KMXX20220405_114832_V06.nc   nexrad.py\r\n",
      "KMXX20220405_115520_V06.nc   nexrad_download-Copy1.ipynb\r\n",
      "KMXX20220405_120203_V06.nc   nexrad_download.ipynb\r\n",
      "KMXX20220405_120912_V06.nc   renaming_cfrad.ipynb\r\n",
      "KMXX20220405_121622_V06.nc   renaming_cfrad.py\r\n",
      "KMXX20220405_122331_V06.nc\r\n"
     ]
    }
   ],
   "source": [
    "ls"
   ]
  },
  {
   "cell_type": "code",
   "execution_count": null,
   "metadata": {},
   "outputs": [],
   "source": []
  }
 ],
 "metadata": {
  "kernelspec": {
   "display_name": "Python 3 (ipykernel)",
   "language": "python",
   "name": "python3"
  },
  "language_info": {
   "codemirror_mode": {
    "name": "ipython",
    "version": 3
   },
   "file_extension": ".py",
   "mimetype": "text/x-python",
   "name": "python",
   "nbconvert_exporter": "python",
   "pygments_lexer": "ipython3",
   "version": "3.10.6"
  },
  "vscode": {
   "interpreter": {
    "hash": "cb2d55dadd71cea9596ecc35d3814a3b89c5962df92cef3da795a246f2234b31"
   }
  }
 },
 "nbformat": 4,
 "nbformat_minor": 2
}
